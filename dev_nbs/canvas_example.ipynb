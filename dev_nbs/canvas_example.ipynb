{
 "cells": [
  {
   "cell_type": "markdown",
   "id": "aa249893",
   "metadata": {},
   "source": [
    "# Canvas Group Example\n",
    "\n",
    "> Examples of a workflow of creating canvas groups."
   ]
  },
  {
   "cell_type": "code",
   "execution_count": 1,
   "id": "52894ace",
   "metadata": {
    "ExecuteTime": {
     "end_time": "2023-05-17T05:39:11.082932Z",
     "start_time": "2023-05-17T05:39:10.972733Z"
    }
   },
   "outputs": [],
   "source": [
    "#| hide\n",
    "from nbdev.showdoc import *"
   ]
  },
  {
   "cell_type": "code",
   "execution_count": 2,
   "id": "323925c9",
   "metadata": {
    "ExecuteTime": {
     "end_time": "2023-05-17T05:39:13.837810Z",
     "start_time": "2023-05-17T05:39:12.544347Z"
    }
   },
   "outputs": [],
   "source": [
    "# import module\n",
    "from CanvasGroupy.canvas import CanvasGroup"
   ]
  },
  {
   "cell_type": "markdown",
   "id": "9d7876db",
   "metadata": {},
   "source": [
    "# Canvas Authentication"
   ]
  },
  {
   "cell_type": "markdown",
   "id": "3794dbf8",
   "metadata": {},
   "source": [
    "All the credentials should be stored at a json file in the following format."
   ]
  },
  {
   "cell_type": "markdown",
   "id": "906998cf",
   "metadata": {},
   "source": [
    "If `API_KEY` and/or `course_id` was passed into the initializer, it will call the following methods to load the relevant information about your canvas and your canvas course."
   ]
  },
  {
   "cell_type": "code",
   "execution_count": 8,
   "id": "4cc5123f",
   "metadata": {
    "ExecuteTime": {
     "end_time": "2023-05-17T05:40:10.769511Z",
     "start_time": "2023-05-17T05:40:01.458538Z"
    }
   },
   "outputs": [
    {
     "name": "stdout",
     "output_type": "stream",
     "text": [
      "\u001B[92mAuthorization Successful!\u001B[0m\n",
      "Course Set: \u001B[92m COGS 118A - Supvr/Mach Learning Algorithms - Fleischer [SP23] \u001B[0m\n",
      "Getting List of Users... This might take a while...\n",
      "Users Fetch Complete! The course has \u001B[94m160\u001B[0m students.\n"
     ]
    }
   ],
   "source": [
    "credentials_fp = \"../credentials.json\"\n",
    "credentials_fp = \"../../credentials.json\" #| hide_line\n",
    "\n",
    "# instansiate a new Canvas Group Object \n",
    "# if your class size is large, it will take around 2 minutes to grab all student info.\n",
    "API_URL = \"https://canvas.ucsd.edu/\"\n",
    "\n",
    "# your canvas course id, found on the top of canvas url\n",
    "course_id = ...\n",
    "course_id = 45059 #| hide_line\n",
    "cg = CanvasGroup(credentials_fp,\n",
    "                 API_URL,\n",
    "                 course_id=course_id,\n",
    "                 verbosity=1)"
   ]
  },
  {
   "cell_type": "markdown",
   "id": "3ff7a6d8",
   "metadata": {},
   "source": [
    "# Create / Assign Group in One Call"
   ]
  },
  {
   "cell_type": "code",
   "execution_count": null,
   "id": "9bbb6379",
   "metadata": {},
   "outputs": [
    {
     "data": {
      "text/markdown": [
       "---\n",
       "\n",
       "[source](https://github.com/FleischerResearchLab/CanvasGroupy/blob/main/CanvasGroupy/canvas.py#LNone){target=\"_blank\" style=\"float:right; font-size:smaller\"}\n",
       "\n",
       "### CanvasGroup.assign_canvas_group\n",
       "\n",
       ">      CanvasGroup.assign_canvas_group (group_name:str,\n",
       ">                                       group_members:[<class'str'>],\n",
       ">                                       in_group_category:str)\n",
       "\n",
       "Create new groups and assign group member into the class in the `self.group_category`\n",
       "\n",
       "|    | **Type** | **Details** |\n",
       "| -- | -------- | ----------- |\n",
       "| group_name | str | group name, display on canvas |\n",
       "| group_members | [<class 'str'>] | list of group member's SIS Login |\n",
       "| in_group_category | str | specify which group category the group belongs to |\n",
       "| **Returns** | **(<class 'canvasapi.group.Group'>, [<class 'str'>])** | **list of unsuccessful join** |"
      ],
      "text/plain": [
       "---\n",
       "\n",
       "[source](https://github.com/FleischerResearchLab/CanvasGroupy/blob/main/CanvasGroupy/canvas.py#LNone){target=\"_blank\" style=\"float:right; font-size:smaller\"}\n",
       "\n",
       "### CanvasGroup.assign_canvas_group\n",
       "\n",
       ">      CanvasGroup.assign_canvas_group (group_name:str,\n",
       ">                                       group_members:[<class'str'>],\n",
       ">                                       in_group_category:str)\n",
       "\n",
       "Create new groups and assign group member into the class in the `self.group_category`\n",
       "\n",
       "|    | **Type** | **Details** |\n",
       "| -- | -------- | ----------- |\n",
       "| group_name | str | group name, display on canvas |\n",
       "| group_members | [<class 'str'>] | list of group member's SIS Login |\n",
       "| in_group_category | str | specify which group category the group belongs to |\n",
       "| **Returns** | **(<class 'canvasapi.group.Group'>, [<class 'str'>])** | **list of unsuccessful join** |"
      ]
     },
     "execution_count": null,
     "metadata": {},
     "output_type": "execute_result"
    }
   ],
   "source": [
    "show_doc(CanvasGroup.assign_canvas_group)"
   ]
  },
  {
   "cell_type": "markdown",
   "id": "45747c0f",
   "metadata": {},
   "source": [
    "In this way, we could directly create canvas group by specifying the group name, members info, and the group category directly."
   ]
  },
  {
   "cell_type": "code",
   "execution_count": null,
   "id": "3453345d",
   "metadata": {},
   "outputs": [],
   "source": [
    "cat = cg.create_group_category(\"Test\")"
   ]
  },
  {
   "cell_type": "code",
   "execution_count": null,
   "id": "c5f5a9ce",
   "metadata": {},
   "outputs": [
    {
     "ename": "KeyError",
     "evalue": "'Test did not found in the group categories. Try to create one with CanvasGroup.create_group_category'",
     "output_type": "error",
     "traceback": [
      "\u001B[0;31m---------------------------------------------------------------------------\u001B[0m",
      "\u001B[0;31mKeyError\u001B[0m                                  Traceback (most recent call last)",
      "File \u001B[0;32m~/Desktop/SP23_Working/Group_Eng/CanvasGroupy/CanvasGroupy/canvas.py:102\u001B[0m, in \u001B[0;36mCanvasGroup.set_group_category\u001B[0;34m(self, category_name)\u001B[0m\n\u001B[1;32m    101\u001B[0m \u001B[38;5;28;01mtry\u001B[39;00m:\n\u001B[0;32m--> 102\u001B[0m     \u001B[38;5;28mself\u001B[39m\u001B[38;5;241m.\u001B[39mgroup_category \u001B[38;5;241m=\u001B[39m \u001B[38;5;28;43mself\u001B[39;49m\u001B[38;5;241;43m.\u001B[39;49m\u001B[43mgroup_categories\u001B[49m\u001B[43m[\u001B[49m\u001B[43mcategory_name\u001B[49m\u001B[43m]\u001B[49m\n\u001B[1;32m    103\u001B[0m \u001B[38;5;28;01mexcept\u001B[39;00m \u001B[38;5;167;01mKeyError\u001B[39;00m:\n",
      "\u001B[0;31mKeyError\u001B[0m: 'Test'",
      "\nDuring handling of the above exception, another exception occurred:\n",
      "\u001B[0;31mKeyError\u001B[0m                                  Traceback (most recent call last)",
      "Input \u001B[0;32mIn [5]\u001B[0m, in \u001B[0;36m<cell line: 3>\u001B[0;34m()\u001B[0m\n\u001B[1;32m      1\u001B[0m member1 \u001B[38;5;241m=\u001B[39m \u001B[38;5;124m\"\u001B[39m\u001B[38;5;124memail\u001B[39m\u001B[38;5;124m\"\u001B[39m\n\u001B[1;32m      2\u001B[0m member1 \u001B[38;5;241m=\u001B[39m \u001B[38;5;124m\"\u001B[39m\u001B[38;5;124mgrader-cogs118a-01\u001B[39m\u001B[38;5;124m\"\u001B[39m \u001B[38;5;66;03m#| hide_line\u001B[39;00m\n\u001B[0;32m----> 3\u001B[0m group, unsuccessful \u001B[38;5;241m=\u001B[39m \u001B[43mcg\u001B[49m\u001B[38;5;241;43m.\u001B[39;49m\u001B[43massign_canvas_group\u001B[49m\u001B[43m(\u001B[49m\n\u001B[1;32m      4\u001B[0m \u001B[43m    \u001B[49m\u001B[43mgroup_name\u001B[49m\u001B[38;5;241;43m=\u001B[39;49m\u001B[38;5;124;43m\"\u001B[39;49m\u001B[38;5;124;43mTestGroup000\u001B[39;49m\u001B[38;5;124;43m\"\u001B[39;49m\u001B[43m,\u001B[49m\u001B[43m \u001B[49m\n\u001B[1;32m      5\u001B[0m \u001B[43m    \u001B[49m\u001B[43mgroup_members\u001B[49m\u001B[38;5;241;43m=\u001B[39;49m\u001B[43m[\u001B[49m\u001B[43mmember1\u001B[49m\u001B[43m]\u001B[49m\u001B[43m,\u001B[49m\u001B[43m \u001B[49m\n\u001B[1;32m      6\u001B[0m \u001B[43m    \u001B[49m\u001B[43min_group_category\u001B[49m\u001B[38;5;241;43m=\u001B[39;49m\u001B[38;5;124;43m\"\u001B[39;49m\u001B[38;5;124;43mTest\u001B[39;49m\u001B[38;5;124;43m\"\u001B[39;49m\n\u001B[1;32m      7\u001B[0m \u001B[43m)\u001B[49m\n\u001B[1;32m      9\u001B[0m \u001B[38;5;28;01massert\u001B[39;00m \u001B[38;5;28mlen\u001B[39m(unsuccessful)\u001B[38;5;241m==\u001B[39m\u001B[38;5;241m0\u001B[39m\n",
      "File \u001B[0;32m~/Desktop/SP23_Working/Group_Eng/CanvasGroupy/CanvasGroupy/canvas.py:278\u001B[0m, in \u001B[0;36mCanvasGroup.assign_canvas_group\u001B[0;34m(self, group_name, group_members, in_group_category)\u001B[0m\n\u001B[1;32m    272\u001B[0m \u001B[38;5;28;01mdef\u001B[39;00m \u001B[38;5;21massign_canvas_group\u001B[39m(\u001B[38;5;28mself\u001B[39m,\n\u001B[1;32m    273\u001B[0m                         group_name: \u001B[38;5;28mstr\u001B[39m, \u001B[38;5;66;03m# group name, display on canvas\u001B[39;00m\n\u001B[1;32m    274\u001B[0m                         group_members:[\u001B[38;5;28mstr\u001B[39m], \u001B[38;5;66;03m# list of group member's SIS Login\u001B[39;00m\n\u001B[1;32m    275\u001B[0m                         in_group_category: \u001B[38;5;28mstr\u001B[39m, \u001B[38;5;66;03m# specify which group category the group belongs to\u001B[39;00m\n\u001B[1;32m    276\u001B[0m                        ) \u001B[38;5;241m-\u001B[39m\u001B[38;5;241m>\u001B[39m (canvasapi\u001B[38;5;241m.\u001B[39mgroup\u001B[38;5;241m.\u001B[39mGroup, [\u001B[38;5;28mstr\u001B[39m]): \u001B[38;5;66;03m# list of unsuccessful join\u001B[39;00m\n\u001B[1;32m    277\u001B[0m     \u001B[38;5;124m\"\u001B[39m\u001B[38;5;124mCreate new groups and assign group member into the class in the `self.group_category`\u001B[39m\u001B[38;5;124m\"\u001B[39m\n\u001B[0;32m--> 278\u001B[0m     \u001B[38;5;28;43mself\u001B[39;49m\u001B[38;5;241;43m.\u001B[39;49m\u001B[43mset_group_category\u001B[49m\u001B[43m(\u001B[49m\u001B[43min_group_category\u001B[49m\u001B[43m)\u001B[49m\n\u001B[1;32m    279\u001B[0m     group \u001B[38;5;241m=\u001B[39m \u001B[38;5;28mself\u001B[39m\u001B[38;5;241m.\u001B[39mcreate_group({\u001B[38;5;124m\"\u001B[39m\u001B[38;5;124mname\u001B[39m\u001B[38;5;124m\"\u001B[39m: group_name})\n\u001B[1;32m    280\u001B[0m     unsuccessful_join \u001B[38;5;241m=\u001B[39m \u001B[38;5;28mself\u001B[39m\u001B[38;5;241m.\u001B[39mjoin_canvas_group(group, group_members)\n",
      "File \u001B[0;32m~/Desktop/SP23_Working/Group_Eng/CanvasGroupy/CanvasGroupy/canvas.py:104\u001B[0m, in \u001B[0;36mCanvasGroup.set_group_category\u001B[0;34m(self, category_name)\u001B[0m\n\u001B[1;32m    102\u001B[0m     \u001B[38;5;28mself\u001B[39m\u001B[38;5;241m.\u001B[39mgroup_category \u001B[38;5;241m=\u001B[39m \u001B[38;5;28mself\u001B[39m\u001B[38;5;241m.\u001B[39mgroup_categories[category_name]\n\u001B[1;32m    103\u001B[0m \u001B[38;5;28;01mexcept\u001B[39;00m \u001B[38;5;167;01mKeyError\u001B[39;00m:\n\u001B[0;32m--> 104\u001B[0m     \u001B[38;5;28;01mraise\u001B[39;00m \u001B[38;5;167;01mKeyError\u001B[39;00m(\u001B[38;5;124mf\u001B[39m\u001B[38;5;124m\"\u001B[39m\u001B[38;5;132;01m{\u001B[39;00mcategory_name\u001B[38;5;132;01m}\u001B[39;00m\u001B[38;5;124m did not found in the group categories. \u001B[39m\u001B[38;5;124m\"\u001B[39m\n\u001B[1;32m    105\u001B[0m                    \u001B[38;5;124mf\u001B[39m\u001B[38;5;124m\"\u001B[39m\u001B[38;5;124mTry to create one with CanvasGroup.create_group_category\u001B[39m\u001B[38;5;124m\"\u001B[39m)\n\u001B[1;32m    106\u001B[0m \u001B[38;5;28;01mreturn\u001B[39;00m \u001B[38;5;28mself\u001B[39m\u001B[38;5;241m.\u001B[39mgroup_category\n",
      "\u001B[0;31mKeyError\u001B[0m: 'Test did not found in the group categories. Try to create one with CanvasGroup.create_group_category'"
     ]
    }
   ],
   "source": [
    "cat = cg.create_group_category(\"Test\")\n",
    "member1 = \"email\"\n",
    "member1 = \"grader-cogs118a-01\" #| hide_line\n",
    "group, unsuccessful = cg.assign_canvas_group(\n",
    "    group_name=\"TestGroup000\", \n",
    "    group_members=[member1], \n",
    "    in_group_category=\"Test\"\n",
    ")\n",
    "\n",
    "assert len(unsuccessful)==0"
   ]
  },
  {
   "cell_type": "code",
   "execution_count": null,
   "id": "bbd463ec",
   "metadata": {},
   "outputs": [
    {
     "data": {
      "text/plain": [
       "Group(_requester=<canvasapi.requester.Requester object>, is_public=False, id=122853, name=TestGroup000, created_at=2023-04-27T23:28:55Z, created_at_date=2023-04-27 23:28:55+00:00, max_membership=None, join_level=invitation_only, group_category_id=16281, description=None, members_count=1, storage_quota_mb=1024, storage_quota_mb_date=1024-01-01 00:00:00+00:00, context_type=Course, course_id=45059, avatar_url=None, role=None, leader=None, has_submission=False, concluded=False)"
      ]
     },
     "execution_count": null,
     "metadata": {},
     "output_type": "execute_result"
    }
   ],
   "source": [
    "#| hide\n",
    "group.delete()"
   ]
  },
  {
   "cell_type": "markdown",
   "id": "e1f9f60c",
   "metadata": {},
   "source": [
    "Note that it will throw a Key Error if the target `in_group_category` did not exist in the course."
   ]
  },
  {
   "cell_type": "code",
   "execution_count": null,
   "id": "181b1be6",
   "metadata": {},
   "outputs": [
    {
     "ename": "KeyError",
     "evalue": "'Group Project 2 did not found in the group categories. Try to create one with CanvasGroup.create_group_category'",
     "output_type": "error",
     "traceback": [
      "\u001B[0;31m---------------------------------------------------------------------------\u001B[0m",
      "\u001B[0;31mKeyError\u001B[0m                                  Traceback (most recent call last)",
      "Cell \u001B[0;32mIn[51], line 73\u001B[0m, in \u001B[0;36mCanvasGroup.set_group_category\u001B[0;34m(self, category_name)\u001B[0m\n\u001B[1;32m     72\u001B[0m \u001B[38;5;28;01mtry\u001B[39;00m:\n\u001B[0;32m---> 73\u001B[0m     \u001B[38;5;28mself\u001B[39m\u001B[38;5;241m.\u001B[39mgroup_category \u001B[38;5;241m=\u001B[39m \u001B[38;5;28;43mself\u001B[39;49m\u001B[38;5;241;43m.\u001B[39;49m\u001B[43mgroup_categories\u001B[49m\u001B[43m[\u001B[49m\u001B[43mcategory_name\u001B[49m\u001B[43m]\u001B[49m\n\u001B[1;32m     74\u001B[0m \u001B[38;5;28;01mexcept\u001B[39;00m \u001B[38;5;167;01mKeyError\u001B[39;00m:\n",
      "\u001B[0;31mKeyError\u001B[0m: 'Group Project 2'",
      "\nDuring handling of the above exception, another exception occurred:\n",
      "\u001B[0;31mKeyError\u001B[0m                                  Traceback (most recent call last)",
      "Cell \u001B[0;32mIn[58], line 1\u001B[0m\n\u001B[0;32m----> 1\u001B[0m \u001B[43mcg\u001B[49m\u001B[38;5;241;43m.\u001B[39;49m\u001B[43massign_canvas_group\u001B[49m\u001B[43m(\u001B[49m\n\u001B[1;32m      2\u001B[0m \u001B[43m    \u001B[49m\u001B[43mgroup_name\u001B[49m\u001B[38;5;241;43m=\u001B[39;49m\u001B[38;5;124;43m\"\u001B[39;49m\u001B[38;5;124;43mFailed\u001B[39;49m\u001B[38;5;124;43m\"\u001B[39;49m\u001B[43m,\u001B[49m\n\u001B[1;32m      3\u001B[0m \u001B[43m    \u001B[49m\u001B[43mgroup_members\u001B[49m\u001B[38;5;241;43m=\u001B[39;49m\u001B[43m[\u001B[49m\u001B[43mmember1\u001B[49m\u001B[43m]\u001B[49m\u001B[43m,\u001B[49m\n\u001B[1;32m      4\u001B[0m \u001B[43m    \u001B[49m\u001B[43min_group_category\u001B[49m\u001B[38;5;241;43m=\u001B[39;49m\u001B[38;5;124;43m\"\u001B[39;49m\u001B[38;5;124;43mGroup Project 2\u001B[39;49m\u001B[38;5;124;43m\"\u001B[39;49m\n\u001B[1;32m      5\u001B[0m \u001B[43m)\u001B[49m\n",
      "Cell \u001B[0;32mIn[51], line 187\u001B[0m, in \u001B[0;36mCanvasGroup.assign_canvas_group\u001B[0;34m(self, group_name, group_members, in_group_category)\u001B[0m\n\u001B[1;32m    181\u001B[0m \u001B[38;5;28;01mdef\u001B[39;00m \u001B[38;5;21massign_canvas_group\u001B[39m(\u001B[38;5;28mself\u001B[39m,\n\u001B[1;32m    182\u001B[0m                         group_name: \u001B[38;5;28mstr\u001B[39m, \u001B[38;5;66;03m# group name, display on canvas\u001B[39;00m\n\u001B[1;32m    183\u001B[0m                         group_members:[\u001B[38;5;28mstr\u001B[39m], \u001B[38;5;66;03m# list of group member's SIS Login\u001B[39;00m\n\u001B[1;32m    184\u001B[0m                         in_group_category: \u001B[38;5;28mstr\u001B[39m, \u001B[38;5;66;03m# specify which group category the group belongs to\u001B[39;00m\n\u001B[1;32m    185\u001B[0m                        ) \u001B[38;5;241m-\u001B[39m\u001B[38;5;241m>\u001B[39m (canvasapi\u001B[38;5;241m.\u001B[39mgroup\u001B[38;5;241m.\u001B[39mGroup, [\u001B[38;5;28mstr\u001B[39m]): \u001B[38;5;66;03m# list of unsuccessful join\u001B[39;00m\n\u001B[1;32m    186\u001B[0m     \u001B[38;5;124m\"\u001B[39m\u001B[38;5;124mCreate new groups and assign group member into the class in the `self.group_category`\u001B[39m\u001B[38;5;124m\"\u001B[39m\n\u001B[0;32m--> 187\u001B[0m     \u001B[38;5;28;43mself\u001B[39;49m\u001B[38;5;241;43m.\u001B[39;49m\u001B[43mset_group_category\u001B[49m\u001B[43m(\u001B[49m\u001B[43min_group_category\u001B[49m\u001B[43m)\u001B[49m\n\u001B[1;32m    188\u001B[0m     group \u001B[38;5;241m=\u001B[39m \u001B[38;5;28mself\u001B[39m\u001B[38;5;241m.\u001B[39mcreate_group({\u001B[38;5;124m\"\u001B[39m\u001B[38;5;124mname\u001B[39m\u001B[38;5;124m\"\u001B[39m: group_name})\n\u001B[1;32m    189\u001B[0m     unsuccessful_join \u001B[38;5;241m=\u001B[39m \u001B[38;5;28mself\u001B[39m\u001B[38;5;241m.\u001B[39mjoin_canvas_group(group, group_members)\n",
      "Cell \u001B[0;32mIn[51], line 75\u001B[0m, in \u001B[0;36mCanvasGroup.set_group_category\u001B[0;34m(self, category_name)\u001B[0m\n\u001B[1;32m     73\u001B[0m     \u001B[38;5;28mself\u001B[39m\u001B[38;5;241m.\u001B[39mgroup_category \u001B[38;5;241m=\u001B[39m \u001B[38;5;28mself\u001B[39m\u001B[38;5;241m.\u001B[39mgroup_categories[category_name]\n\u001B[1;32m     74\u001B[0m \u001B[38;5;28;01mexcept\u001B[39;00m \u001B[38;5;167;01mKeyError\u001B[39;00m:\n\u001B[0;32m---> 75\u001B[0m     \u001B[38;5;28;01mraise\u001B[39;00m \u001B[38;5;167;01mKeyError\u001B[39;00m(\u001B[38;5;124mf\u001B[39m\u001B[38;5;124m\"\u001B[39m\u001B[38;5;132;01m{\u001B[39;00mcategory_name\u001B[38;5;132;01m}\u001B[39;00m\u001B[38;5;124m did not found in the group categories. \u001B[39m\u001B[38;5;124m\"\u001B[39m\n\u001B[1;32m     76\u001B[0m                    \u001B[38;5;124mf\u001B[39m\u001B[38;5;124m\"\u001B[39m\u001B[38;5;124mTry to create one with CanvasGroup.create_group_category\u001B[39m\u001B[38;5;124m\"\u001B[39m)\n\u001B[1;32m     77\u001B[0m \u001B[38;5;28;01mreturn\u001B[39;00m \u001B[38;5;28mself\u001B[39m\u001B[38;5;241m.\u001B[39mgroup_category\n",
      "\u001B[0;31mKeyError\u001B[0m: 'Group Project 2 did not found in the group categories. Try to create one with CanvasGroup.create_group_category'"
     ]
    }
   ],
   "source": [
    "cg.assign_canvas_group(\n",
    "    group_name=\"Failed\",\n",
    "    group_members=[member1],\n",
    "    in_group_category=\"Group Project 2\"\n",
    ")"
   ]
  },
  {
   "cell_type": "markdown",
   "id": "bc630b44",
   "metadata": {},
   "source": [
    "## Fetch Students' GitHub username"
   ]
  },
  {
   "cell_type": "code",
   "execution_count": null,
   "id": "3a4a5e52",
   "metadata": {},
   "outputs": [
    {
     "data": {
      "text/markdown": [
       "---\n",
       "\n",
       "[source](https://github.com/FleischerResearchLab/CanvasGroupy/blob/main/CanvasGroupy/canvas.py#L150){target=\"_blank\" style=\"float:right; font-size:smaller\"}\n",
       "\n",
       "### CanvasGroup.fetch_username_from_quiz\n",
       "\n",
       ">      CanvasGroup.fetch_username_from_quiz (quiz_id:int,\n",
       ">                                            csv_name='github_id.csv',\n",
       ">                                            col_index=7)\n",
       "\n",
       "Fetch the GitHub user name from the canvas quiz\n",
       "\n",
       "|    | **Type** | **Default** | **Details** |\n",
       "| -- | -------- | ----------- | ----------- |\n",
       "| quiz_id | int |  | quiz id of the username quiz |\n",
       "| csv_name | str | github_id.csv | csv output name. |\n",
       "| col_index | int | 7 | canvas quiz generated csv's question field column index |\n",
       "| **Returns** | **dict** |  | **{SIS Login ID: github} dictionary** |"
      ],
      "text/plain": [
       "---\n",
       "\n",
       "[source](https://github.com/FleischerResearchLab/CanvasGroupy/blob/main/CanvasGroupy/canvas.py#L150){target=\"_blank\" style=\"float:right; font-size:smaller\"}\n",
       "\n",
       "### CanvasGroup.fetch_username_from_quiz\n",
       "\n",
       ">      CanvasGroup.fetch_username_from_quiz (quiz_id:int,\n",
       ">                                            csv_name='github_id.csv',\n",
       ">                                            col_index=7)\n",
       "\n",
       "Fetch the GitHub user name from the canvas quiz\n",
       "\n",
       "|    | **Type** | **Default** | **Details** |\n",
       "| -- | -------- | ----------- | ----------- |\n",
       "| quiz_id | int |  | quiz id of the username quiz |\n",
       "| csv_name | str | github_id.csv | csv output name. |\n",
       "| col_index | int | 7 | canvas quiz generated csv's question field column index |\n",
       "| **Returns** | **dict** |  | **{SIS Login ID: github} dictionary** |"
      ]
     },
     "execution_count": null,
     "metadata": {},
     "output_type": "execute_result"
    }
   ],
   "source": [
    "show_doc(CanvasGroup.fetch_username_from_quiz)"
   ]
  },
  {
   "cell_type": "markdown",
   "id": "3afdedeb",
   "metadata": {},
   "source": [
    "An example of the quiz question looks like the followings\n",
    "\n",
    "![quiz_screenshot](imgs/quiz_example.png) \n",
    "\n",
    "On canvas, this is a _fill in the blank_ question with the following raw format: \n",
    "\n",
    "![quiz_raw](imgs/raw_question.png)"
   ]
  },
  {
   "cell_type": "code",
   "execution_count": null,
   "id": "2eb5a58c",
   "metadata": {},
   "outputs": [
    {
     "name": "stdout",
     "output_type": "stream",
     "text": [
      "Quiz: \u001B[92mGitHub ID\u001B[0m fetch! \n",
      "Generating Student Analaysis...\n",
      "[====================] 100%\n",
      "\u001B[92mReport Generated!\u001B[0m\n",
      "The Question asked is \u001B[94m1389031: What is your GitHub ID? Absolutely No Typo Please.\u001B[0m. \n",
      "Make sure this is the correct question where you asked student for their GitHub id.\n",
      "If you need to change the index of columns, change the col_index argument of this call.\n"
     ]
    }
   ],
   "source": [
    "quiz_id = 139061\n",
    "github_ids = cg.fetch_username_from_quiz(\n",
    "    quiz_id=quiz_id\n",
    ")"
   ]
  },
  {
   "cell_type": "code",
   "execution_count": null,
   "id": "9a73f573",
   "metadata": {},
   "outputs": [
    {
     "ename": "NameError",
     "evalue": "name 'show_doc' is not defined",
     "output_type": "error",
     "traceback": [
      "\u001B[0;31m---------------------------------------------------------------------------\u001B[0m",
      "\u001B[0;31mNameError\u001B[0m                                 Traceback (most recent call last)",
      "Input \u001B[0;32mIn [1]\u001B[0m, in \u001B[0;36m<cell line: 1>\u001B[0;34m()\u001B[0m\n\u001B[0;32m----> 1\u001B[0m \u001B[43mshow_doc\u001B[49m(CanvasGroup\u001B[38;5;241m.\u001B[39mcheck_github_usernames)\n",
      "\u001B[0;31mNameError\u001B[0m: name 'show_doc' is not defined"
     ]
    }
   ],
   "source": [
    "show_doc(CanvasGroup.check_github_usernames)"
   ]
  },
  {
   "cell_type": "code",
   "execution_count": null,
   "id": "5b7c2d99",
   "metadata": {},
   "outputs": [
    {
     "name": "stdout",
     "output_type": "stream",
     "text": [
      "User: \u001B[93m64987902\u001B[0m Not Found on GitHub\n",
      "User: \u001B[93m122977555\u001B[0m Not Found on GitHub\n",
      "User: \u001B[93m10285923\u001B[0m Not Found on GitHub\n"
     ]
    },
    {
     "data": {
      "text/plain": [
       "{'gng': '64987902', 'y3guo': '122977555', 'nyanekch': '10285923'}"
      ]
     },
     "execution_count": null,
     "metadata": {},
     "output_type": "execute_result"
    }
   ],
   "source": [
    "cg.check_github_usernames(github_name,\n",
    "                          True,\n",
    "                          True,\n",
    "                          \"https://canvas.ucsd.edu/courses/45059/quizzes/139061\")"
   ]
  },
  {
   "cell_type": "markdown",
   "id": "dd12991b",
   "metadata": {},
   "source": [
    "Since some students did not put their github username correctly."
   ]
  }
 ],
 "metadata": {
  "kernelspec": {
   "display_name": "python3",
   "language": "python",
   "name": "python3"
  }
 },
 "nbformat": 4,
 "nbformat_minor": 5
}
