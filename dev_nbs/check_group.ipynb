{
 "cells": [
  {
   "cell_type": "code",
   "execution_count": 1,
   "metadata": {
    "collapsed": true,
    "ExecuteTime": {
     "start_time": "2023-05-17T10:42:29.468758Z",
     "end_time": "2023-05-17T10:42:29.861761Z"
    }
   },
   "outputs": [],
   "source": [
    "from CanvasGroupy import *"
   ]
  },
  {
   "cell_type": "code",
   "execution_count": 5,
   "outputs": [
    {
     "name": "stdout",
     "output_type": "stream",
     "text": [
      "\u001B[92mAuthorization Successful!\u001B[0m\n",
      "Course Set: \u001B[92m COGS 118A - Supvr/Mach Learning Algorithms - Fleischer [SP23] \u001B[0m\n",
      "Getting List of Users... This might take a while...\n",
      "Users Fetch Complete! The course has \u001B[94m160\u001B[0m students.\n"
     ]
    }
   ],
   "source": [
    "canvas = CanvasGroup(\"../../credentials.json\",\n",
    "                     course_id=45059\n",
    "                     )"
   ],
   "metadata": {
    "collapsed": false,
    "ExecuteTime": {
     "start_time": "2023-05-17T10:43:13.025144Z",
     "end_time": "2023-05-17T10:43:17.051486Z"
    }
   }
  },
  {
   "cell_type": "code",
   "execution_count": 6,
   "outputs": [],
   "source": [
    "groups = canvas.get_groups(\"Final Project\")"
   ],
   "metadata": {
    "collapsed": false,
    "ExecuteTime": {
     "start_time": "2023-05-17T10:43:30.089084Z",
     "end_time": "2023-05-17T10:43:41.328822Z"
    }
   }
  },
  {
   "cell_type": "code",
   "execution_count": 7,
   "outputs": [
    {
     "data": {
      "text/plain": "{'Group001-SP23': ['h5he', 'zmao', 'xiw013', 'j6wen', 'j5zhu'],\n 'Group002-SP23': ['cmcmanig', 'jup006', 'ssuthar', 'd3yu'],\n 'Group003-SP23': ['yic055', 'yuz191', 'xiz068'],\n 'Group004-SP23': ['dac020', 'nilu', 'tyap', 'g6zhu'],\n 'Group005-SP23': ['kechen', 'a8chu', 'cdelira', 'wolee', 'arshukla'],\n 'Group006-SP23': ['ax008707', 'ax008724', 'ax008777'],\n 'Group007-SP23': ['yuchi', 'j3dong', 'y3ge', 'x6he', 'xiz031'],\n 'Group008-SP23': ['zifeng', 'ax008740', 'jul121', 'yuy047'],\n 'Group009-SP23': ['ax008573', 'ckavanagh', 'v1lu', 'vvishnus'],\n 'Group010-SP23': ['jwc002', 'tjamal', 'jsliang', 'tdn003'],\n 'Group011-SP23': ['khchuang', 'emdavis', 'jejiang', 'nrejai'],\n 'Group012-SP23': ['afleschn', 'rlharsono', 'jjsanchez', 'asengupt'],\n 'Group013-SP23': ['kehu', 'jnhuang', 'shperry', 'alvalenc'],\n 'Group014-SP23': ['gsroberts', 'cvillafa', 'shw089', 'yiz095'],\n 'Group015-SP23': ['aanna', 'sdsilva', 'asivayog', 'nyanekch'],\n 'Group016-SP23': ['yuche', 'y3guo', 'e1hu', 'zhl023', 'qil012'],\n 'Group017-SP23': ['s3chowdhury', 'llennema', 'psodhi', 'svirk'],\n 'Group018-SP23': ['ajcagle', 'ahewig', 's2malik', 'mnodini', 'musman'],\n 'Group019-SP23': ['sasingh', 'nsit', 'dsun'],\n 'Group020-SP23': ['akaji', 'm1manzan', 'j3mendez', 'mpareek', 'atrapena'],\n 'Group021-SP23': ['jkrentse', 'jmlai', 'zel012', 'sserafin'],\n 'Group022-SP23': ['ax008708', 'anc024', 'gng', 'reyang'],\n 'Group023-SP23': ['raguinakang', 'phelcl', 'vjayanan', 'crochez', 'kpstern'],\n 'Group024-SP23': ['nabansal', 'ccaban', 'mvfang', 'asim'],\n 'Group025-SP23': ['nschaefe', 'hshaikh', 'jww001', 'bjyan'],\n 'Group026-SP23': ['e1dong', 'aaolivas', 'h5park', 'yuz821'],\n 'Group027-SP23': ['jddeleon', 'ndnguyen', 'ttp007', 'jzs002'],\n 'Group028-SP23': ['shc007', 'yuh045', 'ktnakai', 'jonza'],\n 'Group029-SP23': ['lmitbo', 'jsalce', 'lskerrett', 'jubamadu'],\n 'Group030-SP23': ['ruc003', 'shh035', 'btn003', 'knino'],\n 'Group031-SP23': ['n6garcia', 'ken010', 'mmpak'],\n 'Group032-SP23': ['zachao', 'smurase', 'j1xu', 'z5zhang'],\n 'Group033-SP23': ['sbodhisartha', 'ndeepak', 'arlu', 'trucker', 'jaxu'],\n 'Group034-SP23': ['kabalaji', 'rchaklas', 'vspillai', 'jmvillal'],\n 'Group035-SP23': ['cantoniohernandez', 'rpuranam', 'rsedano', 'zshao'],\n 'Group036-SP23': ['malkhalifah', 'djjani', 'rkohli', 'smtrived'],\n 'Group037-SP23': ['nazpeitia', 'g2hong', 'gkweon'],\n 'Group038-SP23': ['qil016', 'msherrick', 'yiw085', 'r4zhou'],\n 'Group039-SP23': ['cgutierrezgodoy', 'z8jiang', 'dar005', 'jtaolan']}"
     },
     "execution_count": 7,
     "metadata": {},
     "output_type": "execute_result"
    }
   ],
   "source": [
    "groups"
   ],
   "metadata": {
    "collapsed": false,
    "ExecuteTime": {
     "start_time": "2023-05-17T10:43:41.328356Z",
     "end_time": "2023-05-17T10:43:41.339791Z"
    }
   }
  },
  {
   "cell_type": "code",
   "execution_count": 9,
   "outputs": [
    {
     "data": {
      "text/plain": "['shc007', 'yuh045', 'ktnakai', 'jonza']"
     },
     "execution_count": 9,
     "metadata": {},
     "output_type": "execute_result"
    }
   ],
   "source": [
    "groups[\"Group028-SP23\"]"
   ],
   "metadata": {
    "collapsed": false,
    "ExecuteTime": {
     "start_time": "2023-05-17T11:02:31.003593Z",
     "end_time": "2023-05-17T11:02:31.006615Z"
    }
   }
  },
  {
   "cell_type": "code",
   "execution_count": 8,
   "outputs": [
    {
     "name": "stdout",
     "output_type": "stream",
     "text": [
      "Group028-SP23\n"
     ]
    }
   ],
   "source": [
    "for name, member in groups.items():\n",
    "    if \"shc007\" in member:\n",
    "        print(name)"
   ],
   "metadata": {
    "collapsed": false,
    "ExecuteTime": {
     "start_time": "2023-05-17T10:44:13.317255Z",
     "end_time": "2023-05-17T10:44:13.322522Z"
    }
   }
  },
  {
   "cell_type": "code",
   "execution_count": null,
   "outputs": [],
   "source": [],
   "metadata": {
    "collapsed": false
   }
  }
 ],
 "metadata": {
  "kernelspec": {
   "display_name": "Python 3",
   "language": "python",
   "name": "python3"
  },
  "language_info": {
   "codemirror_mode": {
    "name": "ipython",
    "version": 2
   },
   "file_extension": ".py",
   "mimetype": "text/x-python",
   "name": "python",
   "nbconvert_exporter": "python",
   "pygments_lexer": "ipython2",
   "version": "2.7.6"
  }
 },
 "nbformat": 4,
 "nbformat_minor": 0
}
