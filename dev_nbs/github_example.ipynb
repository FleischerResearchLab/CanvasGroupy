{
 "cells": [
  {
   "cell_type": "markdown",
   "id": "ef7578d4",
   "metadata": {},
   "source": [
    "# GitHub Group Example\n",
    "\n",
    "> A step by step example of using the GitHub Group Module"
   ]
  },
  {
   "cell_type": "code",
   "execution_count": 1,
   "id": "d54b9d44",
   "metadata": {
    "ExecuteTime": {
     "end_time": "2023-05-18T00:09:54.444030Z",
     "start_time": "2023-05-18T00:09:53.309030Z"
    }
   },
   "outputs": [],
   "source": [
    "from CanvasGroupy import *"
   ]
  },
  {
   "cell_type": "code",
   "execution_count": 2,
   "id": "dcc397e6",
   "metadata": {
    "ExecuteTime": {
     "end_time": "2023-05-18T00:09:55.557700Z",
     "start_time": "2023-05-18T00:09:54.444794Z"
    }
   },
   "outputs": [
    {
     "name": "stdout",
     "output_type": "stream",
     "text": [
      "Successfully Authenticated. GitHub account: \u001B[92m scott-yj-yang \u001B[0m\n",
      "Target Organization Set: \u001B[92m COGS118A \u001B[0m\n"
     ]
    }
   ],
   "source": [
    "gh = GitHubGroup(\"../../credentials.json\", \"COGS118A\", verbosity=1)"
   ]
  },
  {
   "cell_type": "code",
   "execution_count": 4,
   "id": "555062fa",
   "metadata": {
    "ExecuteTime": {
     "end_time": "2023-05-18T00:10:28.654836Z",
     "start_time": "2023-05-18T00:10:28.652879Z"
    }
   },
   "outputs": [],
   "source": [
    "# gh.resent_invitations_team_repos(team_slug=\"Instructors_Sp23\")"
   ]
  },
  {
   "cell_type": "code",
   "execution_count": 5,
   "id": "cc3b5ad5",
   "metadata": {
    "ExecuteTime": {
     "end_time": "2023-05-18T00:10:33.504364Z",
     "start_time": "2023-05-18T00:10:29.929687Z"
    }
   },
   "outputs": [
    {
     "name": "stdout",
     "output_type": "stream",
     "text": [
      "\u001B[92mAuthorization Successful!\u001B[0m\n",
      "Course Set: \u001B[92m COGS 118A - Supvr/Mach Learning Algorithms - Fleischer [SP23] \u001B[0m\n",
      "Getting List of Users... This might take a while...\n",
      "Users Fetch Complete! The course has \u001B[94m160\u001B[0m students.\n"
     ]
    }
   ],
   "source": [
    "cg = CanvasGroup(\"../../credentials.json\", course_id=45059)"
   ]
  },
  {
   "cell_type": "code",
   "execution_count": 22,
   "outputs": [
    {
     "name": "stdout",
     "output_type": "stream",
     "text": [
      "Group Category: \u001B[92mFinal Project\u001B[0m Set!\n"
     ]
    },
    {
     "data": {
      "text/plain": "GroupCategory(_requester=<canvasapi.requester.Requester object at 0x1308d54e0>, id=16277, name=Final Project, role=None, self_signup=enabled, group_limit=5, auto_leader=None, created_at=2023-04-27T20:55:14Z, created_at_date=2023-04-27 20:55:14+00:00, context_type=Course, course_id=45059, protected=False, allows_multiple_memberships=False, is_member=False)"
     },
     "execution_count": 22,
     "metadata": {},
     "output_type": "execute_result"
    }
   ],
   "source": [
    "cg.set_group_category(\"Final Project\")"
   ],
   "metadata": {
    "collapsed": false,
    "ExecuteTime": {
     "end_time": "2023-05-18T00:14:14.205617Z",
     "start_time": "2023-05-18T00:14:03.468067Z"
    }
   }
  },
  {
   "cell_type": "code",
   "execution_count": 6,
   "outputs": [
    {
     "name": "stdout",
     "output_type": "stream",
     "text": [
      "Quiz: \u001B[92mGitHub Username\u001B[0m fetch! \n",
      "Generating Student Analaysis...\n",
      "[====================] 100%\n",
      "\u001B[92mReport Generated!\u001B[0m\n",
      "The Question asked is \u001B[94m1389031: What is your GitHub Username? Absolutely No Typo Please.\u001B[0m. \n",
      "Make sure this is the correct question where you asked student for their GitHub id.\n",
      "If you need to change the index of columns, change the col_index argument of this call.\n"
     ]
    }
   ],
   "source": [
    "username=cg.fetch_username_from_quiz(139061)"
   ],
   "metadata": {
    "collapsed": false,
    "ExecuteTime": {
     "end_time": "2023-05-18T00:10:43.969544Z",
     "start_time": "2023-05-18T00:10:33.507213Z"
    }
   }
  },
  {
   "cell_type": "code",
   "execution_count": 27,
   "outputs": [
    {
     "data": {
      "text/plain": "'aaolivas'"
     },
     "execution_count": 27,
     "metadata": {},
     "output_type": "execute_result"
    }
   ],
   "source": [
    "username[\"aaolivas\"]"
   ],
   "metadata": {
    "collapsed": false,
    "ExecuteTime": {
     "end_time": "2023-05-18T00:16:21.413298Z",
     "start_time": "2023-05-18T00:16:21.408926Z"
    }
   }
  },
  {
   "cell_type": "code",
   "execution_count": 29,
   "outputs": [],
   "source": [
    "repo = gh.get_repo(\"Group1-SP23-Testing\")"
   ],
   "metadata": {
    "collapsed": false,
    "ExecuteTime": {
     "end_time": "2023-05-18T00:24:25.496637Z",
     "start_time": "2023-05-18T00:24:25.115913Z"
    }
   }
  },
  {
   "cell_type": "code",
   "execution_count": 35,
   "outputs": [
    {
     "name": "stdout",
     "output_type": "stream",
     "text": [
      "In the repo: \u001B[92mGroup1-SP23-Testing\u001B[0m,\n",
      "Issue \u001B[92m Project Proposal Feedback\u001B[0m Created!\n"
     ]
    },
    {
     "data": {
      "text/plain": "Issue(title=\" Project Proposal Feedback\", number=1)"
     },
     "execution_count": 35,
     "metadata": {},
     "output_type": "execute_result"
    }
   ],
   "source": [
    "gh.create_issue_from_md(repo, \"../nbs/feedback_template/proposal_feedback.md\")"
   ],
   "metadata": {
    "collapsed": false,
    "ExecuteTime": {
     "end_time": "2023-05-18T00:26:25.794825Z",
     "start_time": "2023-05-18T00:26:25.040492Z"
    }
   }
  },
  {
   "cell_type": "code",
   "execution_count": 33,
   "outputs": [
    {
     "name": "stdout",
     "output_type": "stream",
     "text": [
      "/Users/scottyang/Desktop/SP23_Working/Group_Eng/CanvasGroupy/dev_nbs\r\n"
     ]
    }
   ],
   "source": [
    "!pwd"
   ],
   "metadata": {
    "collapsed": false,
    "ExecuteTime": {
     "end_time": "2023-05-18T00:25:51.785999Z",
     "start_time": "2023-05-18T00:25:51.487891Z"
    }
   }
  },
  {
   "cell_type": "code",
   "execution_count": null,
   "outputs": [],
   "source": [],
   "metadata": {
    "collapsed": false
   }
  }
 ],
 "metadata": {
  "kernelspec": {
   "display_name": "python3",
   "language": "python",
   "name": "python3"
  }
 },
 "nbformat": 4,
 "nbformat_minor": 5
}
