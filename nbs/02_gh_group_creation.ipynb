{
 "cells": [
  {
   "cell_type": "markdown",
   "metadata": {},
   "source": [
    "# GitHub Group Creation\n",
    "\n",
    "> Create GitHub group based on the provided group information"
   ]
  },
  {
   "cell_type": "code",
   "execution_count": null,
   "metadata": {},
   "outputs": [],
   "source": [
    "#| default_exp gh_group"
   ]
  },
  {
   "cell_type": "code",
   "execution_count": null,
   "metadata": {},
   "outputs": [],
   "source": [
    "#| hide\n",
    "from nbdev.showdoc import *\n",
    "from fastcore.test import *"
   ]
  },
  {
   "cell_type": "code",
   "execution_count": null,
   "metadata": {},
   "outputs": [],
   "source": [
    "#| export\n",
    "from github import Github\n",
    "import github\n",
    "import json"
   ]
  },
  {
   "cell_type": "code",
   "execution_count": null,
   "metadata": {},
   "outputs": [],
   "source": [
    "#| export\n",
    "class GitHubGroup:\n",
    "    def __init__(self,\n",
    "                 credentials_fp=\"\", # the file path to the credential json\n",
    "                 org=\"\", # the organization name\n",
    "                ):\n",
    "        self.github = None\n",
    "        self.org = None\n",
    "        \n",
    "        if credentials_fp != \"\":\n",
    "            self.auth_github(credentials_fp)\n",
    "        if org != \"\":\n",
    "            self.set_org(org)\n",
    "\n",
    "    def auth_github(self,\n",
    "                    credentials_fp: str # the personal access token generated at GitHub Settings\n",
    "                   ):\n",
    "        \"Authenticate GitHub account with the provided credentials\"\n",
    "        with open(credentials_fp, \"r\") as f:\n",
    "            token = json.load(f)[\"GitHub Token\"]\n",
    "        self.github = Github(token)\n",
    "        # check authorization\n",
    "        _ = self.github.get_user().get_repos()[0]\n",
    "        \n",
    "    def set_org(self,\n",
    "                org: str # the target organization name\n",
    "               ):\n",
    "        \"Set the target organization for repo creation\"\n",
    "        self.org = self.github.get_organization(org)\n",
    "\n",
    "    def create_repo(self,\n",
    "                    repo_name: str, # repository name\n",
    "                    repo_template=\"\", # template repository that new repo will use. If empty string, an empty repo will be created. Put in the format of \"<owner>/<repo>\"\n",
    "                    private=True, # visibility of the created repository\n",
    "                    description=\"\", # description for the GitHub repository\n",
    "                    personal_account=False, # create repos in personal GitHub account\n",
    "                    ) -> github.Repository.Repository:\n",
    "        \"Create a repository, either blank, or from a template\"\n",
    "        if self.org is None and personal_account:\n",
    "            raise ValueError(\"Organization is not set\")\n",
    "        if personal_account:\n",
    "            parent = self.github.get_user()\n",
    "        else:\n",
    "            parent = self.org\n",
    "        if repo_template == \"\":\n",
    "            return parent.create_repo(\n",
    "                name=repo_name,\n",
    "                private=private,\n",
    "                description=description\n",
    "            )\n",
    "        # create from template\n",
    "        return parent.create_repo_from_template(\n",
    "            name=repo_name,\n",
    "            repo=self.get_repo(repo_template),\n",
    "            private=private,\n",
    "            description=description,\n",
    "        )\n",
    "    \n",
    "    def get_repo(self,\n",
    "                 repo_full_name: str # full name of the target repository\n",
    "                ) -> github.Repository.Repository:\n",
    "        \"To get a repository by its name\"\n",
    "        return self.github.get_repo(repo_full_name)\n",
    "    \n",
    "    def rename_files(self,\n",
    "                     repo: github.Repository.Repository, # the repository that we want to rename file\n",
    "                     og_filename: str, # old file name\n",
    "                     new_filename: str # new file name\n",
    "                    ):\n",
    "        \"Rename the file by delete the old file and commit the new file\"\n",
    "        file = repo.get_contents(og_filename)\n",
    "        repo.create_file(new_filename, \"rename files\", file.decoded_content)\n",
    "        repo.delete_file(og_filename, \"delete old files\", file.sha)\n",
    "        \n",
    "    def add_collaborators(self,\n",
    "                          repo: github.Repository.Repository, # target repository\n",
    "                          collaborator:str, # GitHub username of the collaborator\n",
    "                          permission:str # `pull`, `push` or `admin`\n",
    "                         ):\n",
    "        \"add collaborators to the repository\"\n",
    "        repo.add_to_collaborators(collaborator, permission)\n",
    "        \n",
    "    def create_group_repo(self,\n",
    "                          repo_name: str, # group repository name\n",
    "                          collaborators: [str], # list of collaborators GitHub id\n",
    "                          permission: str, # the permission of collaborators\n",
    "                          rename_files=dict(), # dictionary of files renames {<og_name>:<new_name>}\n",
    "                          repo_template=\"\", # If empty string, an empty repo will be created. Put in the format of \"<owner>/<repo>\"\n",
    "                          private=True, # visibility of the created repository\n",
    "                          description=\"\", # description for the GitHub repository\n",
    "                         ) -> github.Repository.Repository:\n",
    "        \"Create a Group Repository\"\n",
    "        repo = self.create_repo(repo_name, repo_template, private, description)\n",
    "        for og_name, new_name in rename_files.values():\n",
    "            self.rename_files(repo, og_name, new_name)\n",
    "        for collaborator in collaborators:\n",
    "            self.add_collaborators(repo, collaborator)\n",
    "        return repo"
   ]
  },
  {
   "cell_type": "markdown",
   "metadata": {},
   "source": [
    "## GitHub Authentication\n",
    "\n",
    "View this [document](https://docs.google.com/document/d/1RvZnOX6nh0bXn6Zh4U-Yxazukuez5oGrtcP8mN-Roco/edit?usp=sharing) for how to set up your GitHub Personal Access Token. (TODO: be sure to specify scopes)"
   ]
  },
  {
   "cell_type": "code",
   "execution_count": null,
   "metadata": {},
   "outputs": [],
   "source": [
    "credentials_fp = \"credentials.json\"\n",
    "credentials_fp = \"../../credentials.json\" #| hide_line\n",
    "g = GitHubGroup(credentials_fp=\"../../credentials.json\", org=\"COGS118A\")"
   ]
  },
  {
   "cell_type": "markdown",
   "metadata": {},
   "source": [
    "Optionally, you can instansiate a GitHubGroup object and authenticate yourself by calling the following method."
   ]
  },
  {
   "cell_type": "code",
   "execution_count": null,
   "metadata": {},
   "outputs": [
    {
     "data": {
      "text/markdown": [
       "---\n",
       "\n",
       "### GitHubGroup.auth_github\n",
       "\n",
       ">      GitHubGroup.auth_github (credentials_fp:str)\n",
       "\n",
       "Authenticate GitHub account with the provided credentials\n",
       "\n",
       "|    | **Type** | **Details** |\n",
       "| -- | -------- | ----------- |\n",
       "| credentials_fp | str | the personal access token generated at GitHub Settings |"
      ],
      "text/plain": [
       "---\n",
       "\n",
       "### GitHubGroup.auth_github\n",
       "\n",
       ">      GitHubGroup.auth_github (credentials_fp:str)\n",
       "\n",
       "Authenticate GitHub account with the provided credentials\n",
       "\n",
       "|    | **Type** | **Details** |\n",
       "| -- | -------- | ----------- |\n",
       "| credentials_fp | str | the personal access token generated at GitHub Settings |"
      ]
     },
     "execution_count": null,
     "metadata": {},
     "output_type": "execute_result"
    }
   ],
   "source": [
    "show_doc(GitHubGroup.auth_github)"
   ]
  },
  {
   "cell_type": "code",
   "execution_count": null,
   "metadata": {},
   "outputs": [
    {
     "data": {
      "text/plain": [
       "'Scott Yang'"
      ]
     },
     "execution_count": null,
     "metadata": {},
     "output_type": "execute_result"
    }
   ],
   "source": [
    "g = GitHubGroup()\n",
    "g.auth_github(\"../../credentials.json\")\n",
    "g.github.get_user().name"
   ]
  },
  {
   "cell_type": "markdown",
   "metadata": {},
   "source": [
    "## GitHub Organization Settings\n",
    "\n",
    "Usually, you want to create students repositories under a course GitHub organization. To set the target organization, you can call the following function."
   ]
  },
  {
   "cell_type": "code",
   "execution_count": null,
   "metadata": {},
   "outputs": [
    {
     "data": {
      "text/markdown": [
       "---\n",
       "\n",
       "### GitHubGroup.set_org\n",
       "\n",
       ">      GitHubGroup.set_org (org:str)\n",
       "\n",
       "Set the target organization for repo creation\n",
       "\n",
       "|    | **Type** | **Details** |\n",
       "| -- | -------- | ----------- |\n",
       "| org | str | the target organization name |"
      ],
      "text/plain": [
       "---\n",
       "\n",
       "### GitHubGroup.set_org\n",
       "\n",
       ">      GitHubGroup.set_org (org:str)\n",
       "\n",
       "Set the target organization for repo creation\n",
       "\n",
       "|    | **Type** | **Details** |\n",
       "| -- | -------- | ----------- |\n",
       "| org | str | the target organization name |"
      ]
     },
     "execution_count": null,
     "metadata": {},
     "output_type": "execute_result"
    }
   ],
   "source": [
    "show_doc(GitHubGroup.set_org)"
   ]
  },
  {
   "cell_type": "code",
   "execution_count": null,
   "metadata": {},
   "outputs": [
    {
     "data": {
      "text/plain": [
       "Organization(login=\"COGS118A\")"
      ]
     },
     "execution_count": null,
     "metadata": {},
     "output_type": "execute_result"
    }
   ],
   "source": [
    "g.set_org(\"COGS118A\")\n",
    "g.org"
   ]
  },
  {
   "cell_type": "markdown",
   "metadata": {},
   "source": [
    "## Create GitHub Group in one Call"
   ]
  },
  {
   "cell_type": "code",
   "execution_count": null,
   "metadata": {},
   "outputs": [
    {
     "data": {
      "text/markdown": [
       "---\n",
       "\n",
       "### GitHubGroup.create_group_repo\n",
       "\n",
       ">      GitHubGroup.create_group_repo (repo_name:str,\n",
       ">                                     collaborators:[<class'str'>],\n",
       ">                                     permission:str, rename_files={},\n",
       ">                                     repo_template='', private=True,\n",
       ">                                     description='')\n",
       "\n",
       "Create a Group Repository\n",
       "\n",
       "|    | **Type** | **Default** | **Details** |\n",
       "| -- | -------- | ----------- | ----------- |\n",
       "| repo_name | str |  | group repository name |\n",
       "| collaborators | [<class 'str'>] |  | list of collaborators GitHub id |\n",
       "| permission | str |  | the permission of collaborators |\n",
       "| rename_files | dict | {} | dictionary of files renames {<og_name>:<new_name>} |\n",
       "| repo_template | str |  | If empty string, an empty repo will be created. Put in the format of \"<owner>/<repo>\" |\n",
       "| private | bool | True | visibility of the created repository |\n",
       "| description | str |  | description for the GitHub repository |\n",
       "| **Returns** | **Repository** |  |  |"
      ],
      "text/plain": [
       "---\n",
       "\n",
       "### GitHubGroup.create_group_repo\n",
       "\n",
       ">      GitHubGroup.create_group_repo (repo_name:str,\n",
       ">                                     collaborators:[<class'str'>],\n",
       ">                                     permission:str, rename_files={},\n",
       ">                                     repo_template='', private=True,\n",
       ">                                     description='')\n",
       "\n",
       "Create a Group Repository\n",
       "\n",
       "|    | **Type** | **Default** | **Details** |\n",
       "| -- | -------- | ----------- | ----------- |\n",
       "| repo_name | str |  | group repository name |\n",
       "| collaborators | [<class 'str'>] |  | list of collaborators GitHub id |\n",
       "| permission | str |  | the permission of collaborators |\n",
       "| rename_files | dict | {} | dictionary of files renames {<og_name>:<new_name>} |\n",
       "| repo_template | str |  | If empty string, an empty repo will be created. Put in the format of \"<owner>/<repo>\" |\n",
       "| private | bool | True | visibility of the created repository |\n",
       "| description | str |  | description for the GitHub repository |\n",
       "| **Returns** | **Repository** |  |  |"
      ]
     },
     "execution_count": null,
     "metadata": {},
     "output_type": "execute_result"
    }
   ],
   "source": [
    "show_doc(GitHubGroup.create_group_repo)"
   ]
  },
  {
   "cell_type": "code",
   "execution_count": null,
   "metadata": {},
   "outputs": [
    {
     "data": {
      "text/plain": [
       "<bound method GitHubGroup.create_group_repo of <__main__.GitHubGroup object>>"
      ]
     },
     "execution_count": null,
     "metadata": {},
     "output_type": "execute_result"
    }
   ],
   "source": [
    "g.create_group_repo"
   ]
  },
  {
   "cell_type": "code",
   "execution_count": null,
   "metadata": {},
   "outputs": [],
   "source": [
    "#| hide\n",
    "import nbdev; nbdev.nbdev_export()"
   ]
  },
  {
   "cell_type": "code",
   "execution_count": null,
   "metadata": {},
   "outputs": [],
   "source": []
  }
 ],
 "metadata": {
  "kernelspec": {
   "display_name": "python3",
   "language": "python",
   "name": "python3"
  }
 },
 "nbformat": 4,
 "nbformat_minor": 4
}
