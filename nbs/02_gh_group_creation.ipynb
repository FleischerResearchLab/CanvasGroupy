{
 "cells": [
  {
   "cell_type": "markdown",
   "metadata": {},
   "source": [
    "# GitHub Group Creation\n",
    "\n",
    "> Create GitHub group based on the provided group information"
   ]
  },
  {
   "cell_type": "code",
   "execution_count": null,
   "metadata": {},
   "outputs": [],
   "source": [
    "#| default_exp gh_group"
   ]
  },
  {
   "cell_type": "code",
   "execution_count": null,
   "metadata": {},
   "outputs": [],
   "source": [
    "#| hide\n",
    "from nbdev.showdoc import *\n",
    "from fastcore.test import *\n",
    "import os\n",
    "import glob\n",
    "import subprocess"
   ]
  },
  {
   "cell_type": "code",
   "execution_count": null,
   "metadata": {},
   "outputs": [],
   "source": [
    "#| export\n",
    "def command(cmd: str # command to call in bash\n",
    "           ) -> (bool, str): # success, output\n",
    "    \"Execute the given command in shell\"\n",
    "    success = False \n",
    "    try:\n",
    "        output = subprocess.check_output(cmd, shell=True, stderr = subprocess.STDOUT)\n",
    "        success = True \n",
    "    except subprocess.CalledProcessError as e:\n",
    "        output = e.output\n",
    "    except Exception as e:\n",
    "        # check_call can raise other exceptions, such as FileNotFoundError\n",
    "        output = str(e)\n",
    "    print('> '+cmd)\n",
    "    print(output.decode())\n",
    "    return success, output"
   ]
  },
  {
   "cell_type": "code",
   "execution_count": null,
   "metadata": {},
   "outputs": [],
   "source": [
    "#| export\n",
    "def check_gh_auth() -> bool: # whether you have authenticate\n",
    "    \"Check whether you have gh auth configured\"\n",
    "    msg = command(\"gh auth status\")[1]\n",
    "    if \"You are not logged into any GitHub hosts\" in str(msg):\n",
    "        return False\n",
    "    return True"
   ]
  },
  {
   "cell_type": "code",
   "execution_count": null,
   "metadata": {},
   "outputs": [],
   "source": [
    "#| export\n",
    "def creat_repo_cmd(repo_name:str, # the name of the created repository\n",
    "                   repo_org: str, # the GitHub organization name\n",
    "                   template_repo:str, # the template repository that the new repo will use\n",
    "                   private_repo=True  # the visibility of the repository\n",
    "                   ) -> str: # the command of repo creation\n",
    "    \"Generate the appropriate command for creating GitHub repository\"\n",
    "    cmd = \"gh repo create\"\n",
    "    if template_repo is not None:\n",
    "        cmd = f\"{cmd} --template {template_repo}\"\n",
    "    if private_repo:\n",
    "        cmd = f\"{cmd} --private\"\n",
    "    cmd = f\"{cmd} --clone {repo_org}/{repo_name}\"\n",
    "    return cmd"
   ]
  },
  {
   "cell_type": "code",
   "execution_count": null,
   "metadata": {},
   "outputs": [],
   "source": [
    "#｜ hide\n",
    "test_eq(\n",
    "    'gh repo create --template COGS108/group_template --private --clone COGS108/Group01_SP23',\n",
    "    creat_repo_cmd(\"Group01_SP23\", \"COGS108\", \"COGS108/group_template\")\n",
    ")\n",
    "test_eq(\n",
    "    'gh repo create --private --clone COGS108/Group01_SP23',\n",
    "    creat_repo_cmd(\"Group01_SP23\", \"COGS108\", None)\n",
    ")\n",
    "test_eq(\n",
    "    'gh repo create --clone COGS108/Group01_SP23',\n",
    "    creat_repo_cmd(\"Group01_SP23\", \"COGS108\", None, private_repo=False)\n",
    ")"
   ]
  },
  {
   "cell_type": "code",
   "execution_count": null,
   "metadata": {},
   "outputs": [],
   "source": [
    "#| export\n",
    "def manage_access_cmd(repo_name:str, # the name of the created repository\n",
    "                      repo_org: str, # the GitHub organization name that the repo belongs to\n",
    "                      collaorator_id: str, # the GitHub id of the collaborator, or team name if `add_team=True`\n",
    "                      permission=\"push\",  # the permission to that collaborator\n",
    "                      add_team=False      # add access to github org's team\n",
    "                     ) -> str: # the command of repo creation\n",
    "    \"GitHub CLI Command for modifying access priviliges of repo\"\n",
    "    if add_team:\n",
    "        return (f\"gh api -X PUT -f permission={permission} --silent \"\n",
    "                f\"/orgs/{repo_org}/teams/{collaorator_id}/repos/{repo_org}/{repo_name}\")\n",
    "    cmd = f\"gh api -X PUT -f permission={permission} --silent repos/{repo_org}/{repo_name}/{collaorator_id}\"\n",
    "    return cmd\n"
   ]
  },
  {
   "cell_type": "markdown",
   "metadata": {},
   "source": [
    "The team must be in the same organization with the repos' parent organization."
   ]
  },
  {
   "cell_type": "code",
   "execution_count": null,
   "metadata": {},
   "outputs": [],
   "source": [
    "#| hide\n",
    "\n",
    "test_eq(\n",
    "    'gh api -X PUT -f permission=push --silent repos/COGS108/Group01_SP23/scott-yj-yang',\n",
    "    manage_access_cmd(\"Group01_SP23\", \"COGS108\", \"scott-yj-yang\")\n",
    ")\n",
    "\n",
    "test_eq(\n",
    "    'gh api -X PUT -f permission=admin --silent repos/COGS108/Group01_SP23/scott-yj-yang',\n",
    "    manage_access_cmd(\"Group01_SP23\", \"COGS108\", \"scott-yj-yang\", permission=\"admin\")\n",
    ")\n",
    "\n",
    "test_eq(\n",
    "    'gh api -X PUT -f permission=admin --silent /orgs/COGS108/teams/Staff_SP23/repos/COGS108/Group01_SP23',\n",
    "    manage_access_cmd(\"Group01_SP23\", \"COGS108\", \"Staff_SP23\", permission=\"admin\", add_team=True)\n",
    ")"
   ]
  },
  {
   "cell_type": "code",
   "execution_count": null,
   "metadata": {},
   "outputs": [],
   "source": [
    "#| hide\n",
    "import nbdev; nbdev.nbdev_export()"
   ]
  },
  {
   "cell_type": "code",
   "execution_count": null,
   "metadata": {},
   "outputs": [],
   "source": []
  }
 ],
 "metadata": {
  "kernelspec": {
   "display_name": "python3",
   "language": "python",
   "name": "python3"
  }
 },
 "nbformat": 4,
 "nbformat_minor": 4
}
