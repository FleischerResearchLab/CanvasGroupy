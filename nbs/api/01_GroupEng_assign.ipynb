{
 "cells": [
  {
   "cell_type": "markdown",
   "metadata": {},
   "source": [
    "# GroupEngAssign\n",
    "\n",
    "> Invoke Package Group Eng to Assign Students in Groups"
   ]
  },
  {
   "cell_type": "code",
   "execution_count": null,
   "metadata": {},
   "outputs": [],
   "source": [
    "#| default_exp assign"
   ]
  },
  {
   "cell_type": "code",
   "execution_count": null,
   "metadata": {},
   "outputs": [],
   "source": [
    "#| hide\n",
    "from nbdev.showdoc import *\n",
    "import os\n",
    "import pandas as pd\n",
    "import shutil"
   ]
  },
  {
   "cell_type": "code",
   "execution_count": null,
   "metadata": {},
   "outputs": [],
   "source": [
    "#| export\n",
    "import GroupEng\n",
    "import canvasapi\n",
    "import github\n",
    "from CanvasGroupy import GitHubGroup, CanvasGroup"
   ]
  },
  {
   "cell_type": "code",
   "execution_count": null,
   "metadata": {},
   "outputs": [],
   "source": [
    "#| export\n",
    "class AssignGroup:\n",
    "    def __init__(self,\n",
    "                 ghg: GitHubGroup, # authenticated GitHub object\n",
    "                 cg: CanvasGroup, # authenticated canvas object\n",
    "                 groupeng_config=\"\", # Directory for the GroupEng config yml file\n",
    "                ):\n",
    "        \"Initializer for Assign Group\"\n",
    "        self.status = None\n",
    "        self.out_dir = None\n",
    "        self.prefix = None\n",
    "        self.cg = cg\n",
    "        self.ghg = ghg\n",
    "        # Initialize if appropriate parameters are defined\n",
    "        if groupeng_config != \"\":\n",
    "            self.assign_groups(groupeng_config)\n",
    "\n",
    "    def assign_groups(self,\n",
    "                      groupeng_config:str, # Directory for the GroupEng config yml file\n",
    "                      assign_canvas_group=False, # directly assign canvas groups\n",
    "                      create_gh_repo=False, # directly create GitHub repos\n",
    "                      username_quiz_id=-1, # username quiz id from canvas course\n",
    "                      in_group_category=\"\", # specify which group category the group belongs to\n",
    "                      suffix=\"\", # suffix to the group name\n",
    "                     ) -> (bool, str): # Status and output directory of the compiled file.\n",
    "        status, out_dir = GroupEng.run(groupeng_config)\n",
    "        self.status, self.out_dir = status, out_dir\n",
    "        file = os.path.split(groupeng_config)[1]\n",
    "        self.prefix = os.path.splitext(file)[0]\n",
    "        if assign_canvas_group:\n",
    "            if self.cg.group_category is None and in_group_category == \"\":\n",
    "                raise ValueError(\"Have to specify in_group_category to create canvas group\")\n",
    "            self.create_canvas_group(in_group_category, suffix)\n",
    "        if create_gh_repo:\n",
    "            if username_quiz_id == -1:\n",
    "                raise ValueError(\"Have to specify the canvas username quiz id\")\n",
    "            self.create_github_group(username_quiz_id)\n",
    "        return status, out_dir\n",
    "\n",
    "    def create_canvas_group(self,\n",
    "                            in_group_category=\"\", # specify which group category the group belongs to\n",
    "                            suffix=\"\", # suffix to the group name\n",
    "                            ):\n",
    "        \"Create canvas groups based on the generated group configuration\"\n",
    "        if self.out_dir is None:\n",
    "            raise ValueError(\"The group configuration has not been set. Please assign group via assign_groups\")\n",
    "        if self.cg.group_category is None:\n",
    "            raise ValueError(\"The group category has not been set.\")\n",
    "        if in_group_category == \"\":\n",
    "            in_group_category = self.cg.group_category.name\n",
    "        # load the generated configuration file\n",
    "        groups_generated_fp = os.path.join(self.out_dir, f\"{self.prefix}_groups.csv\")\n",
    "        with open(groups_generated_fp, \"r\") as f:\n",
    "            groups = f.read().splitlines()\n",
    "        # create canvas groups for each.\n",
    "        for group in groups:\n",
    "            group = group.replace(\" \", \"\").split(\",\")\n",
    "            group_name, group_members = group[0], group[1:]\n",
    "            self.cg.assign_canvas_group(\n",
    "                group_name=f\"{group_name}{suffix}\",\n",
    "                group_members=group_members,\n",
    "                in_group_category=in_group_category\n",
    "            )\n",
    "\n",
    "    def create_github_group(self,\n",
    "                            username_quiz_id:int # username quiz id from canvas course\n",
    "                            ):\n",
    "        github_usernames = self.cg.fetch_username_from_quiz(username_quiz_id)\n",
    "        self.cg.set_group_category(cg.group_category.name)\n",
    "        groups = self.cg.group_to_emails\n",
    "        repos = []\n",
    "        for group_name, members in groups.items():\n",
    "            group_git_usernames = []\n",
    "            for email in members:\n",
    "                try:\n",
    "                    # try to get the git username for each student.\n",
    "                    # not all students completed their quiz.\n",
    "                    group_git_usernames.append(github_usernames[email])\n",
    "                except KeyError:\n",
    "                    print(f\"{email}'s GitHub Username not found\")\n",
    "            repo = self.ghg.create_group_repo(\n",
    "                repo_name=group_name,\n",
    "                collaborators=group_git_usernames,\n",
    "                permission=\"write\",\n",
    "                repo_template=\"COGS118A/group_template\",\n",
    "                rename_files={\n",
    "                    \"Checkpoint_groupXXX.ipynb\": f\"Checkpoint_{group_name}.ipynb\",\n",
    "                    \"FinalProject_groupXXX.ipynb\": f\"FinalProject_{group_name}.ipynb\",\n",
    "                    \"Proposal_groupXXX.ipynb\": f\"Proposal_{group_name}.ipynb\"\n",
    "                },\n",
    "                private=True,\n",
    "                description=f\"COGS118A Final Project {group_name} Repository\",\n",
    "                team_slug=\"Instructors_Sp23\",\n",
    "                team_permission=\"admin\"\n",
    "            )\n",
    "            print(\"\")\n",
    "            repos.append(repo)\n",
    "        return repos\n",
    "\n"
   ]
  },
  {
   "cell_type": "code",
   "execution_count": null,
   "metadata": {},
   "outputs": [
    {
     "name": "stdout",
     "output_type": "stream",
     "text": [
      "Successfully Authenticated. GitHub account: \u001b[92m scott-yj-yang \u001b[0m\n",
      "Target Organization Set: \u001b[92m COGS118A \u001b[0m\n",
      "\u001b[92mAuthorization Successful!\u001b[0m\n",
      "Course Set: \u001b[92m COGS 195 - Instructional Apprenticeship - Fleischer [SP23] \u001b[0m\n",
      "Getting List of Users... This might take a while...\n",
      "Users Fetch Complete! The course has \u001b[94m5\u001b[0m students.\n"
     ]
    }
   ],
   "source": [
    "# Create authenticated objects\n",
    "ghg = GitHubGroup(\"../../../credentials.json\",\n",
    "                 \"COGS118A\"\n",
    "                 )\n",
    "cg = CanvasGroup(\"../../../credentials.json\",\n",
    "                 course_id=45532,\n",
    "                 )\n",
    "# create assign group object\n",
    "ag = AssignGroup(ghg, cg)"
   ]
  },
  {
   "cell_type": "code",
   "execution_count": null,
   "metadata": {},
   "outputs": [
    {
     "data": {
      "text/plain": "GroupCategory(_requester=<canvasapi.requester.Requester object>, id=16456, name=Project 1, role=None, self_signup=None, group_limit=None, auto_leader=None, created_at=2023-05-17T20:38:56Z, created_at_date=2023-05-17 20:38:56+00:00, context_type=Course, course_id=45532, groups_count=0, unassigned_users_count=5, protected=False, allows_multiple_memberships=False, is_member=False)"
     },
     "execution_count": null,
     "metadata": {},
     "output_type": "execute_result"
    }
   ],
   "source": [
    "# create a group category to hold students\n",
    "cg.create_group_category({\"name\": \"Project 1\"})"
   ]
  },
  {
   "cell_type": "code",
   "execution_count": null,
   "metadata": {},
   "outputs": [
    {
     "name": "stdout",
     "output_type": "stream",
     "text": [
      "['H', 'B', '-']\n",
      "['B', 'H', '-']\n",
      "['-', 'H', 'B']\n",
      "['B', 'H', '-']\n",
      "['B', '-', 'H']\n",
      "['-', 'B', 'H']\n",
      "[None, 3.9, 3.1]\n",
      "[3.9, 3.1, None]\n",
      "[3.4, 2.5, 2.1]\n",
      "[3.9, None, 3.1]\n",
      "[3.4, 2.1, 2.5]\n",
      "[3.4, 2.1, 2.5]\n",
      "In Group Set: \u001b[94mProject 1\u001b[0m,\n",
      "Group \u001b[92mGroup1-SP23-Testing\u001b[0m Created!\n",
      "Member \u001b[92mdol005\u001b[0m Joined group \u001b[92mGroup1-SP23-Testing\u001b[0m\n",
      "Member \u001b[92mxiw013\u001b[0m Joined group \u001b[92mGroup1-SP23-Testing\u001b[0m\n",
      "In Group Set: \u001b[94mProject 1\u001b[0m,\n",
      "Group \u001b[92mGroup2-SP23-Testing\u001b[0m Created!\n",
      "Member \u001b[92mjiz088\u001b[0m Joined group \u001b[92mGroup2-SP23-Testing\u001b[0m\n",
      "Member \u001b[92mjiz100\u001b[0m Joined group \u001b[92mGroup2-SP23-Testing\u001b[0m\n",
      "Member \u001b[92mnmackler\u001b[0m Joined group \u001b[92mGroup2-SP23-Testing\u001b[0m\n",
      "Quiz: \u001b[92mGitHub Username\u001b[0m fetch! \n",
      "Generating Student Analaysis...\n",
      "[====================] 100%\n",
      "\u001b[92mReport Generated!\u001b[0m\n",
      "The Question asked is \u001b[94m1399692: In plain text, what is your GitHub Username? Absolutely no typo, no extra space, no hyperlink please.\u001b[0m. \n",
      "Make sure this is the correct question where you asked student for their GitHub id.\n",
      "If you need to change the index of columns, change the col_index argument of this call.\n",
      "dol005's GitHub Username not found\n",
      "xiw013's GitHub Username not found\n",
      "Repo \u001b[92m Group1-SP23-Testing \u001b[0m Created... Wait for 3 sec to updates\n",
      "File Successfully Renamed from  \u001b[96m Checkpoint_groupXXX.ipynb \u001b[0m  to \u001b[92m Checkpoint_Group1-SP23-Testing.ipynb \u001b[0m\n",
      "File Successfully Renamed from  \u001b[96m FinalProject_groupXXX.ipynb \u001b[0m  to \u001b[92m FinalProject_Group1-SP23-Testing.ipynb \u001b[0m\n",
      "File Successfully Renamed from  \u001b[96m Proposal_groupXXX.ipynb \u001b[0m  to \u001b[92m Proposal_Group1-SP23-Testing.ipynb \u001b[0m\n",
      "Team \u001b[92m Instructors_Sp23 \u001b[0m added to \u001b[92m Group1-SP23-Testing \u001b[0m with permission \u001b[92m admin \u001b[0m\n",
      "Group Repo: \u001b[92m Group1-SP23-Testing \u001b[0m successfuly created!\n",
      "Repo URL: https://github.com/COGS118A/Group1-SP23-Testing\n",
      "\n",
      "jiz100's GitHub Username not found\n",
      "jiz088's GitHub Username not found\n",
      "Repo \u001b[92m Group2-SP23-Testing \u001b[0m Created... Wait for 3 sec to updates\n",
      "File Successfully Renamed from  \u001b[96m Checkpoint_groupXXX.ipynb \u001b[0m  to \u001b[92m Checkpoint_Group2-SP23-Testing.ipynb \u001b[0m\n",
      "File Successfully Renamed from  \u001b[96m FinalProject_groupXXX.ipynb \u001b[0m  to \u001b[92m FinalProject_Group2-SP23-Testing.ipynb \u001b[0m\n",
      "File Successfully Renamed from  \u001b[96m Proposal_groupXXX.ipynb \u001b[0m  to \u001b[92m Proposal_Group2-SP23-Testing.ipynb \u001b[0m\n",
      "Added Collaborator: \u001b[92m nmackler \u001b[0m to: \u001b[92m Group2-SP23-Testing \u001b[0m with permission: \u001b[92m write \u001b[0m\n",
      "Team \u001b[92m Instructors_Sp23 \u001b[0m added to \u001b[92m Group2-SP23-Testing \u001b[0m with permission \u001b[92m admin \u001b[0m\n",
      "Group Repo: \u001b[92m Group2-SP23-Testing \u001b[0m successfuly created!\n",
      "Repo URL: https://github.com/COGS118A/Group2-SP23-Testing\n",
      "\n"
     ]
    }
   ],
   "source": [
    "# assign, create both Canvas and GitHub Group in one call\n",
    "status, out_dir = ag.assign_groups(\"../data/195_group_specification.groupeng\",\n",
    "                                   assign_canvas_group=True,\n",
    "                                   create_gh_repo=True,\n",
    "                                   username_quiz_id=139925,\n",
    "                                   in_group_category=\"Project 1\",\n",
    "                                   suffix=\"-SP23-Testing\"\n",
    "                                   )"
   ]
  },
  {
   "cell_type": "markdown",
   "metadata": {},
   "source": [
    "The false means that at least one requirement is not satisfied. We can take a look at the file that was generated."
   ]
  },
  {
   "cell_type": "markdown",
   "metadata": {},
   "source": [
    "## API Doc"
   ]
  },
  {
   "cell_type": "code",
   "execution_count": null,
   "metadata": {},
   "outputs": [
    {
     "data": {
      "text/markdown": "---\n\n[source](https://github.com/FleischerResearchLab/CanvasGroupy/blob/main/CanvasGroupy/assign.py#L13){target=\"_blank\" style=\"float:right; font-size:smaller\"}\n\n### AssignGroup\n\n>      AssignGroup (ghg:CanvasGroupy.github.GitHubGroup,\n>                   cg:CanvasGroupy.canvas.CanvasGroup, groupeng_config='')\n\nInitializer for Assign Group\n\n|    | **Type** | **Default** | **Details** |\n| -- | -------- | ----------- | ----------- |\n| ghg | GitHubGroup |  | authenticated GitHub object |\n| cg | CanvasGroup |  | authenticated canvas object |\n| groupeng_config | str |  | Directory for the GroupEng config yml file |",
      "text/plain": "---\n\n[source](https://github.com/FleischerResearchLab/CanvasGroupy/blob/main/CanvasGroupy/assign.py#L13){target=\"_blank\" style=\"float:right; font-size:smaller\"}\n\n### AssignGroup\n\n>      AssignGroup (ghg:CanvasGroupy.github.GitHubGroup,\n>                   cg:CanvasGroupy.canvas.CanvasGroup, groupeng_config='')\n\nInitializer for Assign Group\n\n|    | **Type** | **Default** | **Details** |\n| -- | -------- | ----------- | ----------- |\n| ghg | GitHubGroup |  | authenticated GitHub object |\n| cg | CanvasGroup |  | authenticated canvas object |\n| groupeng_config | str |  | Directory for the GroupEng config yml file |"
     },
     "execution_count": null,
     "metadata": {},
     "output_type": "execute_result"
    }
   ],
   "source": [
    "show_doc(AssignGroup)"
   ]
  },
  {
   "cell_type": "code",
   "execution_count": null,
   "metadata": {},
   "outputs": [
    {
     "data": {
      "text/markdown": "---\n\n[source](https://github.com/FleischerResearchLab/CanvasGroupy/blob/main/CanvasGroupy/assign.py#L29){target=\"_blank\" style=\"float:right; font-size:smaller\"}\n\n### AssignGroup.assign_groups\n\n>      AssignGroup.assign_groups (groupeng_config:str,\n>                                 assign_canvas_group=False,\n>                                 create_gh_repo=False, username_quiz_id=-1,\n>                                 in_group_category='', suffix='')\n\n|    | **Type** | **Default** | **Details** |\n| -- | -------- | ----------- | ----------- |\n| groupeng_config | str |  | Directory for the GroupEng config yml file |\n| assign_canvas_group | bool | False | directly assign canvas groups |\n| create_gh_repo | bool | False | directly create GitHub repos |\n| username_quiz_id | int | -1 | username quiz id from canvas course |\n| in_group_category | str |  | specify which group category the group belongs to |\n| suffix | str |  | suffix to the group name |\n| **Returns** | **(<class 'bool'>, <class 'str'>)** |  | **Status and output directory of the compiled file.** |",
      "text/plain": "---\n\n[source](https://github.com/FleischerResearchLab/CanvasGroupy/blob/main/CanvasGroupy/assign.py#L29){target=\"_blank\" style=\"float:right; font-size:smaller\"}\n\n### AssignGroup.assign_groups\n\n>      AssignGroup.assign_groups (groupeng_config:str,\n>                                 assign_canvas_group=False,\n>                                 create_gh_repo=False, username_quiz_id=-1,\n>                                 in_group_category='', suffix='')\n\n|    | **Type** | **Default** | **Details** |\n| -- | -------- | ----------- | ----------- |\n| groupeng_config | str |  | Directory for the GroupEng config yml file |\n| assign_canvas_group | bool | False | directly assign canvas groups |\n| create_gh_repo | bool | False | directly create GitHub repos |\n| username_quiz_id | int | -1 | username quiz id from canvas course |\n| in_group_category | str |  | specify which group category the group belongs to |\n| suffix | str |  | suffix to the group name |\n| **Returns** | **(<class 'bool'>, <class 'str'>)** |  | **Status and output directory of the compiled file.** |"
     },
     "execution_count": null,
     "metadata": {},
     "output_type": "execute_result"
    }
   ],
   "source": [
    "show_doc(AssignGroup.assign_groups)"
   ]
  },
  {
   "cell_type": "code",
   "execution_count": null,
   "metadata": {},
   "outputs": [
    {
     "data": {
      "text/markdown": "---\n\n[source](https://github.com/FleischerResearchLab/CanvasGroupy/blob/main/CanvasGroupy/assign.py#L51){target=\"_blank\" style=\"float:right; font-size:smaller\"}\n\n### AssignGroup.create_canvas_group\n\n>      AssignGroup.create_canvas_group (in_group_category='', suffix='')\n\nCreate canvas groups based on the generated group configuration\n\n|    | **Type** | **Default** | **Details** |\n| -- | -------- | ----------- | ----------- |\n| in_group_category | str |  | specify which group category the group belongs to |\n| suffix | str |  | suffix to the group name |",
      "text/plain": "---\n\n[source](https://github.com/FleischerResearchLab/CanvasGroupy/blob/main/CanvasGroupy/assign.py#L51){target=\"_blank\" style=\"float:right; font-size:smaller\"}\n\n### AssignGroup.create_canvas_group\n\n>      AssignGroup.create_canvas_group (in_group_category='', suffix='')\n\nCreate canvas groups based on the generated group configuration\n\n|    | **Type** | **Default** | **Details** |\n| -- | -------- | ----------- | ----------- |\n| in_group_category | str |  | specify which group category the group belongs to |\n| suffix | str |  | suffix to the group name |"
     },
     "execution_count": null,
     "metadata": {},
     "output_type": "execute_result"
    }
   ],
   "source": [
    "show_doc(AssignGroup.create_canvas_group)"
   ]
  },
  {
   "cell_type": "code",
   "execution_count": null,
   "metadata": {},
   "outputs": [
    {
     "data": {
      "text/markdown": "---\n\n[source](https://github.com/FleischerResearchLab/CanvasGroupy/blob/main/CanvasGroupy/assign.py#L76){target=\"_blank\" style=\"float:right; font-size:smaller\"}\n\n### AssignGroup.create_github_group\n\n>      AssignGroup.create_github_group (username_quiz_id:int)\n\n|    | **Type** | **Details** |\n| -- | -------- | ----------- |\n| username_quiz_id | int | username quiz id from canvas course |",
      "text/plain": "---\n\n[source](https://github.com/FleischerResearchLab/CanvasGroupy/blob/main/CanvasGroupy/assign.py#L76){target=\"_blank\" style=\"float:right; font-size:smaller\"}\n\n### AssignGroup.create_github_group\n\n>      AssignGroup.create_github_group (username_quiz_id:int)\n\n|    | **Type** | **Details** |\n| -- | -------- | ----------- |\n| username_quiz_id | int | username quiz id from canvas course |"
     },
     "execution_count": null,
     "metadata": {},
     "output_type": "execute_result"
    }
   ],
   "source": [
    "show_doc(AssignGroup.create_github_group)"
   ]
  },
  {
   "cell_type": "code",
   "execution_count": null,
   "metadata": {},
   "outputs": [],
   "source": [
    "#| hide\n",
    "import nbdev; nbdev.nbdev_export()"
   ]
  }
 ],
 "metadata": {
  "kernelspec": {
   "display_name": "python3",
   "language": "python",
   "name": "python3"
  }
 },
 "nbformat": 4,
 "nbformat_minor": 4
}
