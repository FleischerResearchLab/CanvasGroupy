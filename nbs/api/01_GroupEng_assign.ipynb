{
 "cells": [
  {
   "cell_type": "markdown",
   "metadata": {},
   "source": [
    "# GroupEngAssign\n",
    "\n",
    "> Invoke Package Group Eng to Assign Student in Groups"
   ]
  },
  {
   "cell_type": "code",
   "execution_count": null,
   "metadata": {},
   "outputs": [],
   "source": [
    "#| default_exp assign"
   ]
  },
  {
   "cell_type": "code",
   "execution_count": null,
   "metadata": {},
   "outputs": [],
   "source": [
    "#| hide\n",
    "from nbdev.showdoc import *\n",
    "import os\n",
    "import shutil\n",
    "import pandas as pd"
   ]
  },
  {
   "cell_type": "code",
   "execution_count": null,
   "metadata": {},
   "outputs": [],
   "source": [
    "#| export\n",
    "import GroupEng\n",
    "\n",
    "def assign_groups(groupeng_config:str # Directory for the GroupEng config yml file\n",
    "                 ) -> (bool, str): # Status and output directory of the compile file.\n",
    "    status, outdir = GroupEng.run(groupeng_config)\n",
    "    return status, outdir "
   ]
  },
  {
   "cell_type": "code",
   "execution_count": null,
   "metadata": {},
   "outputs": [],
   "source": [
    "%%capture\n",
    "status, outdir = assign_groups(\"../data/195_group_specification.groupeng\")"
   ]
  },
  {
   "cell_type": "code",
   "execution_count": null,
   "metadata": {},
   "outputs": [
    {
     "data": {
      "text/plain": [
       "(False,\n",
       " '/Users/scottyang/Desktop/SP23_Working/Group_Eng/CanvasGroupy/nbs/data/groups_195_group_specification_2023-05-11_15-49-41')"
      ]
     },
     "execution_count": null,
     "metadata": {},
     "output_type": "execute_result"
    }
   ],
   "source": [
    "# take a look at the output\n",
    "status, outdir"
   ]
  },
  {
   "cell_type": "markdown",
   "metadata": {},
   "source": [
    "The false means that at least one requirment is not satisfied. We can take a look at the file that was generated."
   ]
  },
  {
   "cell_type": "code",
   "execution_count": null,
   "metadata": {},
   "outputs": [
    {
     "data": {
      "text/html": [
       "<div>\n",
       "<style scoped>\n",
       "    .dataframe tbody tr th:only-of-type {\n",
       "        vertical-align: middle;\n",
       "    }\n",
       "\n",
       "    .dataframe tbody tr th {\n",
       "        vertical-align: top;\n",
       "    }\n",
       "\n",
       "    .dataframe thead th {\n",
       "        text-align: right;\n",
       "    }\n",
       "</style>\n",
       "<table border=\"1\" class=\"dataframe\">\n",
       "  <thead>\n",
       "    <tr style=\"text-align: right;\">\n",
       "      <th></th>\n",
       "      <th>ID</th>\n",
       "      <th>GPA</th>\n",
       "      <th>Gender</th>\n",
       "      <th>Ethnicity</th>\n",
       "      <th>Major</th>\n",
       "      <th>Math Skills</th>\n",
       "      <th>Programming Skills</th>\n",
       "      <th>Statistic Skills</th>\n",
       "      <th>Group Number</th>\n",
       "    </tr>\n",
       "  </thead>\n",
       "  <tbody>\n",
       "    <tr>\n",
       "      <th>0</th>\n",
       "      <td>dol005</td>\n",
       "      <td>3.9</td>\n",
       "      <td>M</td>\n",
       "      <td>-</td>\n",
       "      <td>COGS</td>\n",
       "      <td>5</td>\n",
       "      <td>5</td>\n",
       "      <td>3</td>\n",
       "      <td>1</td>\n",
       "    </tr>\n",
       "    <tr>\n",
       "      <th>1</th>\n",
       "      <td>xiw013</td>\n",
       "      <td>3.1</td>\n",
       "      <td>M</td>\n",
       "      <td>-</td>\n",
       "      <td>DSC</td>\n",
       "      <td>3</td>\n",
       "      <td>1</td>\n",
       "      <td>5</td>\n",
       "      <td>1</td>\n",
       "    </tr>\n",
       "    <tr>\n",
       "      <th>2</th>\n",
       "      <td>phantom</td>\n",
       "      <td>None</td>\n",
       "      <td>None</td>\n",
       "      <td>None</td>\n",
       "      <td>None</td>\n",
       "      <td>None</td>\n",
       "      <td>None</td>\n",
       "      <td>None</td>\n",
       "      <td>1</td>\n",
       "    </tr>\n",
       "    <tr>\n",
       "      <th>3</th>\n",
       "      <td>nmackler</td>\n",
       "      <td>3.4</td>\n",
       "      <td>F</td>\n",
       "      <td>B</td>\n",
       "      <td>COGS</td>\n",
       "      <td>2</td>\n",
       "      <td>3</td>\n",
       "      <td>2</td>\n",
       "      <td>2</td>\n",
       "    </tr>\n",
       "    <tr>\n",
       "      <th>4</th>\n",
       "      <td>jiz100</td>\n",
       "      <td>2.5</td>\n",
       "      <td>M</td>\n",
       "      <td>H</td>\n",
       "      <td>MATH</td>\n",
       "      <td>2</td>\n",
       "      <td>2</td>\n",
       "      <td>1</td>\n",
       "      <td>2</td>\n",
       "    </tr>\n",
       "  </tbody>\n",
       "</table>\n",
       "</div>"
      ],
      "text/plain": [
       "         ID   GPA Gender Ethnicity Major Math Skills Programming Skills  \\\n",
       "0    dol005   3.9      M         -  COGS           5                  5   \n",
       "1    xiw013   3.1      M         -   DSC           3                  1   \n",
       "2   phantom  None   None      None  None        None               None   \n",
       "3  nmackler   3.4      F         B  COGS           2                  3   \n",
       "4    jiz100   2.5      M         H  MATH           2                  2   \n",
       "\n",
       "  Statistic Skills  Group Number  \n",
       "0                3             1  \n",
       "1                5             1  \n",
       "2             None             1  \n",
       "3                2             2  \n",
       "4                1             2  "
      ]
     },
     "execution_count": null,
     "metadata": {},
     "output_type": "execute_result"
    }
   ],
   "source": [
    "details = pd.read_csv(os.path.join(outdir, \"195_group_specification_classlist.csv\"), on_bad_lines='skip')\n",
    "details.head()"
   ]
  },
  {
   "cell_type": "markdown",
   "metadata": {},
   "source": [
    "The following package will generate Canvas and GitHub groups based on this generated csv files."
   ]
  },
  {
   "cell_type": "code",
   "execution_count": null,
   "metadata": {},
   "outputs": [],
   "source": [
    "# | hide\n",
    "# keep-track of the file generated for clean up\n",
    "with open(\"dir.txt\", \"w+\") as f:\n",
    "    f.write(outdir)"
   ]
  },
  {
   "cell_type": "code",
   "execution_count": null,
   "metadata": {},
   "outputs": [],
   "source": [
    "#| hide \n",
    "shutil.rmtree(outdir)"
   ]
  },
  {
   "cell_type": "code",
   "execution_count": null,
   "metadata": {},
   "outputs": [],
   "source": [
    "#| hide\n",
    "import nbdev; nbdev.nbdev_export()"
   ]
  }
 ],
 "metadata": {
  "kernelspec": {
   "display_name": "python3",
   "language": "python",
   "name": "python3"
  }
 },
 "nbformat": 4,
 "nbformat_minor": 4
}
