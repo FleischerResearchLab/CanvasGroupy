{
 "cells": [
  {
   "cell_type": "markdown",
   "metadata": {},
   "source": [
    "# GitHub Group Creation\n",
    "\n",
    "> Create GitHub group based on the provided group information"
   ]
  },
  {
   "cell_type": "code",
   "execution_count": null,
   "metadata": {},
   "outputs": [],
   "source": [
    "#| default_exp gh_group"
   ]
  },
  {
   "cell_type": "code",
   "execution_count": null,
   "metadata": {},
   "outputs": [],
   "source": [
    "#| hide\n",
    "from nbdev.showdoc import *\n",
    "from fastcore.test import *\n",
    "from pprint import pprint"
   ]
  },
  {
   "cell_type": "code",
   "execution_count": null,
   "metadata": {},
   "outputs": [],
   "source": [
    "#| export\n",
    "from github import Github\n",
    "import github\n",
    "import json\n",
    "import time\n",
    "import os\n",
    "import glob"
   ]
  },
  {
   "cell_type": "code",
   "execution_count": null,
   "metadata": {},
   "outputs": [],
   "source": [
    "#| export\n",
    "#| hide\n",
    "class bcolors:\n",
    "    HEADER = '\\033[95m'\n",
    "    OKBLUE = '\\033[94m'\n",
    "    OKCYAN = '\\033[96m'\n",
    "    OKGREEN = '\\033[92m'\n",
    "    WARNING = '\\033[93m'\n",
    "    FAIL = '\\033[91m'\n",
    "    ENDC = '\\033[0m'\n",
    "    BOLD = '\\033[1m'\n",
    "    UNDERLINE = '\\033[4m'"
   ]
  },
  {
   "cell_type": "code",
   "execution_count": null,
   "metadata": {},
   "outputs": [],
   "source": [
    "#| export\n",
    "class GitHubGroup:\n",
    "    def __init__(self,\n",
    "                 credentials_fp=\"\", # the file path to the credential json\n",
    "                 org=\"\", # the organization name\n",
    "                 verbosity=0 # Controls the verbosity: 0=slient, 1=print status\n",
    "                ):\n",
    "        self.github = None\n",
    "        self.org = None\n",
    "        self.verbosity = verbosity\n",
    "        \n",
    "        if credentials_fp != \"\":\n",
    "            self.auth_github(credentials_fp)\n",
    "        if org != \"\":\n",
    "            self.set_org(org)\n",
    "\n",
    "    def auth_github(self,\n",
    "                    credentials_fp: str # the personal access token generated at GitHub Settings\n",
    "                   ):\n",
    "        \"Authenticate GitHub account with the provided credentials\"\n",
    "        with open(credentials_fp, \"r\") as f:\n",
    "            token = json.load(f)[\"GitHub Token\"]\n",
    "        self.github = Github(token)\n",
    "        # check authorization\n",
    "        _ = self.github.get_user().get_repos()[0]\n",
    "        if self.verbosity != 0:\n",
    "            print(f\"Successfully Authenticated. \"\n",
    "                  f\"GitHub account: {bcolors.OKGREEN} {self.github.get_user().login} {bcolors.ENDC}\")\n",
    "        \n",
    "    def set_org(self,\n",
    "                org: str # the target organization name\n",
    "               ):\n",
    "        \"Set the target organization for repo creation\"\n",
    "        self.org = self.github.get_organization(org)\n",
    "        if self.verbosity != 0:\n",
    "            print(f\"Target Organization Set: {bcolors.OKGREEN} {self.org.login} {bcolors.ENDC}\")\n",
    "\n",
    "    def create_repo(self,\n",
    "                    repo_name: str, # repository name\n",
    "                    repo_template=\"\", # template repository that new repo will use. If empty string, an empty repo will be created. Put in the format of \"<owner>/<repo>\"\n",
    "                    private=True, # visibility of the created repository\n",
    "                    description=\"\", # description for the GitHub repository\n",
    "                    personal_account=False, # create repos in personal GitHub account\n",
    "                    ) -> github.Repository.Repository:\n",
    "        \"Create a repository, either blank, or from a template\"\n",
    "        if self.org is None and personal_account:\n",
    "            raise ValueError(\"Organization is not set\")\n",
    "        if personal_account:\n",
    "            parent = self.github.get_user()\n",
    "        else:\n",
    "            parent = self.org\n",
    "        if repo_template == \"\":\n",
    "            return parent.create_repo(\n",
    "                name=repo_name,\n",
    "                private=private,\n",
    "                description=description\n",
    "            )\n",
    "        # create from templatez\n",
    "        return parent.create_repo_from_template(\n",
    "            name=repo_name,\n",
    "            repo=self.get_repo(repo_template),\n",
    "            private=private,\n",
    "            description=description,\n",
    "        )\n",
    "    \n",
    "    def get_repo(self,\n",
    "                 repo_full_name: str # full name of the target repository\n",
    "                ) -> github.Repository.Repository:\n",
    "        \"To get a repository by its name\"\n",
    "        return self.github.get_repo(repo_full_name)\n",
    "    \n",
    "    def get_org_repo(self,\n",
    "                     repo_full_name: str # full name of the target repository\n",
    "                    ) -> github.Repository.Repository:\n",
    "        \"Get a repository within the target organization\"\n",
    "        return self.org.get_repo(repo_full_name)\n",
    "\n",
    "    \n",
    "    def get_team(self,\n",
    "                 team_slug:str # team slug of the team\n",
    "                ) -> github.Team.Team:\n",
    "        \"Get the team inside the target organization\"\n",
    "        if self.org is None:\n",
    "            raise ValueError(\"The organization has not been set. Please set it via g.set_org\")\n",
    "        return self.org.get_team_by_slug(team_slug)\n",
    "    \n",
    "    def rename_files(self,\n",
    "                     repo: github.Repository.Repository, # the repository that we want to rename file\n",
    "                     og_filename: str, # old file name\n",
    "                     new_filename: str # new file name\n",
    "                    ):\n",
    "        \"Rename the file by delete the old file and commit the new file\"\n",
    "        file = repo.get_contents(og_filename)\n",
    "        repo.create_file(new_filename, \"rename files\", file.decoded_content)\n",
    "        repo.delete_file(og_filename, \"delete old files\", file.sha)\n",
    "        if self.verbosity != 0:\n",
    "            print(f\"File Successfully Renamed from \"\n",
    "                  f\" {bcolors.OKCYAN} {og_filename} {bcolors.ENDC} \"\n",
    "                  f\" to {bcolors.OKGREEN} {new_filename} {bcolors.ENDC}\")\n",
    "        \n",
    "    def add_collaborator(self,\n",
    "                          repo: github.Repository.Repository, # target repository\n",
    "                          collaborator:str, # GitHub username of the collaborator\n",
    "                          permission:str # `pull`, `push` or `admin`\n",
    "                         ):\n",
    "        \"Add collaborator to the repository with specified permission\"\n",
    "        repo.add_to_collaborators(collaborator, permission)\n",
    "        if self.verbosity != 0:\n",
    "            print(f\"Added Collaborator: {bcolors.OKGREEN} {collaborator} {bcolors.ENDC}\"\n",
    "                  f\" to: {bcolors.OKGREEN} {repo.name} {bcolors.ENDC} with \"\n",
    "                  f\"permission: {bcolors.OKGREEN} {permission} {bcolors.ENDC}\")\n",
    "    \n",
    "    def remove_collaborator(self,\n",
    "                            repo: github.Repository.Repository, # target repository\n",
    "                            collaborator:str, # GitHub username of the collaborator\n",
    "                           ):\n",
    "        \"Remove collaborator privilages from the repository\"\n",
    "        repo.remove_from_collaborators(collaborator)\n",
    "        \n",
    "    def resend_invitations(self,\n",
    "                          repo: github.Repository.Repository, # target repository\n",
    "                         ) -> [github.NamedUser.NamedUser]: # list of re-invited user\n",
    "        \"Resent Invitation to invitee who did not accept the invitation\"\n",
    "        pendings = list(repo.get_pending_invitations())\n",
    "        users = [p.invitee for p in pendings]\n",
    "        if self.verbosity != 0:\n",
    "            print(\"The list of pending invitation:\")\n",
    "            pprint(users)\n",
    "        for p in pendings:\n",
    "            repo.remove_invitation(p.id)\n",
    "            if self.verbosity != 0:\n",
    "                print(f\"{bcolors.WARNING} {p.invitee.login} Invite Revoked {p.invitee.login} {bcolors.ENDC}\")\n",
    "            self.add_collaborator(repo, p.invitee.login, p.permissions)\n",
    "            if self.verbosity != 0:\n",
    "                print(f\"{bcolors.OKGREEN} Invite Resent to {p.invitee.login} {bcolors.ENDC}\")\n",
    "        return users\n",
    "\n",
    "    def resent_invitations_team_repos(self,\n",
    "                                      team_slug: str # team slug (name) under the org\n",
    "                                     ):\n",
    "        \"For all repository under that team, Resent invitation to invitee who did not accept the inivtation\"\n",
    "        team = self.get_team(team_slug)\n",
    "        repos = team.get_repos()\n",
    "        for repo in repos:\n",
    "            if self.verbosity != 0:\n",
    "                print(f\"Repository {bcolors.OKCYAN} {repo.name} {bcolors.ENDC}:\")\n",
    "            _ = self.resend_invitations(repo)\n",
    "        \n",
    "    def add_team(self,\n",
    "                  repo: github.Repository.Repository, # target repository\n",
    "                  team_slug: str, # team slug (name)\n",
    "                  permission:str # `pull`, `push` or `admin`\n",
    "                 ):\n",
    "        \"Add team to the repository with specified permission\"\n",
    "        team = self.get_team(team_slug)\n",
    "        team.add_to_repos(repo)\n",
    "        team.update_team_repository(repo, permission)\n",
    "        if self.verbosity != 0:\n",
    "            print(f\"Team {bcolors.OKGREEN} {team.name} {bcolors.ENDC} \"\n",
    "                  f\"added to {bcolors.OKGREEN} {repo.name} {bcolors.ENDC} \"\n",
    "                  f\"with permission {bcolors.OKGREEN} {permission} {bcolors.ENDC}\")\n",
    "\n",
    "    def create_feedback_dir(self,\n",
    "                            repo: github.Repository.Repository, # target repository\n",
    "                            template_fp: str,\n",
    "                            destination=\"feedback\" # directory path of the template file.\n",
    "                           ):\n",
    "        \"Create feedback direcotry on local machine\"\n",
    "        os.makedirs(destination, exist_ok=True)\n",
    "        os.makedirs(f\"{destination}/{repo.name}\", exist_ok=True)\n",
    "        files = glob.glob(f\"{template_fp}/*\")\n",
    "        for file in files:\n",
    "            head = os.path.split(file)[1]\n",
    "            with open(file, \"r\") as f:\n",
    "                file = f.read()\n",
    "            with open(f\"{destination}/{repo.name}/{head}\", \"w+\") as f:\n",
    "                f.write(file)\n",
    "            if self.verbosity != 0:\n",
    "                print(f\"File {bcolors.OKGREEN}{head}{bcolors.ENDC} \"\n",
    "                      f\"created at {bcolors.OKGREEN}{destination}/{repo.name}{bcolors.ENDC}\"\n",
    "                     )\n",
    "\n",
    "    def create_issue(self,\n",
    "                     repo: github.Repository.Repository, # target repository\n",
    "                     title: str, # title of the issue,\n",
    "                     content: str # content of the issue\n",
    "                    ) -> github.Issue.Issue: # open issue\n",
    "        \"Create GitHub issue to the target repository\"\n",
    "        issue = repo.create_issue(title=title, body=content)\n",
    "        if self.verbosity != 0:\n",
    "            print(f\"In the repo: {bcolors.OKGREEN}{repo.name}{bcolors.ENDC},\")\n",
    "            print(f\"Issue {bcolors.OKGREEN}{title}{bcolors.ENDC} Created!\")\n",
    "        return issue\n",
    "    \n",
    "    def create_issue_from_md(self,\n",
    "                             repo: github.Repository.Repository, # target repository,\n",
    "                             md_fp: str # file path of the feedback markdown file\n",
    "                            ) -> github.Issue.Issue: # open issue\n",
    "        \"Create GitHub issue from markdown file.\"\n",
    "        md = \"\"\n",
    "        with open(md_fp, \"r\") as f:\n",
    "            md = f.read()\n",
    "        title = md.split(\"\\n\")[0][1:]\n",
    "        content = md\n",
    "        return self.create_issue(repo, title, content)\n",
    "    \n",
    "    def release_feedback(self,\n",
    "                         md_filename: str, # feedback markdown file name\n",
    "                         feedback_dir=\"feedback\", # feedback directory contains the markdown files\n",
    "                        ):\n",
    "        \"Release feedback via GitHub issue from all the feedbacks in the feedback directory\"\n",
    "        repo_names = os.listdir(feedback_dir)\n",
    "        for repo_name in repo_names:\n",
    "            if repo_name == \".DS_Store\":\n",
    "                continue\n",
    "            try:\n",
    "                repo = self.org.get_repo(repo_name)\n",
    "            except Exception:\n",
    "                print(f\"Repo: {bcolors.WARNING}{repo_name} NOT FOUND!{bcolors.ENDC}\")\n",
    "            self.create_issue_from_md(repo, os.path.join(feedback_dir, repo_name, md_filename))\n",
    "        \n",
    "    def create_group_repo(self,\n",
    "                          repo_name: str, # group repository name\n",
    "                          collaborators: [str], # list of collaborators GitHub id\n",
    "                          permission: str, # the permission of collaborators. `pull`, `push` or `admin`\n",
    "                          rename_files=dict(), # dictionary of files renames {<og_name>:<new_name>}\n",
    "                          repo_template=\"\", # If empty string, an empty repo will be created. Put in the format of \"<owner>/<repo>\"\n",
    "                          private=True, # visibility of the created repository\n",
    "                          description=\"\", # description for the GitHub repository\n",
    "                          team_slug=\"\", # team slug, add to this repo\n",
    "                          team_permission=\"\", # team permission to this repository `pull`, `push` or `admin`\n",
    "                          feedback_dir=False, # whether to create a feedback directory for each repository created\n",
    "                          feedback_template_fp=\"\", # the directory of the feedback template\n",
    "                         ) -> github.Repository.Repository: # created repository\n",
    "        \"Create a Group Repository\"\n",
    "        repo = self.create_repo(repo_name, repo_template, private, description)\n",
    "        if self.verbosity != 0:\n",
    "            print(f\"Repo {bcolors.OKGREEN} {repo.name} {bcolors.ENDC} Created... Wait for 3 sec to updates\")\n",
    "        time.sleep(3)\n",
    "        for og_name, new_name in rename_files.items():\n",
    "            self.rename_files(repo, og_name, new_name)\n",
    "        for collaborator in collaborators:\n",
    "            self.add_collaborator(repo, collaborator, permission)\n",
    "        if team_slug != \"\":\n",
    "            self.add_team(repo, team_slug, team_permission)\n",
    "        if self.verbosity != 0:\n",
    "            print(f\"Group Repo: {bcolors.OKGREEN} {repo_name} {bcolors.ENDC} successfuly created!\")\n",
    "        if feedback_dir:\n",
    "            if feedback_template_fp == \"\":\n",
    "                raise ValueError(\"You have to specify the template files.\")\n",
    "            self.create_feedback_dir(repo, template_fp=feedback_template_fp)\n",
    "        return repo\n"
   ]
  },
  {
   "cell_type": "markdown",
   "metadata": {},
   "source": [
    "# GitHub Authentication\n",
    "\n",
    "View this [document](https://docs.google.com/document/d/1RvZnOX6nh0bXn6Zh4U-Yxazukuez5oGrtcP8mN-Roco/edit?usp=sharing) for how to set up your GitHub Personal Access Token. (TODO: be sure to specify scopes)\n",
    "\n",
    "Store the token information in a json file."
   ]
  },
  {
   "cell_type": "code",
   "execution_count": null,
   "metadata": {},
   "outputs": [
    {
     "name": "stdout",
     "output_type": "stream",
     "text": [
      "{\n",
      "  \"GitHub Token\": \"token\",\n",
      "  \"Canvas Token\": \"token\"\n",
      "}\n",
      "Successfully Authenticated. GitHub account: \u001b[92m scott-yj-yang \u001b[0m\n",
      "Target Organization Set: \u001b[92m COGS118A \u001b[0m\n"
     ]
    }
   ],
   "source": [
    "credentials_fp = \"credentials.json\"\n",
    "with open(credentials_fp, \"r\") as f:\n",
    "    # take a look at the token\n",
    "    print(f.read())\n",
    "credentials_fp = \"../../credentials.json\" #| hide_line\n",
    "g = GitHubGroup(credentials_fp=credentials_fp, org=\"COGS118A\", verbosity=1)"
   ]
  },
  {
   "cell_type": "markdown",
   "metadata": {},
   "source": [
    "Optionally, you can instansiate a GitHubGroup object and authenticate yourself by calling the following method."
   ]
  },
  {
   "cell_type": "code",
   "execution_count": null,
   "metadata": {},
   "outputs": [
    {
     "data": {
      "text/markdown": [
       "---\n",
       "\n",
       "### GitHubGroup.auth_github\n",
       "\n",
       ">      GitHubGroup.auth_github (credentials_fp:str)\n",
       "\n",
       "Authenticate GitHub account with the provided credentials\n",
       "\n",
       "|    | **Type** | **Details** |\n",
       "| -- | -------- | ----------- |\n",
       "| credentials_fp | str | the personal access token generated at GitHub Settings |"
      ],
      "text/plain": [
       "---\n",
       "\n",
       "### GitHubGroup.auth_github\n",
       "\n",
       ">      GitHubGroup.auth_github (credentials_fp:str)\n",
       "\n",
       "Authenticate GitHub account with the provided credentials\n",
       "\n",
       "|    | **Type** | **Details** |\n",
       "| -- | -------- | ----------- |\n",
       "| credentials_fp | str | the personal access token generated at GitHub Settings |"
      ]
     },
     "execution_count": null,
     "metadata": {},
     "output_type": "execute_result"
    }
   ],
   "source": [
    "show_doc(GitHubGroup.auth_github)"
   ]
  },
  {
   "cell_type": "code",
   "execution_count": null,
   "metadata": {},
   "outputs": [
    {
     "name": "stdout",
     "output_type": "stream",
     "text": [
      "Successfully Authenticated. GitHub account: \u001b[92m scott-yj-yang \u001b[0m\n"
     ]
    }
   ],
   "source": [
    "g = GitHubGroup(verbosity=1) # you can set verbosity to 1 to see the current progress\n",
    "g.auth_github(credentials_fp)"
   ]
  },
  {
   "cell_type": "markdown",
   "metadata": {},
   "source": [
    "# GitHub Organization Settings\n",
    "\n",
    "Usually, you want to create students repositories under a course GitHub organization. To set the target organization, you can call the following function."
   ]
  },
  {
   "cell_type": "code",
   "execution_count": null,
   "metadata": {},
   "outputs": [
    {
     "data": {
      "text/markdown": [
       "---\n",
       "\n",
       "[source](https://github.com/FleischerResearchLab/CanvasGroupy/blob/main/CanvasGroupy/gh_group.py#L55){target=\"_blank\" style=\"float:right; font-size:smaller\"}\n",
       "\n",
       "### GitHubGroup.set_org\n",
       "\n",
       ">      GitHubGroup.set_org (org:str)\n",
       "\n",
       "Set the target organization for repo creation\n",
       "\n",
       "|    | **Type** | **Details** |\n",
       "| -- | -------- | ----------- |\n",
       "| org | str | the target organization name |"
      ],
      "text/plain": [
       "---\n",
       "\n",
       "[source](https://github.com/FleischerResearchLab/CanvasGroupy/blob/main/CanvasGroupy/gh_group.py#L55){target=\"_blank\" style=\"float:right; font-size:smaller\"}\n",
       "\n",
       "### GitHubGroup.set_org\n",
       "\n",
       ">      GitHubGroup.set_org (org:str)\n",
       "\n",
       "Set the target organization for repo creation\n",
       "\n",
       "|    | **Type** | **Details** |\n",
       "| -- | -------- | ----------- |\n",
       "| org | str | the target organization name |"
      ]
     },
     "execution_count": null,
     "metadata": {},
     "output_type": "execute_result"
    }
   ],
   "source": [
    "show_doc(GitHubGroup.set_org)"
   ]
  },
  {
   "cell_type": "code",
   "execution_count": null,
   "metadata": {},
   "outputs": [
    {
     "name": "stdout",
     "output_type": "stream",
     "text": [
      "Target Organization Set: \u001b[92m COGS118A \u001b[0m\n"
     ]
    }
   ],
   "source": [
    "g.set_org(\"COGS118A\")"
   ]
  },
  {
   "cell_type": "markdown",
   "metadata": {},
   "source": [
    "# Create GitHub Group in one Call"
   ]
  },
  {
   "cell_type": "code",
   "execution_count": null,
   "metadata": {},
   "outputs": [
    {
     "data": {
      "text/markdown": [
       "---\n",
       "\n",
       "[source](https://github.com/FleischerResearchLab/CanvasGroupy/blob/main/CanvasGroupy/gh_group.py#L247){target=\"_blank\" style=\"float:right; font-size:smaller\"}\n",
       "\n",
       "### GitHubGroup.create_group_repo\n",
       "\n",
       ">      GitHubGroup.create_group_repo (repo_name:str,\n",
       ">                                     collaborators:[<class'str'>],\n",
       ">                                     permission:str, rename_files={},\n",
       ">                                     repo_template='', private=True,\n",
       ">                                     description='', team_slug='',\n",
       ">                                     team_permission='', feedback_dir=False,\n",
       ">                                     feedback_template_fp='')\n",
       "\n",
       "Create a Group Repository\n",
       "\n",
       "|    | **Type** | **Default** | **Details** |\n",
       "| -- | -------- | ----------- | ----------- |\n",
       "| repo_name | str |  | group repository name |\n",
       "| collaborators | [<class 'str'>] |  | list of collaborators GitHub id |\n",
       "| permission | str |  | the permission of collaborators. `pull`, `push` or `admin` |\n",
       "| rename_files | dict | {} | dictionary of files renames {<og_name>:<new_name>} |\n",
       "| repo_template | str |  | If empty string, an empty repo will be created. Put in the format of \"<owner>/<repo>\" |\n",
       "| private | bool | True | visibility of the created repository |\n",
       "| description | str |  | description for the GitHub repository |\n",
       "| team_slug | str |  | team slug, add to this repo |\n",
       "| team_permission | str |  | team permission to this repository `pull`, `push` or `admin` |\n",
       "| feedback_dir | bool | False | whether to create a feedback directory for each repository created |\n",
       "| feedback_template_fp | str |  | the directory of the feedback template |\n",
       "| **Returns** | **Repository** |  | **created repository** |"
      ],
      "text/plain": [
       "---\n",
       "\n",
       "[source](https://github.com/FleischerResearchLab/CanvasGroupy/blob/main/CanvasGroupy/gh_group.py#L247){target=\"_blank\" style=\"float:right; font-size:smaller\"}\n",
       "\n",
       "### GitHubGroup.create_group_repo\n",
       "\n",
       ">      GitHubGroup.create_group_repo (repo_name:str,\n",
       ">                                     collaborators:[<class'str'>],\n",
       ">                                     permission:str, rename_files={},\n",
       ">                                     repo_template='', private=True,\n",
       ">                                     description='', team_slug='',\n",
       ">                                     team_permission='', feedback_dir=False,\n",
       ">                                     feedback_template_fp='')\n",
       "\n",
       "Create a Group Repository\n",
       "\n",
       "|    | **Type** | **Default** | **Details** |\n",
       "| -- | -------- | ----------- | ----------- |\n",
       "| repo_name | str |  | group repository name |\n",
       "| collaborators | [<class 'str'>] |  | list of collaborators GitHub id |\n",
       "| permission | str |  | the permission of collaborators. `pull`, `push` or `admin` |\n",
       "| rename_files | dict | {} | dictionary of files renames {<og_name>:<new_name>} |\n",
       "| repo_template | str |  | If empty string, an empty repo will be created. Put in the format of \"<owner>/<repo>\" |\n",
       "| private | bool | True | visibility of the created repository |\n",
       "| description | str |  | description for the GitHub repository |\n",
       "| team_slug | str |  | team slug, add to this repo |\n",
       "| team_permission | str |  | team permission to this repository `pull`, `push` or `admin` |\n",
       "| feedback_dir | bool | False | whether to create a feedback directory for each repository created |\n",
       "| feedback_template_fp | str |  | the directory of the feedback template |\n",
       "| **Returns** | **Repository** |  | **created repository** |"
      ]
     },
     "execution_count": null,
     "metadata": {},
     "output_type": "execute_result"
    }
   ],
   "source": [
    "show_doc(GitHubGroup.create_group_repo)"
   ]
  },
  {
   "cell_type": "code",
   "execution_count": null,
   "metadata": {},
   "outputs": [
    {
     "name": "stdout",
     "output_type": "stream",
     "text": [
      "Repo \u001b[92m API_test_repo \u001b[0m Created... Wait for 3 sec to updates\n",
      "File Successfully Renamed from  \u001b[96m Checkpoint_groupXXX.ipynb \u001b[0m  to \u001b[92m Checkpoint_group001.ipynb \u001b[0m\n",
      "File Successfully Renamed from  \u001b[96m FinalProject_groupXXX.ipynb \u001b[0m  to \u001b[92m FinalProject_group001.ipynb \u001b[0m\n",
      "File Successfully Renamed from  \u001b[96m Proposal_groupXXX.ipynb \u001b[0m  to \u001b[92m Proposal_group001.ipynb \u001b[0m\n",
      "Added Collaborator: \u001b[92m jasongfleischer \u001b[0m to: \u001b[92m API_test_repo \u001b[0m with permission: \u001b[92m admin \u001b[0m\n",
      "Team \u001b[92m Instructors_Sp23 \u001b[0m added to \u001b[92m API_test_repo \u001b[0m with permission \u001b[92m admin \u001b[0m\n",
      "Group Repo: \u001b[92m API_test_repo \u001b[0m successfuly created!\n"
     ]
    }
   ],
   "source": [
    "repo = g.create_group_repo(\n",
    "    repo_name=\"API_test_repo\",\n",
    "    collaborators=[\"jasongfleischer\"],\n",
    "    permission=\"admin\",\n",
    "    repo_template=\"COGS118A/group_template\",\n",
    "    rename_files={\n",
    "        \"Checkpoint_groupXXX.ipynb\": \"Checkpoint_group001.ipynb\",\n",
    "        \"FinalProject_groupXXX.ipynb\": \"FinalProject_group001.ipynb\",\n",
    "        \"Proposal_groupXXX.ipynb\": \"Proposal_group001.ipynb\"\n",
    "    },\n",
    "    private=False,\n",
    "    description=\"Test Creation of Group Repo for COGS118A final project group\",\n",
    "    team_slug=\"Instructors_Sp23\",\n",
    "    team_permission=\"admin\"\n",
    ")"
   ]
  },
  {
   "cell_type": "code",
   "execution_count": null,
   "metadata": {},
   "outputs": [],
   "source": [
    "#| hide\n",
    "# take down the repo that we just created\n",
    "repo.delete()"
   ]
  },
  {
   "cell_type": "markdown",
   "metadata": {},
   "source": [
    "# Lower Level Methods\n",
    "\n",
    "Belows are the components that faciliate the `GitHubGroup.create_group_repo`. If errors were prompted during group creation scripts, or simply you want more flexibility, you can call those components individually.\n",
    "\n",
    "## Create GitHub Repository\n",
    "\n",
    "_Note:_ `GtiHubGroup.create_group_repo` call this method to create a GitHub repository\n",
    "\n",
    "`personal_account` argument controls the location of the repository creation. If set to `False` (default), it will create repository in the target organization. If set to `True`, the new repository will be created in the personal GitHub account."
   ]
  },
  {
   "cell_type": "code",
   "execution_count": null,
   "metadata": {},
   "outputs": [
    {
     "data": {
      "text/markdown": [
       "---\n",
       "\n",
       "[source](https://github.com/FleischerResearchLab/CanvasGroupy/blob/main/CanvasGroupy/gh_group.py#L63){target=\"_blank\" style=\"float:right; font-size:smaller\"}\n",
       "\n",
       "### GitHubGroup.create_repo\n",
       "\n",
       ">      GitHubGroup.create_repo (repo_name:str, repo_template='', private=True,\n",
       ">                               description='', personal_account=False)\n",
       "\n",
       "Create a repository, either blank, or from a template\n",
       "\n",
       "|    | **Type** | **Default** | **Details** |\n",
       "| -- | -------- | ----------- | ----------- |\n",
       "| repo_name | str |  | repository name |\n",
       "| repo_template | str |  | template repository that new repo will use. If empty string, an empty repo will be created. Put in the format of \"<owner>/<repo>\" |\n",
       "| private | bool | True | visibility of the created repository |\n",
       "| description | str |  | description for the GitHub repository |\n",
       "| personal_account | bool | False | create repos in personal GitHub account |\n",
       "| **Returns** | **Repository** |  |  |"
      ],
      "text/plain": [
       "---\n",
       "\n",
       "[source](https://github.com/FleischerResearchLab/CanvasGroupy/blob/main/CanvasGroupy/gh_group.py#L63){target=\"_blank\" style=\"float:right; font-size:smaller\"}\n",
       "\n",
       "### GitHubGroup.create_repo\n",
       "\n",
       ">      GitHubGroup.create_repo (repo_name:str, repo_template='', private=True,\n",
       ">                               description='', personal_account=False)\n",
       "\n",
       "Create a repository, either blank, or from a template\n",
       "\n",
       "|    | **Type** | **Default** | **Details** |\n",
       "| -- | -------- | ----------- | ----------- |\n",
       "| repo_name | str |  | repository name |\n",
       "| repo_template | str |  | template repository that new repo will use. If empty string, an empty repo will be created. Put in the format of \"<owner>/<repo>\" |\n",
       "| private | bool | True | visibility of the created repository |\n",
       "| description | str |  | description for the GitHub repository |\n",
       "| personal_account | bool | False | create repos in personal GitHub account |\n",
       "| **Returns** | **Repository** |  |  |"
      ]
     },
     "execution_count": null,
     "metadata": {},
     "output_type": "execute_result"
    }
   ],
   "source": [
    "show_doc(GitHubGroup.create_repo)"
   ]
  },
  {
   "cell_type": "markdown",
   "metadata": {},
   "source": [
    "_Note:_ `GtiHubGroup.create_group_repo` call this method to create a GitHub repository\n",
    "\n",
    "`personal_account` argument controls the location of the repository creation. If set to `False` (default), it will create repository in the target organization. If set to `True`, the new repository will be created in the personal GitHub account."
   ]
  },
  {
   "cell_type": "code",
   "execution_count": null,
   "metadata": {},
   "outputs": [
    {
     "name": "stdout",
     "output_type": "stream",
     "text": [
      "Repository(full_name=\"COGS118A/test-repo-organizational\")\n"
     ]
    }
   ],
   "source": [
    "# create a repo under the org\n",
    "repo = g.create_repo(\n",
    "    \"test-repo-organizational\",\n",
    "    private=True\n",
    ")\n",
    "print(repo)\n",
    "\n",
    "repo.delete() #| hide_line"
   ]
  },
  {
   "cell_type": "markdown",
   "metadata": {},
   "source": [
    "As you can see from the full name `COGS118A/test-repo`, it is created under the organization of `COGS118A`.\n",
    "\n",
    "Alternatively, I can also create a new repository under my personal account."
   ]
  },
  {
   "cell_type": "code",
   "execution_count": null,
   "metadata": {},
   "outputs": [
    {
     "name": "stdout",
     "output_type": "stream",
     "text": [
      "Repository(full_name=\"scott-yj-yang/test-repo-personal\")\n"
     ]
    }
   ],
   "source": [
    "# create a repo under the my personal account\n",
    "repo = g.create_repo(\n",
    "    \"test-repo-personal\",\n",
    "    private=True,\n",
    "    personal_account=True\n",
    ")\n",
    "print(repo)\n",
    "\n",
    "repo.delete() #| hide_line"
   ]
  },
  {
   "cell_type": "code",
   "execution_count": null,
   "metadata": {},
   "outputs": [
    {
     "name": "stdout",
     "output_type": "stream",
     "text": [
      "Repository(full_name=\"scott-yj-yang/test-repo-personal\")\n"
     ]
    }
   ],
   "source": [
    "# create a repo under the my personal account\n",
    "repo = g.create_repo(\n",
    "    repo_name=\"test-repo-personal\",\n",
    "    private=True,\n",
    "    personal_account=True\n",
    ")\n",
    "print(repo)\n",
    "\n",
    "repo.delete() #| hide_line"
   ]
  },
  {
   "cell_type": "markdown",
   "metadata": {},
   "source": [
    "### Create Repository from Template\n",
    "\n",
    "You can also create a repository with a template repository. To do that, specify the full name of the template repository to the `repo_template` parameter. From the output, we can see that the repository `test-repo-from-template` is created with the template files. "
   ]
  },
  {
   "cell_type": "code",
   "execution_count": null,
   "metadata": {},
   "outputs": [
    {
     "name": "stdout",
     "output_type": "stream",
     "text": [
      "Repository(full_name=\"COGS118A/test-repo-from-template\")\n",
      "\n",
      "This Repository contains... \n",
      "\n",
      "[ContentFile(path=\".gitignore\"),\n",
      " ContentFile(path=\"Checkpoint_groupXXX.ipynb\"),\n",
      " ContentFile(path=\"FinalProject_groupXXX.ipynb\"),\n",
      " ContentFile(path=\"Proposal_groupXXX.ipynb\"),\n",
      " ContentFile(path=\"README.md\")]\n"
     ]
    }
   ],
   "source": [
    "# create a repo from a template\n",
    "repo = g.create_repo(\n",
    "    repo_name=\"test-repo-from-template\",\n",
    "    repo_template=\"COGS118A/group_template\",\n",
    "    private=True\n",
    ")\n",
    "print(repo)\n",
    "\n",
    "# wait 3 sec for repository creation.\n",
    "time.sleep(3)\n",
    "\n",
    "print(\"\\nThis Repository contains... \\n\")\n",
    "pprint(repo.get_contents(\".\"))"
   ]
  },
  {
   "cell_type": "markdown",
   "metadata": {},
   "source": [
    "## Rename Files in the Repository\n",
    "\n",
    "Usually, the template file names are generics and is not specific to a group. Under the context of group project, we want to rename each notebook files with thier group numbers. For example, for Group 1, we want to rename the file `Checkpoint_groupXXX.ipynb` to `Checkpoint_group001.ipynb`. To do that, we can use the following method."
   ]
  },
  {
   "cell_type": "code",
   "execution_count": null,
   "metadata": {},
   "outputs": [
    {
     "data": {
      "text/markdown": [
       "---\n",
       "\n",
       "[source](https://github.com/FleischerResearchLab/CanvasGroupy/blob/main/CanvasGroupy/gh_group.py#L112){target=\"_blank\" style=\"float:right; font-size:smaller\"}\n",
       "\n",
       "### GitHubGroup.rename_files\n",
       "\n",
       ">      GitHubGroup.rename_files (repo:github.Repository.Repository,\n",
       ">                                og_filename:str, new_filename:str)\n",
       "\n",
       "Rename the file by delete the old file and commit the new file\n",
       "\n",
       "|    | **Type** | **Details** |\n",
       "| -- | -------- | ----------- |\n",
       "| repo | Repository | the repository that we want to rename file |\n",
       "| og_filename | str | old file name |\n",
       "| new_filename | str | new file name |"
      ],
      "text/plain": [
       "---\n",
       "\n",
       "[source](https://github.com/FleischerResearchLab/CanvasGroupy/blob/main/CanvasGroupy/gh_group.py#L112){target=\"_blank\" style=\"float:right; font-size:smaller\"}\n",
       "\n",
       "### GitHubGroup.rename_files\n",
       "\n",
       ">      GitHubGroup.rename_files (repo:github.Repository.Repository,\n",
       ">                                og_filename:str, new_filename:str)\n",
       "\n",
       "Rename the file by delete the old file and commit the new file\n",
       "\n",
       "|    | **Type** | **Details** |\n",
       "| -- | -------- | ----------- |\n",
       "| repo | Repository | the repository that we want to rename file |\n",
       "| og_filename | str | old file name |\n",
       "| new_filename | str | new file name |"
      ]
     },
     "execution_count": null,
     "metadata": {},
     "output_type": "execute_result"
    }
   ],
   "source": [
    "show_doc(GitHubGroup.rename_files)"
   ]
  },
  {
   "cell_type": "markdown",
   "metadata": {},
   "source": [
    "_Note:_ This method simply delete the old files and create new files with the updated file name. Therefore, 2 commits for each file is expected. (1 for delete, 1 for re-upload). For example, if I want to rename 5 files, I will have 10 commits need to do in total."
   ]
  },
  {
   "cell_type": "code",
   "execution_count": null,
   "metadata": {},
   "outputs": [
    {
     "name": "stdout",
     "output_type": "stream",
     "text": [
      "File Successfully Renamed from  \u001b[96m Checkpoint_groupXXX.ipynb \u001b[0m  to \u001b[92m Checkpoint_group001.ipynb \u001b[0m\n",
      "\n",
      "This Repository contains... \n",
      "\n",
      "[ContentFile(path=\".gitignore\"),\n",
      " ContentFile(path=\"Checkpoint_group001.ipynb\"),\n",
      " ContentFile(path=\"FinalProject_groupXXX.ipynb\"),\n",
      " ContentFile(path=\"Proposal_groupXXX.ipynb\"),\n",
      " ContentFile(path=\"README.md\")]\n"
     ]
    }
   ],
   "source": [
    "g.rename_files(\n",
    "    repo=repo,\n",
    "    og_filename=\"Checkpoint_groupXXX.ipynb\",\n",
    "    new_filename=\"Checkpoint_group001.ipynb\"\n",
    ")\n",
    "# take a look at new files\n",
    "print(\"\\nThis Repository contains... \\n\")\n",
    "pprint(repo.get_contents(\".\"))"
   ]
  },
  {
   "cell_type": "markdown",
   "metadata": {},
   "source": [
    "Notice that the files were renamed as expected."
   ]
  },
  {
   "cell_type": "markdown",
   "metadata": {},
   "source": [
    "## Collaborators and Teams Access Repository\n",
    "\n",
    "Once the repository was created, we need to give the student team members proper permission to write to the repository and instructional team to be the admin of the repository. Those two functionalities are achieve by the following two methods."
   ]
  },
  {
   "cell_type": "code",
   "execution_count": null,
   "metadata": {},
   "outputs": [
    {
     "data": {
      "text/markdown": [
       "---\n",
       "\n",
       "[source](https://github.com/FleischerResearchLab/CanvasGroupy/blob/main/CanvasGroupy/gh_group.py#L126){target=\"_blank\" style=\"float:right; font-size:smaller\"}\n",
       "\n",
       "### GitHubGroup.add_collaborator\n",
       "\n",
       ">      GitHubGroup.add_collaborator (repo:github.Repository.Repository,\n",
       ">                                    collaborator:str, permission:str)\n",
       "\n",
       "Add collaborator to the repository with specified permission\n",
       "\n",
       "|    | **Type** | **Details** |\n",
       "| -- | -------- | ----------- |\n",
       "| repo | Repository | target repository |\n",
       "| collaborator | str | GitHub username of the collaborator |\n",
       "| permission | str | `pull`, `push` or `admin` |"
      ],
      "text/plain": [
       "---\n",
       "\n",
       "[source](https://github.com/FleischerResearchLab/CanvasGroupy/blob/main/CanvasGroupy/gh_group.py#L126){target=\"_blank\" style=\"float:right; font-size:smaller\"}\n",
       "\n",
       "### GitHubGroup.add_collaborator\n",
       "\n",
       ">      GitHubGroup.add_collaborator (repo:github.Repository.Repository,\n",
       ">                                    collaborator:str, permission:str)\n",
       "\n",
       "Add collaborator to the repository with specified permission\n",
       "\n",
       "|    | **Type** | **Details** |\n",
       "| -- | -------- | ----------- |\n",
       "| repo | Repository | target repository |\n",
       "| collaborator | str | GitHub username of the collaborator |\n",
       "| permission | str | `pull`, `push` or `admin` |"
      ]
     },
     "execution_count": null,
     "metadata": {},
     "output_type": "execute_result"
    }
   ],
   "source": [
    "show_doc(GitHubGroup.add_collaborator)"
   ]
  },
  {
   "cell_type": "code",
   "execution_count": null,
   "metadata": {},
   "outputs": [
    {
     "name": "stdout",
     "output_type": "stream",
     "text": [
      "Added Collaborator: \u001b[92m Andrina-iris \u001b[0m to: \u001b[92m test-repo-from-template \u001b[0m with permission: \u001b[92m write \u001b[0m\n"
     ]
    }
   ],
   "source": [
    "# add collaborator to the repository with push permission\n",
    "g.add_collaborator(\n",
    "    repo=repo,\n",
    "    collaborator=\"Andrina-iris\",\n",
    "    permission=\"write\"\n",
    ")"
   ]
  },
  {
   "cell_type": "markdown",
   "metadata": {},
   "source": [
    "In almost every quarter, at least 10 students forgot to accept the invitation to join the group repository. Historially, our instructional team handle those student's GitHub account on a case-by-case basis. However, with this module, it is possible to resent all pending and expired invitations to those students with one call."
   ]
  },
  {
   "cell_type": "code",
   "execution_count": null,
   "metadata": {},
   "outputs": [
    {
     "data": {
      "text/markdown": [
       "---\n",
       "\n",
       "[source](https://github.com/FleischerResearchLab/CanvasGroupy/blob/main/CanvasGroupy/gh_group.py#L145){target=\"_blank\" style=\"float:right; font-size:smaller\"}\n",
       "\n",
       "### GitHubGroup.resend_invitations\n",
       "\n",
       ">      GitHubGroup.resend_invitations (repo:github.Repository.Repository)\n",
       "\n",
       "Resent Invitation to invitee who did not accept the invitation\n",
       "\n",
       "|    | **Type** | **Details** |\n",
       "| -- | -------- | ----------- |\n",
       "| repo | Repository | target repository |\n",
       "| **Returns** | **[<class 'github.NamedUser.NamedUser'>]** | **list of re-invited user** |"
      ],
      "text/plain": [
       "---\n",
       "\n",
       "[source](https://github.com/FleischerResearchLab/CanvasGroupy/blob/main/CanvasGroupy/gh_group.py#L145){target=\"_blank\" style=\"float:right; font-size:smaller\"}\n",
       "\n",
       "### GitHubGroup.resend_invitations\n",
       "\n",
       ">      GitHubGroup.resend_invitations (repo:github.Repository.Repository)\n",
       "\n",
       "Resent Invitation to invitee who did not accept the invitation\n",
       "\n",
       "|    | **Type** | **Details** |\n",
       "| -- | -------- | ----------- |\n",
       "| repo | Repository | target repository |\n",
       "| **Returns** | **[<class 'github.NamedUser.NamedUser'>]** | **list of re-invited user** |"
      ]
     },
     "execution_count": null,
     "metadata": {},
     "output_type": "execute_result"
    }
   ],
   "source": [
    "show_doc(GitHubGroup.resend_invitations)"
   ]
  },
  {
   "cell_type": "markdown",
   "metadata": {},
   "source": [
    "Students will receive an email from GitHub with the freshly made, unexpired invitation to their group repository."
   ]
  },
  {
   "cell_type": "code",
   "execution_count": null,
   "metadata": {},
   "outputs": [
    {
     "name": "stdout",
     "output_type": "stream",
     "text": [
      "The list of pending invitation:\n",
      "[NamedUser(login=\"Andrina-iris\")]\n",
      "\u001b[93m Andrina-iris Invite Revoked Andrina-iris \u001b[0m\n",
      "Added Collaborator: \u001b[92m Andrina-iris \u001b[0m to: \u001b[92m test-repo-from-template \u001b[0m with permission: \u001b[92m write \u001b[0m\n",
      "\u001b[92m Invite Resent to Andrina-iris \u001b[0m\n"
     ]
    },
    {
     "data": {
      "text/plain": [
       "[NamedUser(login=\"Andrina-iris\")]"
      ]
     },
     "execution_count": null,
     "metadata": {},
     "output_type": "execute_result"
    }
   ],
   "source": [
    "g.resend_invitations(repo)"
   ]
  },
  {
   "cell_type": "markdown",
   "metadata": {},
   "source": [
    "Additionally, course staffs should be in a team in the GitHub Organization in order to manage student repositories."
   ]
  },
  {
   "cell_type": "code",
   "execution_count": null,
   "metadata": {},
   "outputs": [
    {
     "data": {
      "text/markdown": [
       "---\n",
       "\n",
       "[source](https://github.com/FleischerResearchLab/CanvasGroupy/blob/main/CanvasGroupy/gh_group.py#L174){target=\"_blank\" style=\"float:right; font-size:smaller\"}\n",
       "\n",
       "### GitHubGroup.add_team\n",
       "\n",
       ">      GitHubGroup.add_team (repo:github.Repository.Repository, team_slug:str,\n",
       ">                            permission:str)\n",
       "\n",
       "Add team to the repository with specified permission\n",
       "\n",
       "|    | **Type** | **Details** |\n",
       "| -- | -------- | ----------- |\n",
       "| repo | Repository | target repository |\n",
       "| team_slug | str | team slug (name) |\n",
       "| permission | str | `pull`, `push` or `admin` |"
      ],
      "text/plain": [
       "---\n",
       "\n",
       "[source](https://github.com/FleischerResearchLab/CanvasGroupy/blob/main/CanvasGroupy/gh_group.py#L174){target=\"_blank\" style=\"float:right; font-size:smaller\"}\n",
       "\n",
       "### GitHubGroup.add_team\n",
       "\n",
       ">      GitHubGroup.add_team (repo:github.Repository.Repository, team_slug:str,\n",
       ">                            permission:str)\n",
       "\n",
       "Add team to the repository with specified permission\n",
       "\n",
       "|    | **Type** | **Details** |\n",
       "| -- | -------- | ----------- |\n",
       "| repo | Repository | target repository |\n",
       "| team_slug | str | team slug (name) |\n",
       "| permission | str | `pull`, `push` or `admin` |"
      ]
     },
     "execution_count": null,
     "metadata": {},
     "output_type": "execute_result"
    }
   ],
   "source": [
    "show_doc(GitHubGroup.add_team)"
   ]
  },
  {
   "cell_type": "code",
   "execution_count": null,
   "metadata": {},
   "outputs": [
    {
     "name": "stdout",
     "output_type": "stream",
     "text": [
      "Team \u001b[92m Instructors_Sp23 \u001b[0m added to \u001b[92m test-repo-from-template \u001b[0m with permission \u001b[92m admin \u001b[0m\n"
     ]
    }
   ],
   "source": [
    "g.add_team(\n",
    "    repo=repo,\n",
    "    team_slug=\"Instructors_Sp23\",\n",
    "    permission=\"admin\"\n",
    ")"
   ]
  },
  {
   "cell_type": "markdown",
   "metadata": {},
   "source": [
    "If you have all the students repositories under the same team, you can use the following method to resent all pending invitations from all the repositories under that team."
   ]
  },
  {
   "cell_type": "code",
   "execution_count": null,
   "metadata": {},
   "outputs": [
    {
     "data": {
      "text/markdown": [
       "---\n",
       "\n",
       "[source](https://github.com/FleischerResearchLab/CanvasGroupy/blob/main/CanvasGroupy/gh_group.py#L163){target=\"_blank\" style=\"float:right; font-size:smaller\"}\n",
       "\n",
       "### GitHubGroup.resent_invitations_team_repos\n",
       "\n",
       ">      GitHubGroup.resent_invitations_team_repos (team_slug:str)\n",
       "\n",
       "For all repository under that team, Resent invitation to invitee who did not accept the inivtation\n",
       "\n",
       "|    | **Type** | **Details** |\n",
       "| -- | -------- | ----------- |\n",
       "| team_slug | str | team slug (name) under the org |"
      ],
      "text/plain": [
       "---\n",
       "\n",
       "[source](https://github.com/FleischerResearchLab/CanvasGroupy/blob/main/CanvasGroupy/gh_group.py#L163){target=\"_blank\" style=\"float:right; font-size:smaller\"}\n",
       "\n",
       "### GitHubGroup.resent_invitations_team_repos\n",
       "\n",
       ">      GitHubGroup.resent_invitations_team_repos (team_slug:str)\n",
       "\n",
       "For all repository under that team, Resent invitation to invitee who did not accept the inivtation\n",
       "\n",
       "|    | **Type** | **Details** |\n",
       "| -- | -------- | ----------- |\n",
       "| team_slug | str | team slug (name) under the org |"
      ]
     },
     "execution_count": null,
     "metadata": {},
     "output_type": "execute_result"
    }
   ],
   "source": [
    "show_doc(GitHubGroup.resent_invitations_team_repos)"
   ]
  },
  {
   "cell_type": "code",
   "execution_count": null,
   "metadata": {},
   "outputs": [
    {
     "name": "stdout",
     "output_type": "stream",
     "text": [
      "Repository \u001b[96m AssignmentNotebooksSource_SP23 \u001b[0m:\n",
      "The list of pending invitation:\n",
      "[]\n",
      "Repository \u001b[96m AssignmentNotebooks_SP23 \u001b[0m:\n",
      "The list of pending invitation:\n",
      "[]\n",
      "Repository \u001b[96m DiscussionSectionNotebooks \u001b[0m:\n",
      "The list of pending invitation:\n",
      "[]\n",
      "Repository \u001b[96m Dockerfiles \u001b[0m:\n",
      "The list of pending invitation:\n",
      "[]\n",
      "Repository \u001b[96m Lectures \u001b[0m:\n",
      "The list of pending invitation:\n",
      "[]\n",
      "Repository \u001b[96m Notebooks \u001b[0m:\n",
      "The list of pending invitation:\n",
      "[]\n",
      "Repository \u001b[96m test-repo-from-template \u001b[0m:\n",
      "The list of pending invitation:\n",
      "[NamedUser(login=\"Andrina-iris\")]\n",
      "\u001b[93m Andrina-iris Invite Revoked Andrina-iris \u001b[0m\n",
      "Added Collaborator: \u001b[92m Andrina-iris \u001b[0m to: \u001b[92m test-repo-from-template \u001b[0m with permission: \u001b[92m write \u001b[0m\n",
      "\u001b[92m Invite Resent to Andrina-iris \u001b[0m\n"
     ]
    }
   ],
   "source": [
    "g.resent_invitations_team_repos(team_slug=\"Instructors_Sp23\")"
   ]
  },
  {
   "cell_type": "markdown",
   "metadata": {},
   "source": [
    "## Project Feedback and GitHub Issues\n",
    "\n",
    "Thanks for the group nature of the created repository, we can also use the created GitHub repository to create group project feedback to students via GitHub issues."
   ]
  },
  {
   "cell_type": "markdown",
   "metadata": {},
   "source": [
    "We can create a directory under the instructors computer. Each directory will have a folder for each group repository with the template file. The template files are usually the rubrics for the project grading.\n",
    "\n",
    "TODO: add file superlink to the repo to see the examples."
   ]
  },
  {
   "cell_type": "code",
   "execution_count": null,
   "metadata": {},
   "outputs": [
    {
     "data": {
      "text/markdown": [
       "---\n",
       "\n",
       "[source](https://github.com/FleischerResearchLab/CanvasGroupy/blob/main/CanvasGroupy/gh_group.py#L188){target=\"_blank\" style=\"float:right; font-size:smaller\"}\n",
       "\n",
       "### GitHubGroup.create_feedback_dir\n",
       "\n",
       ">      GitHubGroup.create_feedback_dir (repo:github.Repository.Repository,\n",
       ">                                       template_fp:str, destination='feedback')\n",
       "\n",
       "Create feedback direcotry on local machine\n",
       "\n",
       "|    | **Type** | **Default** | **Details** |\n",
       "| -- | -------- | ----------- | ----------- |\n",
       "| repo | Repository |  | target repository |\n",
       "| template_fp | str |  |  |\n",
       "| destination | str | feedback | directory path of the template file. |"
      ],
      "text/plain": [
       "---\n",
       "\n",
       "[source](https://github.com/FleischerResearchLab/CanvasGroupy/blob/main/CanvasGroupy/gh_group.py#L188){target=\"_blank\" style=\"float:right; font-size:smaller\"}\n",
       "\n",
       "### GitHubGroup.create_feedback_dir\n",
       "\n",
       ">      GitHubGroup.create_feedback_dir (repo:github.Repository.Repository,\n",
       ">                                       template_fp:str, destination='feedback')\n",
       "\n",
       "Create feedback direcotry on local machine\n",
       "\n",
       "|    | **Type** | **Default** | **Details** |\n",
       "| -- | -------- | ----------- | ----------- |\n",
       "| repo | Repository |  | target repository |\n",
       "| template_fp | str |  |  |\n",
       "| destination | str | feedback | directory path of the template file. |"
      ]
     },
     "execution_count": null,
     "metadata": {},
     "output_type": "execute_result"
    }
   ],
   "source": [
    "show_doc(GitHubGroup.create_feedback_dir)"
   ]
  },
  {
   "cell_type": "code",
   "execution_count": null,
   "metadata": {},
   "outputs": [
    {
     "name": "stdout",
     "output_type": "stream",
     "text": [
      "File \u001b[92mcheckpoint_feedback.md\u001b[0m created at \u001b[92mfeedback/test-repo-from-template\u001b[0m\n",
      "File \u001b[92mproposal_feedback.md\u001b[0m created at \u001b[92mfeedback/test-repo-from-template\u001b[0m\n",
      "File \u001b[92mfinal_project_feedback.md\u001b[0m created at \u001b[92mfeedback/test-repo-from-template\u001b[0m\n"
     ]
    },
    {
     "data": {
      "text/plain": [
       "['checkpoint_feedback.md', 'proposal_feedback.md', 'final_project_feedback.md']"
      ]
     },
     "execution_count": null,
     "metadata": {},
     "output_type": "execute_result"
    }
   ],
   "source": [
    "g.create_feedback_dir(repo, \"feedback_template\")\n",
    "# take a look at the generated tempalte files.\n",
    "os.listdir(f\"feedback/{repo.name}\")"
   ]
  },
  {
   "cell_type": "markdown",
   "metadata": {},
   "source": [
    "After created the project feedback, instructional team can modify the markdown rubrics and provide feedback to students via GitHub issue."
   ]
  },
  {
   "cell_type": "code",
   "execution_count": null,
   "metadata": {},
   "outputs": [
    {
     "data": {
      "text/markdown": [
       "---\n",
       "\n",
       "[source](https://github.com/FleischerResearchLab/CanvasGroupy/blob/main/CanvasGroupy/gh_group.py#L208){target=\"_blank\" style=\"float:right; font-size:smaller\"}\n",
       "\n",
       "### GitHubGroup.create_issue\n",
       "\n",
       ">      GitHubGroup.create_issue (repo:github.Repository.Repository, title:str,\n",
       ">                                content:str)\n",
       "\n",
       "Create GitHub issue to the target repository\n",
       "\n",
       "|    | **Type** | **Details** |\n",
       "| -- | -------- | ----------- |\n",
       "| repo | Repository | target repository |\n",
       "| title | str | title of the issue, |\n",
       "| content | str | content of the issue |\n",
       "| **Returns** | **Issue** | **open issue** |"
      ],
      "text/plain": [
       "---\n",
       "\n",
       "[source](https://github.com/FleischerResearchLab/CanvasGroupy/blob/main/CanvasGroupy/gh_group.py#L208){target=\"_blank\" style=\"float:right; font-size:smaller\"}\n",
       "\n",
       "### GitHubGroup.create_issue\n",
       "\n",
       ">      GitHubGroup.create_issue (repo:github.Repository.Repository, title:str,\n",
       ">                                content:str)\n",
       "\n",
       "Create GitHub issue to the target repository\n",
       "\n",
       "|    | **Type** | **Details** |\n",
       "| -- | -------- | ----------- |\n",
       "| repo | Repository | target repository |\n",
       "| title | str | title of the issue, |\n",
       "| content | str | content of the issue |\n",
       "| **Returns** | **Issue** | **open issue** |"
      ]
     },
     "execution_count": null,
     "metadata": {},
     "output_type": "execute_result"
    }
   ],
   "source": [
    "show_doc(GitHubGroup.create_issue)"
   ]
  },
  {
   "cell_type": "code",
   "execution_count": null,
   "metadata": {},
   "outputs": [
    {
     "name": "stdout",
     "output_type": "stream",
     "text": [
      "In the repo: \u001b[92mtest-repo-from-template\u001b[0m,\n",
      "Issue \u001b[92mTest Issue\u001b[0m Created!\n"
     ]
    },
    {
     "data": {
      "text/plain": [
       "Issue(title=\"Test Issue\", number=1)"
      ]
     },
     "execution_count": null,
     "metadata": {},
     "output_type": "execute_result"
    }
   ],
   "source": [
    "# create a test issue\n",
    "issue = g.create_issue(repo, \"Test Issue\", \"This is just a test issue.\")\n",
    "issue"
   ]
  },
  {
   "cell_type": "markdown",
   "metadata": {},
   "source": [
    "Alternatively, you can create issue from markdown files, where it contains all the comments and rubrics for this project. The first line of the markdown file will be the title of the github issue."
   ]
  },
  {
   "cell_type": "code",
   "execution_count": null,
   "metadata": {},
   "outputs": [
    {
     "data": {
      "text/markdown": [
       "---\n",
       "\n",
       "[source](https://github.com/FleischerResearchLab/CanvasGroupy/blob/main/CanvasGroupy/gh_group.py#L220){target=\"_blank\" style=\"float:right; font-size:smaller\"}\n",
       "\n",
       "### GitHubGroup.create_issue_from_md\n",
       "\n",
       ">      GitHubGroup.create_issue_from_md (repo:github.Repository.Repository,\n",
       ">                                        md_fp:str)\n",
       "\n",
       "Create GitHub issue from markdown file.\n",
       "\n",
       "|    | **Type** | **Details** |\n",
       "| -- | -------- | ----------- |\n",
       "| repo | Repository | target repository, |\n",
       "| md_fp | str | file path of the feedback markdown file |\n",
       "| **Returns** | **Issue** | **open issue** |"
      ],
      "text/plain": [
       "---\n",
       "\n",
       "[source](https://github.com/FleischerResearchLab/CanvasGroupy/blob/main/CanvasGroupy/gh_group.py#L220){target=\"_blank\" style=\"float:right; font-size:smaller\"}\n",
       "\n",
       "### GitHubGroup.create_issue_from_md\n",
       "\n",
       ">      GitHubGroup.create_issue_from_md (repo:github.Repository.Repository,\n",
       ">                                        md_fp:str)\n",
       "\n",
       "Create GitHub issue from markdown file.\n",
       "\n",
       "|    | **Type** | **Details** |\n",
       "| -- | -------- | ----------- |\n",
       "| repo | Repository | target repository, |\n",
       "| md_fp | str | file path of the feedback markdown file |\n",
       "| **Returns** | **Issue** | **open issue** |"
      ]
     },
     "execution_count": null,
     "metadata": {},
     "output_type": "execute_result"
    }
   ],
   "source": [
    "show_doc(GitHubGroup.create_issue_from_md)"
   ]
  },
  {
   "cell_type": "code",
   "execution_count": null,
   "metadata": {},
   "outputs": [
    {
     "name": "stdout",
     "output_type": "stream",
     "text": [
      "In the repo: \u001b[92mtest-repo-from-template\u001b[0m,\n",
      "Issue \u001b[92m Project Proposal Feedback\u001b[0m Created!\n"
     ]
    },
    {
     "data": {
      "text/plain": [
       "Issue(title=\" Project Proposal Feedback\", number=2)"
      ]
     },
     "execution_count": null,
     "metadata": {},
     "output_type": "execute_result"
    }
   ],
   "source": [
    "issue = g.create_issue_from_md(repo, \"feedback_template/proposal_feedback.md\")\n",
    "issue"
   ]
  },
  {
   "cell_type": "markdown",
   "metadata": {},
   "source": [
    "### Release Feedback in Batch\n",
    "\n",
    "During projct grading, we will handle numerous groups at once. Once the instructor team finish modifying the markdown file for each group, we can release feedback to each of the project repository, as long as they have the same file name. For example, we have finish grading the final project, in the file name of `feedback/<repo_name>/final_project_feedback.md`, and they are ready to be publish, we can call the following function to create issue in batch."
   ]
  },
  {
   "cell_type": "code",
   "execution_count": null,
   "metadata": {},
   "outputs": [
    {
     "data": {
      "text/markdown": [
       "---\n",
       "\n",
       "[source](https://github.com/FleischerResearchLab/CanvasGroupy/blob/main/CanvasGroupy/gh_group.py#L232){target=\"_blank\" style=\"float:right; font-size:smaller\"}\n",
       "\n",
       "### GitHubGroup.release_feedback\n",
       "\n",
       ">      GitHubGroup.release_feedback (md_filename:str, feedback_dir='feedback')\n",
       "\n",
       "Release feedback via GitHub issue from all the feedbacks in the feedback directory\n",
       "\n",
       "|    | **Type** | **Default** | **Details** |\n",
       "| -- | -------- | ----------- | ----------- |\n",
       "| md_filename | str |  | feedback markdown file name |\n",
       "| feedback_dir | str | feedback | feedback directory contains the markdown files |"
      ],
      "text/plain": [
       "---\n",
       "\n",
       "[source](https://github.com/FleischerResearchLab/CanvasGroupy/blob/main/CanvasGroupy/gh_group.py#L232){target=\"_blank\" style=\"float:right; font-size:smaller\"}\n",
       "\n",
       "### GitHubGroup.release_feedback\n",
       "\n",
       ">      GitHubGroup.release_feedback (md_filename:str, feedback_dir='feedback')\n",
       "\n",
       "Release feedback via GitHub issue from all the feedbacks in the feedback directory\n",
       "\n",
       "|    | **Type** | **Default** | **Details** |\n",
       "| -- | -------- | ----------- | ----------- |\n",
       "| md_filename | str |  | feedback markdown file name |\n",
       "| feedback_dir | str | feedback | feedback directory contains the markdown files |"
      ]
     },
     "execution_count": null,
     "metadata": {},
     "output_type": "execute_result"
    }
   ],
   "source": [
    "show_doc(GitHubGroup.release_feedback)"
   ]
  },
  {
   "cell_type": "code",
   "execution_count": null,
   "metadata": {},
   "outputs": [
    {
     "name": "stdout",
     "output_type": "stream",
     "text": [
      "In the repo: \u001b[92mtest-repo-from-template\u001b[0m,\n",
      "Issue \u001b[92m Final Project Feedback\u001b[0m Created!\n"
     ]
    }
   ],
   "source": [
    "g.release_feedback(\"final_project_feedback.md\")"
   ]
  },
  {
   "cell_type": "code",
   "execution_count": null,
   "metadata": {},
   "outputs": [],
   "source": [
    "#| hide\n",
    "repo.delete()"
   ]
  },
  {
   "cell_type": "code",
   "execution_count": null,
   "metadata": {},
   "outputs": [],
   "source": [
    "#| hide\n",
    "import nbdev; nbdev.nbdev_export()"
   ]
  }
 ],
 "metadata": {
  "kernelspec": {
   "display_name": "python3",
   "language": "python",
   "name": "python3"
  }
 },
 "nbformat": 4,
 "nbformat_minor": 4
}
