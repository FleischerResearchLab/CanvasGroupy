{
 "cells": [
  {
   "cell_type": "markdown",
   "metadata": {},
   "source": [
    "# Canvas Group Creation\n",
    "\n",
    "> Create canvas group via Canvas API"
   ]
  },
  {
   "cell_type": "code",
   "execution_count": null,
   "metadata": {},
   "outputs": [],
   "source": [
    "#| default_exp canvas"
   ]
  },
  {
   "cell_type": "code",
   "execution_count": null,
   "metadata": {},
   "outputs": [],
   "source": [
    "#| hide\n",
    "from nbdev.showdoc import *\n",
    "from fastcore.test import *"
   ]
  },
  {
   "cell_type": "code",
   "execution_count": null,
   "metadata": {},
   "outputs": [],
   "source": [
    "#| export\n",
    "from canvasapi import Canvas\n",
    "from github import Github\n",
    "import canvasapi\n",
    "import json\n",
    "import requests\n",
    "import time\n",
    "import sys\n",
    "import numpy as np\n",
    "import pandas as pd\n",
    "from io import StringIO"
   ]
  },
  {
   "cell_type": "code",
   "execution_count": null,
   "metadata": {},
   "outputs": [],
   "source": [
    "#| export\n",
    "#| hide\n",
    "class bcolors:\n",
    "    HEADER = '\\033[95m'\n",
    "    OKBLUE = '\\033[94m'\n",
    "    OKCYAN = '\\033[96m'\n",
    "    OKGREEN = '\\033[92m'\n",
    "    WARNING = '\\033[93m'\n",
    "    FAIL = '\\033[91m'\n",
    "    ENDC = '\\033[0m'\n",
    "    BOLD = '\\033[1m'\n",
    "    UNDERLINE = '\\033[4m'"
   ]
  },
  {
   "cell_type": "code",
   "execution_count": null,
   "metadata": {},
   "outputs": [],
   "source": [
    "#| export\n",
    "\n",
    "class CanvasGroup():\n",
    "    def __init__(self,\n",
    "                 credentials_fp = \"\", # credential file path. [Template of the credentials.json](https://github.com/FleischerResearchLab/CanvasGroupy/blob/main/nbs/credentials.json)\n",
    "                 API_URL=\"https://canvas.ucsd.edu\", # the domain name of canvas\n",
    "                 course_id=\"\", # Course ID, can be found in the course url\n",
    "                 group_category=\"\", # target group category (set) of interests\n",
    "                 verbosity=1 # Controls the verbosity: 0 = Silent, 1 = print all messages\n",
    "                ):\n",
    "        \"Initialize Canvas Group within a Group Set and its appropriate memberships\"\n",
    "        self.API_URL = API_URL\n",
    "        self.canvas = None\n",
    "        self.course = None\n",
    "        self.group_category = None\n",
    "        self.group_categories = None\n",
    "        self.groups = None\n",
    "        self.users = None\n",
    "        self.email_to_canvas_id = None\n",
    "        self.canvas_id_to_email = None\n",
    "        self.email_to_name = None\n",
    "        self.API_KEY = None\n",
    "        self.github = None\n",
    "        self.credentials_fp = None\n",
    "        self.groups = None\n",
    "        self.group_to_emails = None\n",
    "        self.verbosity = verbosity\n",
    "        \n",
    "        # initialize by the input parameter\n",
    "        if credentials_fp != \"\":\n",
    "            self.auth_canvas(credentials_fp)\n",
    "        if course_id != \"\":\n",
    "            self.set_course(course_id)\n",
    "            self.get_group_categories()\n",
    "        if group_category != \"\":\n",
    "            self.set_group_category(group_category)\n",
    "            \n",
    "    def auth_canvas(self,\n",
    "                    credentials_fp: str # the Authenticator key generated from canvas\n",
    "                   ):\n",
    "        \"Authorize the canvas module with API_KEY\"\n",
    "        self.credentials_fp = credentials_fp\n",
    "        with open(credentials_fp, \"r\") as f:\n",
    "            credentials = json.load(f)\n",
    "        self.API_KEY = credentials[\"Canvas Token\"]\n",
    "        self.canvas = Canvas(self.API_URL, self.API_KEY)\n",
    "        # test authorization\n",
    "        _ = self.canvas.get_activity_stream_summary()\n",
    "        if self.verbosity != 0:\n",
    "            print(f\"{bcolors.OKGREEN}Authorization Successful!{bcolors.ENDC}\")\n",
    "        \n",
    "    def set_course(self, \n",
    "                   course_id: int # the course id of the target course\n",
    "                  ):\n",
    "        \"Set the target course by the course ID\"\n",
    "        self.course = self.canvas.get_course(course_id)\n",
    "        if self.verbosity != 0:\n",
    "            print(f\"Course Set: {bcolors.OKGREEN} {self.course.name} {bcolors.ENDC}\")\n",
    "            print(f\"Getting List of Users... This might take a while...\")\n",
    "        self.users = list(self.course.get_users(enrollment_type=['student']))\n",
    "        if self.verbosity != 0:\n",
    "            print(f\"Users Fetch Complete! The course has {bcolors.OKBLUE}{len(self.users)}{bcolors.ENDC} students.\")\n",
    "        self.email_to_canvas_id = {}\n",
    "        self.canvas_id_to_email = {}\n",
    "        self.email_to_name = {}\n",
    "        for u in self.users:\n",
    "            try:\n",
    "                self.email_to_canvas_id[u.email.split(\"@\")[0]] = u.id\n",
    "                self.canvas_id_to_email[u.id] = u.email.split(\"@\")[0]\n",
    "                self.email_to_name[u.email.split(\"@\")[0]] = u.short_name\n",
    "            except Exception:\n",
    "                if self.verbosity != 0:\n",
    "                    print(f\"{bcolors.WARNING}Failed to Parse email and id\"\n",
    "                          f\" for {bcolors.UNDERLINE}{u.short_name}{bcolors.ENDC}{bcolors.ENDC}\")\n",
    "\n",
    "    def get_email_by_name(self,\n",
    "                          name_fussy: str # search by first name or last name of student\n",
    "                         ) -> str: # email of search student\n",
    "        name_fussy = name_fussy.lower()\n",
    "        for email, name in self.email_to_name.items():\n",
    "            if name_fussy in name.lower():\n",
    "                return email\n",
    "        raise ValueError(f\"Name {name_fussy} Not Found.\")\n",
    "        \n",
    "        \n",
    "    def set_group_category(self,\n",
    "                           category_name: str # the target group category\n",
    "                          ) -> canvasapi.group.GroupCategory: # target group category object\n",
    "        _ = self.get_group_categories()\n",
    "        try:\n",
    "            self.group_category = self.group_categories[category_name]\n",
    "        except KeyError:\n",
    "            raise KeyError(f\"{category_name} did not found in the group categories. \"\n",
    "                           f\"Try to create one with CanvasGroup.create_group_category\")\n",
    "        self.groups = list(self.group_category.get_groups())\n",
    "        self.group_to_emails = {\n",
    "            group.name: [\n",
    "                u.login_id for u in list(group.get_users())\n",
    "            ] for group in self.groups}\n",
    "        if self.verbosity != 0:\n",
    "            print(f\"Group Category: {bcolors.OKGREEN+category_name+bcolors.ENDC} Set!\")\n",
    "        return self.group_category\n",
    "    \n",
    "    def get_groups(self,\n",
    "                   category_name=\"\" # the target group category. If not provided, will look for self.group_category\n",
    "                  ) -> dict: # {group_name: [student_emails]}\n",
    "        if category_name != \"\":\n",
    "            self.set_group_category(category_name)\n",
    "            return self.group_to_emails\n",
    "        if self.group_category is None:\n",
    "            raise ValueError(\"Group Category is not set\")\n",
    "        return self.group_to_emails\n",
    "        \n",
    "    def get_course(self):\n",
    "        return self.course\n",
    "    \n",
    "    def get_group_categories(self) -> dict: # return a name / group category object\n",
    "        \"Grab all existing group category (group set) in this course\"\n",
    "        categories = list(self.course.get_group_categories())\n",
    "        self.group_categories = {cat.name: cat for cat in categories}\n",
    "        return {cat.name: cat for cat in categories}\n",
    "    \n",
    "    def create_group_category(self,\n",
    "                              params: dict # the parameter of canvas group category API @ [this link](https://canvas.instructure.com/doc/api/group_categories.html#method.group_categories.create)\n",
    "                             ) -> canvasapi.group.GroupCategory: # the generated group category object\n",
    "        \"Create group category (group set) in this course\"\n",
    "        self.group_category = self.course.create_group_category(**params)\n",
    "        return self.group_category\n",
    "    \n",
    "    def create_group(self,\n",
    "                     params: dict, #the parameter of canvas group create API at [this link](https://canvas.instructure.com/doc/api/groups.html#method.groups.create)\n",
    "                    ) -> canvasapi.group.Group: # the generated target group object\n",
    "        \"Create canvas group under the target group category\"\n",
    "        if self.group_category is None:\n",
    "            raise ValueError(\"Have you specified or create a group category (group set)?\")\n",
    "        group = self.group_category.create_group(**params)\n",
    "        if self.verbosity != 0:\n",
    "            print(f\"In Group Set: {bcolors.OKBLUE+self.group_category.name+bcolors.ENDC},\")\n",
    "            print(f\"Group {bcolors.OKGREEN+params['name']+bcolors.ENDC} Created!\")\n",
    "        return group\n",
    "    \n",
    "    def join_canvas_group(self,\n",
    "                          group: canvasapi.group.Group, # the group that students will join\n",
    "                          group_members:[str], # list of group member's SIS Login (email prefix, before the @.)\n",
    "                         ) -> [str]: # list of unsuccessful join\n",
    "        \"Add membership access of each group member into the group\"\n",
    "        unsuccessful_join = []\n",
    "        for group_member in group_members:\n",
    "            try:\n",
    "                canvas_id = self.email_to_canvas_id[group_member]\n",
    "                group.create_membership(canvas_id)\n",
    "                if self.verbosity != 0:\n",
    "                    print(f\"Member {bcolors.OKGREEN}{group_member}{bcolors.ENDC} Joined group {bcolors.OKGREEN}{group.name}{bcolors.ENDC}\")\n",
    "            except KeyError as e:\n",
    "                unsuccessful_join.append(group_member)\n",
    "                print(f\"Error adding student {bcolors.WARNING+group_member+bcolors.ENDC} \\n into group {group.name}\")\n",
    "                print(e)\n",
    "        return unsuccessful_join\n",
    "    \n",
    "    def fetch_username_from_quiz(self,\n",
    "                                 quiz_id: int, # quiz id of the username quiz\n",
    "                                 col_index=7, # canvas quiz generated csv's question field column index\n",
    "                                ) -> dict: # {SIS Login ID: github username} dictionary\n",
    "        \"Fetch the GitHub user name from the canvas quiz\"\n",
    "        header = {'Authorization': 'Bearer ' + self.API_KEY}\n",
    "        quiz = self.course.get_quiz(quiz_id)\n",
    "        if self.verbosity != 0:\n",
    "            print(f\"Quiz: {bcolors.OKGREEN+quiz.title+bcolors.ENDC} \"\n",
    "                  f\"fetch! \\nGenerating Student Analaysis...\"\n",
    "                 )\n",
    "        report = quiz.create_report(\"student_analysis\")\n",
    "        progress_url = report.progress_url\n",
    "        completed = False\n",
    "        while not completed:\n",
    "            status = requests.get(progress_url, headers = header).json()\n",
    "            if self.verbosity != 0:\n",
    "                self._progress(status[\"completion\"])\n",
    "                time.sleep(0.1)\n",
    "            if status[\"completion\"] == 100:\n",
    "                completed = True\n",
    "        if self.verbosity != 0:\n",
    "            print(f\"\\n{bcolors.OKGREEN}Report Generated!{bcolors.ENDC}\")\n",
    "        # use requests to download the file \n",
    "        file_url = quiz.create_report(\"student_analysis\").file[\"url\"]\n",
    "        response = requests.get(file_url, headers=header)\n",
    "        file = StringIO(response.content.decode())\n",
    "        # use pandas to parse the response csv\n",
    "        df = pd.read_csv(file, delimiter=\",\")\n",
    "        col = list(df.columns)\n",
    "        # rename column\n",
    "        if self.verbosity != 0:\n",
    "            print(f\"The Question asked is {bcolors.OKBLUE}{col[col_index]}{bcolors.ENDC}. \\n\"\n",
    "                  f\"Make sure this is the correct question where you asked student for their GitHub id.\\n\"\n",
    "                  f\"If you need to change the index of columns, change the col_index argument of this call.\"\n",
    "                 )\n",
    "        col[col_index] = \"GitHub Username\"\n",
    "        df.columns = col\n",
    "        small = df[[\"id\", \"GitHub Username\"]].copy()\n",
    "        small[\"email\"] = small[\"id\"].apply(lambda x: self.canvas_id_to_email[x])\n",
    "        small = small[[\"email\", \"GitHub Username\"]].set_index(\"email\")\n",
    "        return small.to_dict()[\"GitHub Username\"]\n",
    "    \n",
    "    def _check_single_github_username(self,\n",
    "                              email:str, # Student email\n",
    "                              github_username:str, # student input we want to test\n",
    "                             ) -> bool: # whether the username is valid\n",
    "        \"Check a single GitHub username on GitHub\"\n",
    "        if self.credentials_fp is None:\n",
    "            raise ValueError(\"Credentials not set. Set it via self.auth_canvas\")\n",
    "        if self.github is None:\n",
    "            # if the GitHub object has not been initialized\n",
    "            with open(self.credentials_fp, \"r\") as f:\n",
    "                credentials = json.load(f)\n",
    "            github_token = credentials[\"GitHub Token\"]\n",
    "            self.github = Github(github_token)\n",
    "        try:\n",
    "            self.github.get_user(github_username)\n",
    "        except Exception as e:\n",
    "            print(f\"User: {bcolors.WARNING+github_username+bcolors.ENDC} Not Found on GitHub\")\n",
    "            return False\n",
    "        return True\n",
    "\n",
    "    def check_github_usernames(self,\n",
    "                               github_usernames:dict, # {email: github username} of student inputs, generated from self.fetch_username_from_quiz\n",
    "                               send_canvas_email=False, # whether send a reminder for students who have an invalid GitHub username\n",
    "                               send_undone_reminder=False, # send quiz undone reminder using canvas email\n",
    "                               quiz_url=\"\", # include a quiz url in the conversation for student to quickly complete the quiz.\n",
    "                              ) -> dict: # {email: github username} of unreasonable GitHub id\n",
    "        \"batch check GitHub username from student inputs.\"\n",
    "        unsuccessful = {}\n",
    "        for email, github_username in github_usernames.items():\n",
    "            valid = self._check_single_github_username(email, github_username)\n",
    "            if not valid:\n",
    "                unsuccessful[email] = github_username\n",
    "                if send_canvas_email:\n",
    "                    self.create_conversation(\n",
    "                        self.email_to_canvas_id[email],\n",
    "                        subject=\"Unidentifiable GitHub Username\",\n",
    "                        body=(f\"Hi {email}, \\n Your GitHub Username: {github_username} \"\n",
    "                              f\"is unidentifiable on github.com. \\n Please complete the quiz GitHub Username Quiz again.\\n\"\n",
    "                              f\"{quiz_url} \\n\"\n",
    "                              f\"Thank You.\"\n",
    "                             )\n",
    "                    )\n",
    "                    if self.verbosity != 0:\n",
    "                        print(f\"{bcolors.OKGREEN}Notification Sent!{bcolors.ENDC}\")\n",
    "        if send_undone_reminder:\n",
    "            submitted = github_usernames.keys()\n",
    "            for email in self.email_to_canvas_id.keys():\n",
    "                if email not in submitted:\n",
    "                    if self.verbosity != 0:\n",
    "                        print(f\"Student {bcolors.WARNING}{email}{bcolors.ENDC} did not\"\n",
    "                              f\" submit their github username.\"\n",
    "                             )\n",
    "                    # means student did not submit the quiz\n",
    "                    if send_canvas_email:\n",
    "                        self.create_conversation(\n",
    "                            self.email_to_canvas_id[email],\n",
    "                            subject=\"GitHub Username Quiz Not Completed\",\n",
    "                            body=(f\"Hi {email}, \\n You did not complete the GitHub Quiz.\"\n",
    "                                  f\"\\n Please complete the quiz GitHub Username Quiz ASAP\\n\"\n",
    "                                  f\"{quiz_url} \\n\"\n",
    "                                  f\"Thank You.\"\n",
    "                                 )\n",
    "                        )\n",
    "                        if self.verbosity != 0:\n",
    "                            print(f\"{bcolors.OKGREEN}Notification Sent!{bcolors.ENDC}\")\n",
    "        return unsuccessful\n",
    "    \n",
    "    def _progress(self,\n",
    "                  percentage:int # percentage of the progress\n",
    "                 ):\n",
    "        sys.stdout.write('\\r')\n",
    "        # the exact output you're looking for:\n",
    "        sys.stdout.write(\"[%-20s] %d%%\" % ('='*int(percentage//5), percentage))\n",
    "        sys.stdout.flush()\n",
    "    \n",
    "    def assign_canvas_group(self,\n",
    "                            group_name: str, # group name, display on canvas\n",
    "                            group_members:[str], # list of group member's SIS Login\n",
    "                            in_group_category: str, # specify which group category the group belongs to\n",
    "                           ) -> (canvasapi.group.Group, [str]): # list of unsuccessful join\n",
    "        \"Create new groups and assign group member into the class in the `self.group_category`\"\n",
    "        self.set_group_category(in_group_category)\n",
    "        group = self.create_group({\"name\": group_name})\n",
    "        unsuccessful_join = self.join_canvas_group(group, group_members)\n",
    "        if self.verbosity != 0:\n",
    "            print(f\"Group {bcolors.OKGREEN+group_name+bcolors.ENDC} created!\")\n",
    "        return group, unsuccessful_join\n",
    "    \n",
    "    def create_conversation(self,\n",
    "                            recipients:int, #  recipient ids. These may be user ids or course/group ids prefixed with ‘course_’ or ‘group_’ respectively.\n",
    "                            subject:str, # subject of the conversation\n",
    "                            body:str, # The message to be sent\n",
    "                           ) -> canvasapi.conversation.Conversation: # created conversation\n",
    "        \"Create a conversation with the target user\"\n",
    "        conv = self.canvas.create_conversation(\n",
    "            [recipients],\n",
    "            body=body,\n",
    "            subject=subject,\n",
    "            context_code=f\"course_{self.course.id}\",\n",
    "        )\n",
    "        return conv\n"
   ]
  },
  {
   "cell_type": "markdown",
   "metadata": {},
   "source": [
    "\n",
    "# Lower Level Methods"
   ]
  },
  {
   "cell_type": "markdown",
   "metadata": {},
   "source": [
    "Alternatively, you can manually set them after you created the `CanvasGroup` object"
   ]
  },
  {
   "cell_type": "code",
   "execution_count": null,
   "metadata": {},
   "outputs": [
    {
     "data": {
      "text/markdown": [
       "---\n",
       "\n",
       "[source](https://github.com/FleischerResearchLab/CanvasGroupy/blob/main/CanvasGroupy/canvas.py#L56){target=\"_blank\" style=\"float:right; font-size:smaller\"}\n",
       "\n",
       "### CanvasGroup.auth_canvas\n",
       "\n",
       ">      CanvasGroup.auth_canvas (credentials_fp:str)\n",
       "\n",
       "Authorize the canvas module with API_KEY\n",
       "\n",
       "|    | **Type** | **Details** |\n",
       "| -- | -------- | ----------- |\n",
       "| credentials_fp | str | the Authenticator key generated from canvas |"
      ],
      "text/plain": [
       "---\n",
       "\n",
       "[source](https://github.com/FleischerResearchLab/CanvasGroupy/blob/main/CanvasGroupy/canvas.py#L56){target=\"_blank\" style=\"float:right; font-size:smaller\"}\n",
       "\n",
       "### CanvasGroup.auth_canvas\n",
       "\n",
       ">      CanvasGroup.auth_canvas (credentials_fp:str)\n",
       "\n",
       "Authorize the canvas module with API_KEY\n",
       "\n",
       "|    | **Type** | **Details** |\n",
       "| -- | -------- | ----------- |\n",
       "| credentials_fp | str | the Authenticator key generated from canvas |"
      ]
     },
     "execution_count": null,
     "metadata": {},
     "output_type": "execute_result"
    }
   ],
   "source": [
    "show_doc(CanvasGroup.auth_canvas)"
   ]
  },
  {
   "cell_type": "code",
   "execution_count": null,
   "metadata": {},
   "outputs": [
    {
     "data": {
      "text/markdown": [
       "---\n",
       "\n",
       "[source](https://github.com/FleischerResearchLab/CanvasGroupy/blob/main/CanvasGroupy/canvas.py#L70){target=\"_blank\" style=\"float:right; font-size:smaller\"}\n",
       "\n",
       "### CanvasGroup.set_course\n",
       "\n",
       ">      CanvasGroup.set_course (course_id:int)\n",
       "\n",
       "Set the target course by the course ID\n",
       "\n",
       "|    | **Type** | **Details** |\n",
       "| -- | -------- | ----------- |\n",
       "| course_id | int | the course id of the target course |"
      ],
      "text/plain": [
       "---\n",
       "\n",
       "[source](https://github.com/FleischerResearchLab/CanvasGroupy/blob/main/CanvasGroupy/canvas.py#L70){target=\"_blank\" style=\"float:right; font-size:smaller\"}\n",
       "\n",
       "### CanvasGroup.set_course\n",
       "\n",
       ">      CanvasGroup.set_course (course_id:int)\n",
       "\n",
       "Set the target course by the course ID\n",
       "\n",
       "|    | **Type** | **Details** |\n",
       "| -- | -------- | ----------- |\n",
       "| course_id | int | the course id of the target course |"
      ]
     },
     "execution_count": null,
     "metadata": {},
     "output_type": "execute_result"
    }
   ],
   "source": [
    "show_doc(CanvasGroup.set_course)"
   ]
  },
  {
   "cell_type": "code",
   "execution_count": null,
   "metadata": {},
   "outputs": [],
   "source": [
    "#| hide\n",
    "test_eq(course_id, cg.course.id)\n",
    "assert isinstance(cg.canvas, canvasapi.canvas.Canvas)"
   ]
  },
  {
   "cell_type": "markdown",
   "metadata": {},
   "source": [
    "The following tutorial and examples demonstrates how to create and set a Group Category within a course context."
   ]
  },
  {
   "cell_type": "markdown",
   "metadata": {},
   "source": [
    "## Create / Set Target Group Category (Set)"
   ]
  },
  {
   "cell_type": "code",
   "execution_count": null,
   "metadata": {},
   "outputs": [
    {
     "data": {
      "text/markdown": [
       "---\n",
       "\n",
       "[source](https://github.com/FleischerResearchLab/CanvasGroupy/blob/main/CanvasGroupy/canvas.py#L107){target=\"_blank\" style=\"float:right; font-size:smaller\"}\n",
       "\n",
       "### CanvasGroup.get_group_categories\n",
       "\n",
       ">      CanvasGroup.get_group_categories ()\n",
       "\n",
       "Grab all existing group category (group set) in this course"
      ],
      "text/plain": [
       "---\n",
       "\n",
       "[source](https://github.com/FleischerResearchLab/CanvasGroupy/blob/main/CanvasGroupy/canvas.py#L107){target=\"_blank\" style=\"float:right; font-size:smaller\"}\n",
       "\n",
       "### CanvasGroup.get_group_categories\n",
       "\n",
       ">      CanvasGroup.get_group_categories ()\n",
       "\n",
       "Grab all existing group category (group set) in this course"
      ]
     },
     "execution_count": null,
     "metadata": {},
     "output_type": "execute_result"
    }
   ],
   "source": [
    "show_doc(CanvasGroup.get_group_categories)"
   ]
  },
  {
   "cell_type": "code",
   "execution_count": null,
   "metadata": {},
   "outputs": [
    {
     "data": {
      "text/plain": [
       "['Final Project', 'Student Groups', 'Test']"
      ]
     },
     "execution_count": null,
     "metadata": {},
     "output_type": "execute_result"
    }
   ],
   "source": [
    "# list all current group category\n",
    "list(cg.get_group_categories().keys())"
   ]
  },
  {
   "cell_type": "code",
   "execution_count": null,
   "metadata": {},
   "outputs": [
    {
     "data": {
      "text/markdown": [
       "---\n",
       "\n",
       "[source](https://github.com/FleischerResearchLab/CanvasGroupy/blob/main/CanvasGroupy/canvas.py#L113){target=\"_blank\" style=\"float:right; font-size:smaller\"}\n",
       "\n",
       "### CanvasGroup.create_group_category\n",
       "\n",
       ">      CanvasGroup.create_group_category (params:dict)\n",
       "\n",
       "Create group category (group set) in this course\n",
       "\n",
       "|    | **Type** | **Details** |\n",
       "| -- | -------- | ----------- |\n",
       "| params | dict | the parameter of canvas group category API @ [this link](https://canvas.instructure.com/doc/api/group_categories.html#method.group_categories.create) |\n",
       "| **Returns** | **GroupCategory** | **the generated group category object** |"
      ],
      "text/plain": [
       "---\n",
       "\n",
       "[source](https://github.com/FleischerResearchLab/CanvasGroupy/blob/main/CanvasGroupy/canvas.py#L113){target=\"_blank\" style=\"float:right; font-size:smaller\"}\n",
       "\n",
       "### CanvasGroup.create_group_category\n",
       "\n",
       ">      CanvasGroup.create_group_category (params:dict)\n",
       "\n",
       "Create group category (group set) in this course\n",
       "\n",
       "|    | **Type** | **Details** |\n",
       "| -- | -------- | ----------- |\n",
       "| params | dict | the parameter of canvas group category API @ [this link](https://canvas.instructure.com/doc/api/group_categories.html#method.group_categories.create) |\n",
       "| **Returns** | **GroupCategory** | **the generated group category object** |"
      ]
     },
     "execution_count": null,
     "metadata": {},
     "output_type": "execute_result"
    }
   ],
   "source": [
    "show_doc(CanvasGroup.create_group_category)"
   ]
  },
  {
   "cell_type": "code",
   "execution_count": null,
   "metadata": {},
   "outputs": [],
   "source": [
    "params = {\n",
    "    \"name\": \"TEST-GroupProject\",\n",
    "    \"group_limit\": 5\n",
    "}"
   ]
  },
  {
   "cell_type": "code",
   "execution_count": null,
   "metadata": {},
   "outputs": [],
   "source": [
    "# create a new category\n",
    "group_category = cg.create_group_category(params)"
   ]
  },
  {
   "cell_type": "code",
   "execution_count": null,
   "metadata": {},
   "outputs": [
    {
     "data": {
      "text/plain": [
       "['Final Project', 'Student Groups', 'Test', 'TEST-GroupProject']"
      ]
     },
     "execution_count": null,
     "metadata": {},
     "output_type": "execute_result"
    }
   ],
   "source": [
    "# Check whether we successfully create a new group\n",
    "list(cg.get_group_categories().keys())"
   ]
  },
  {
   "cell_type": "markdown",
   "metadata": {},
   "source": [
    "When a group category is already created, we cannot create another group with the same name. To switch the group category destination of group creation, use the `set_group_category` methods."
   ]
  },
  {
   "cell_type": "code",
   "execution_count": null,
   "metadata": {},
   "outputs": [
    {
     "data": {
      "text/markdown": [
       "---\n",
       "\n",
       "[source](https://github.com/FleischerResearchLab/CanvasGroupy/blob/main/CanvasGroupy/canvas.py#L93){target=\"_blank\" style=\"float:right; font-size:smaller\"}\n",
       "\n",
       "### CanvasGroup.set_group_category\n",
       "\n",
       ">      CanvasGroup.set_group_category (category_name:str)\n",
       "\n",
       "|    | **Type** | **Details** |\n",
       "| -- | -------- | ----------- |\n",
       "| category_name | str | the target group category |\n",
       "| **Returns** | **GroupCategory** | **target group category object** |"
      ],
      "text/plain": [
       "---\n",
       "\n",
       "[source](https://github.com/FleischerResearchLab/CanvasGroupy/blob/main/CanvasGroupy/canvas.py#L93){target=\"_blank\" style=\"float:right; font-size:smaller\"}\n",
       "\n",
       "### CanvasGroup.set_group_category\n",
       "\n",
       ">      CanvasGroup.set_group_category (category_name:str)\n",
       "\n",
       "|    | **Type** | **Details** |\n",
       "| -- | -------- | ----------- |\n",
       "| category_name | str | the target group category |\n",
       "| **Returns** | **GroupCategory** | **target group category object** |"
      ]
     },
     "execution_count": null,
     "metadata": {},
     "output_type": "execute_result"
    }
   ],
   "source": [
    "show_doc(CanvasGroup.set_group_category)"
   ]
  },
  {
   "cell_type": "code",
   "execution_count": null,
   "metadata": {},
   "outputs": [],
   "source": [
    "group_category = cg.set_group_category(\"TEST-GroupProject\")"
   ]
  },
  {
   "cell_type": "markdown",
   "metadata": {},
   "source": [
    "## Create a Group Inside the Target Group Category"
   ]
  },
  {
   "cell_type": "code",
   "execution_count": null,
   "metadata": {},
   "outputs": [
    {
     "data": {
      "text/markdown": [
       "---\n",
       "\n",
       "[source](https://github.com/FleischerResearchLab/CanvasGroupy/blob/main/CanvasGroupy/canvas.py#L120){target=\"_blank\" style=\"float:right; font-size:smaller\"}\n",
       "\n",
       "### CanvasGroup.create_group\n",
       "\n",
       ">      CanvasGroup.create_group (params:dict)\n",
       "\n",
       "Create canvas group under the target group category\n",
       "\n",
       "|    | **Type** | **Details** |\n",
       "| -- | -------- | ----------- |\n",
       "| params | dict | the parameter of canvas group create API at [this link](https://canvas.instructure.com/doc/api/groups.html#method.groups.create) |\n",
       "| **Returns** | **Group** | **the generated target group object** |"
      ],
      "text/plain": [
       "---\n",
       "\n",
       "[source](https://github.com/FleischerResearchLab/CanvasGroupy/blob/main/CanvasGroupy/canvas.py#L120){target=\"_blank\" style=\"float:right; font-size:smaller\"}\n",
       "\n",
       "### CanvasGroup.create_group\n",
       "\n",
       ">      CanvasGroup.create_group (params:dict)\n",
       "\n",
       "Create canvas group under the target group category\n",
       "\n",
       "|    | **Type** | **Details** |\n",
       "| -- | -------- | ----------- |\n",
       "| params | dict | the parameter of canvas group create API at [this link](https://canvas.instructure.com/doc/api/groups.html#method.groups.create) |\n",
       "| **Returns** | **Group** | **the generated target group object** |"
      ]
     },
     "execution_count": null,
     "metadata": {},
     "output_type": "execute_result"
    }
   ],
   "source": [
    "show_doc(CanvasGroup.create_group)"
   ]
  },
  {
   "cell_type": "code",
   "execution_count": null,
   "metadata": {},
   "outputs": [
    {
     "name": "stdout",
     "output_type": "stream",
     "text": [
      "In Group Set: \u001b[94mTEST-GroupProject\u001b[0m,\n",
      "Group \u001b[92mTEST-GROUP1\u001b[0m Created!\n",
      "TEST-GROUP1 (122854)\n"
     ]
    }
   ],
   "source": [
    "params = {\n",
    "    \"name\": \"TEST-GROUP1\",\n",
    "    \"join_level\": \"invitation_only\"\n",
    "}\n",
    "group1 = cg.create_group(params)\n",
    "print(group1)"
   ]
  },
  {
   "cell_type": "markdown",
   "metadata": {},
   "source": [
    "## Assign Student to the Group"
   ]
  },
  {
   "cell_type": "code",
   "execution_count": null,
   "metadata": {},
   "outputs": [
    {
     "data": {
      "text/markdown": [
       "---\n",
       "\n",
       "[source](https://github.com/FleischerResearchLab/CanvasGroupy/blob/main/CanvasGroupy/canvas.py#L134){target=\"_blank\" style=\"float:right; font-size:smaller\"}\n",
       "\n",
       "### CanvasGroup.join_canvas_group\n",
       "\n",
       ">      CanvasGroup.join_canvas_group (group:canvasapi.group.Group,\n",
       ">                                     group_members:[<class'str'>])\n",
       "\n",
       "Add membership access of each group member into the group\n",
       "\n",
       "|    | **Type** | **Details** |\n",
       "| -- | -------- | ----------- |\n",
       "| group | Group | the group that students will join |\n",
       "| group_members | [<class 'str'>] | list of group member's SIS Login (email prefix, before the @.) |\n",
       "| **Returns** | **[<class 'str'>]** | **list of unsuccessful join** |"
      ],
      "text/plain": [
       "---\n",
       "\n",
       "[source](https://github.com/FleischerResearchLab/CanvasGroupy/blob/main/CanvasGroupy/canvas.py#L134){target=\"_blank\" style=\"float:right; font-size:smaller\"}\n",
       "\n",
       "### CanvasGroup.join_canvas_group\n",
       "\n",
       ">      CanvasGroup.join_canvas_group (group:canvasapi.group.Group,\n",
       ">                                     group_members:[<class'str'>])\n",
       "\n",
       "Add membership access of each group member into the group\n",
       "\n",
       "|    | **Type** | **Details** |\n",
       "| -- | -------- | ----------- |\n",
       "| group | Group | the group that students will join |\n",
       "| group_members | [<class 'str'>] | list of group member's SIS Login (email prefix, before the @.) |\n",
       "| **Returns** | **[<class 'str'>]** | **list of unsuccessful join** |"
      ]
     },
     "execution_count": null,
     "metadata": {},
     "output_type": "execute_result"
    }
   ],
   "source": [
    "show_doc(CanvasGroup.join_canvas_group)"
   ]
  },
  {
   "cell_type": "code",
   "execution_count": null,
   "metadata": {},
   "outputs": [
    {
     "data": {
      "text/plain": [
       "[]"
      ]
     },
     "execution_count": null,
     "metadata": {},
     "output_type": "execute_result"
    }
   ],
   "source": [
    "member1 = \"email\"\n",
    "member1 = \"grader-cogs118a-01\" #| hide_line\n",
    "\n",
    "cg.join_canvas_group(group1, [member1])"
   ]
  },
  {
   "cell_type": "code",
   "execution_count": null,
   "metadata": {},
   "outputs": [
    {
     "data": {
      "text/plain": [
       "{'name': 'TEST-GroupProject',\n",
       " 'self_signup': None,\n",
       " 'auto_leader': None,\n",
       " 'id': 16283,\n",
       " 'role': None,\n",
       " 'group_limit': 5,\n",
       " 'created_at': '2023-04-27T23:29:36Z',\n",
       " 'context_type': 'Course',\n",
       " 'course_id': 45059,\n",
       " 'protected': False,\n",
       " 'allows_multiple_memberships': False,\n",
       " 'is_member': False}"
      ]
     },
     "execution_count": null,
     "metadata": {},
     "output_type": "execute_result"
    }
   ],
   "source": [
    "#| hide\n",
    "# tear down the example project\n",
    "cg.get_group_categories()[\"TEST-GroupProject\"].delete()"
   ]
  },
  {
   "cell_type": "code",
   "execution_count": null,
   "metadata": {},
   "outputs": [],
   "source": [
    "#| hide\n",
    "import nbdev; nbdev.nbdev_export()"
   ]
  }
 ],
 "metadata": {
  "kernelspec": {
   "display_name": "python3",
   "language": "python",
   "name": "python3"
  }
 },
 "nbformat": 4,
 "nbformat_minor": 4
}
