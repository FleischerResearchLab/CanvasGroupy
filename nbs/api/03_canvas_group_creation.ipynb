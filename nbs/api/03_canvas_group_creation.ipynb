{
 "cells": [
  {
   "cell_type": "markdown",
   "metadata": {},
   "source": [
    "# Canvas Group Creation\n",
    "\n",
    "> Create canvas group via Canvas API"
   ]
  },
  {
   "cell_type": "code",
   "execution_count": null,
   "metadata": {},
   "outputs": [],
   "source": [
    "#| default_exp canvas"
   ]
  },
  {
   "cell_type": "code",
   "execution_count": null,
   "metadata": {},
   "outputs": [],
   "source": [
    "#| hide\n",
    "from nbdev.showdoc import *\n",
    "from fastcore.test import *"
   ]
  },
  {
   "cell_type": "code",
   "execution_count": null,
   "metadata": {},
   "outputs": [],
   "source": [
    "#| export\n",
    "from canvasapi import Canvas\n",
    "import canvasapi\n",
    "import json\n",
    "import requests\n",
    "import time\n",
    "import sys\n",
    "import numpy as np\n",
    "import pandas as pd\n",
    "from io import StringIO"
   ]
  },
  {
   "cell_type": "code",
   "execution_count": null,
   "metadata": {},
   "outputs": [],
   "source": [
    "#| export\n",
    "#| hide\n",
    "class bcolors:\n",
    "    HEADER = '\\033[95m'\n",
    "    OKBLUE = '\\033[94m'\n",
    "    OKCYAN = '\\033[96m'\n",
    "    OKGREEN = '\\033[92m'\n",
    "    WARNING = '\\033[93m'\n",
    "    FAIL = '\\033[91m'\n",
    "    ENDC = '\\033[0m'\n",
    "    BOLD = '\\033[1m'\n",
    "    UNDERLINE = '\\033[4m'"
   ]
  },
  {
   "cell_type": "code",
   "execution_count": null,
   "metadata": {},
   "outputs": [],
   "source": [
    "#| export\n",
    "\n",
    "class CanvasGroup():\n",
    "    def __init__(self,\n",
    "                 credentials_fp = \"\", # credential file path. [Template of the credentials.json](https://github.com/FleischerResearchLab/CanvasGroupy/blob/main/nbs/credentials.json)\n",
    "                 API_URL=\"https://canvas.ucsd.edu\", # the domain name of canvas\n",
    "                 course_id=\"\", # Course ID, can be found in the course url\n",
    "                 verbosity=0 # Controls the verbosity: 0 = Silent, 1 = print all messages\n",
    "                ):\n",
    "        \"Initialize Canvas Group within a Group Set and its appropriate memberships\"\n",
    "        self.API_URL = API_URL\n",
    "        self.canvas = None\n",
    "        self.course = None\n",
    "        self.group_category = None\n",
    "        self.group_categories = None\n",
    "        self.groups = None\n",
    "        self.users = None\n",
    "        self.email_to_canvas_id = None\n",
    "        self.canvas_id_to_email = None\n",
    "        self.API_KEY = None\n",
    "        self.GitHubToken = None\n",
    "        self.verbosity = verbosity\n",
    "        \n",
    "        # initialize by the input parameter\n",
    "        if credentials_fp != \"\":\n",
    "            self.auth_canvas(credentials_fp)\n",
    "        if course_id != \"\":\n",
    "            self.set_course(course_id)\n",
    "            self.get_group_categories()\n",
    "            \n",
    "    def auth_canvas(self,\n",
    "                    credentials_fp: str # the Authenticator key generated from canvas\n",
    "                   ):\n",
    "        \"Authorize the canvas module with API_KEY\"\n",
    "        with open(credentials_fp, \"r\") as f:\n",
    "            credentials = json.load(f)\n",
    "        self.API_KEY = credentials[\"Canvas Token\"]\n",
    "        self.GITHUB_TOKEN = credentials[\"GitHub Token\"]\n",
    "        self.canvas = Canvas(self.API_URL, self.API_KEY)\n",
    "        # test authorization\n",
    "        _ = self.canvas.get_activity_stream_summary()\n",
    "        if self.verbosity != 0:\n",
    "            print(f\"{bcolors.OKGREEN}Authorization Successful!{bcolors.ENDC}\")\n",
    "        \n",
    "    def set_course(self, \n",
    "                   course_id: int # the course id of the target course\n",
    "                  ):\n",
    "        \"Set the target course by the course ID\"\n",
    "        self.course = self.canvas.get_course(course_id)\n",
    "        if self.verbosity != 0:\n",
    "            print(f\"Course Set: {bcolors.OKGREEN} {self.course.name} {bcolors.ENDC}\")\n",
    "            print(f\"Getting List of Users... This might take a while...\")\n",
    "        self.users = list(self.course.get_users())\n",
    "        if self.verbosity != 0:\n",
    "            print(f\"Users Fetch Complete! The course has {bcolors.OKBLUE}{len(self.users)}{bcolors.ENDC} users.\")\n",
    "        self.email_to_canvas_id = {}\n",
    "        self.canvas_id_to_email = {}\n",
    "        for u in self.users:\n",
    "            try:\n",
    "                self.email_to_canvas_id[u.email.split(\"@\")[0]] = u.id\n",
    "                self.canvas_id_to_email[u.id] = u.email.split(\"@\")[0]\n",
    "            except Exception:\n",
    "                if self.verbosity != 0:\n",
    "                    print(f\"{bcolors.WARNING}Failed to Parse email and id\"\n",
    "                          f\" for {bcolors.UNDERLINE}{u.short_name}{bcolors.ENDC}{bcolors.ENDC}\")\n",
    "                \n",
    "        \n",
    "    def set_group_category(self,\n",
    "                           category_name: str # the target group category\n",
    "                          ) -> canvasapi.group.GroupCategory: # target group category object\n",
    "        _ = self.get_group_categories()\n",
    "        try:\n",
    "            self.group_category = self.group_categories[category_name]\n",
    "        except KeyError:\n",
    "            raise KeyError(f\"{category_name} did not found in the group categories. \"\n",
    "                           f\"Try to create one with CanvasGroup.create_group_category\")\n",
    "        return self.group_category\n",
    "        \n",
    "    def get_course(self):\n",
    "        return self.course\n",
    "    \n",
    "    def get_group_categories(self) -> dict: # return a name / group category object\n",
    "        \"Grab all existing group category (group set) in this course\"\n",
    "        categories = list(self.course.get_group_categories())\n",
    "        self.group_categories = {cat.name: cat for cat in categories}\n",
    "        return {cat.name: cat for cat in categories}\n",
    "    \n",
    "    def create_group_category(self,\n",
    "                              params: dict # the parameter of canvas group category API @ [this link](https://canvas.instructure.com/doc/api/group_categories.html#method.group_categories.create)\n",
    "                             ) -> canvasapi.group.GroupCategory: # the generated group category object\n",
    "        \"Create group category (group set) in this course\"\n",
    "        self.group_category = self.course.create_group_category(**params)\n",
    "        return self.group_category\n",
    "    \n",
    "    def create_group(self,\n",
    "                     params: dict, #the parameter of canvas group create API at [this link](https://canvas.instructure.com/doc/api/groups.html#method.groups.create)\n",
    "                    ) -> canvasapi.group.Group: # the generated target group object\n",
    "        \"Create canvas group under the target group category\"\n",
    "        if self.group_category is None:\n",
    "            raise ValueError(\"Have you specified or create a group category (group set)?\")\n",
    "        group = self.group_category.create_group(**params)\n",
    "        if self.verbosity != 0:\n",
    "            print(f\"In Group Set: {bcolors.OKBLUE+self.group_category.name+bcolors.ENDC},\")\n",
    "            print(f\"Group {bcolors.OKGREEN+params['name']+bcolors.ENDC} Created!\")\n",
    "        return group\n",
    "    \n",
    "    def join_canvas_group(self,\n",
    "                          group: canvasapi.group.Group, # the group that students will join\n",
    "                          group_members:[str], # list of group member's SIS Login (email prefix, before the @.)\n",
    "                         ) -> [str]: # list of unsuccessful join\n",
    "        \"Add membership access of each group member into the group\"\n",
    "        unsuccessful_join = []\n",
    "        for group_member in group_members:\n",
    "            try:\n",
    "                canvas_id = self.email_to_canvas_id[group_member]\n",
    "                group.create_membership(canvas_id)\n",
    "            except KeyError:\n",
    "                unsuccessful_join.append(group_member)\n",
    "                print(f\"Error adding student {bcolors.WARNING+group_member+bcolors.ENDC} \\n into group {group.name}\")\n",
    "            group.create_membership(canvas_id)\n",
    "        return unsuccessful_join\n",
    "    \n",
    "    def fetch_username_from_quiz(self,\n",
    "                                 quiz_id: int, # quiz id of the username quiz\n",
    "                                 csv_name=\"github_id.csv\", # csv output name.\n",
    "                                 col_index=7, # canvas quiz generated csv's question field column index\n",
    "                                ) -> dict: # {SIS Login ID: github} dictionary\n",
    "        \"Fetch the GitHub user name from the canvas quiz\"\n",
    "        header = {'Authorization': 'Bearer ' + self.API_KEY}\n",
    "        quiz = self.course.get_quiz(quiz_id)\n",
    "        if self.verbosity != 0:\n",
    "            print(f\"Quiz: {bcolors.OKGREEN+quiz.title+bcolors.ENDC} \"\n",
    "                  f\"fetch! \\nGenerating Student Analaysis...\"\n",
    "                 )\n",
    "        report = quiz.create_report(\"student_analysis\")\n",
    "        progress_url = report.progress_url\n",
    "        completed = False\n",
    "        while not completed:\n",
    "            status = requests.get(progress_url, headers = header).json()\n",
    "            if self.verbosity != 0:\n",
    "                self._progress(status[\"completion\"])\n",
    "                time.sleep(0.1)\n",
    "            if status[\"completion\"] == 100:\n",
    "                completed = True\n",
    "        if self.verbosity != 0:\n",
    "            print(f\"\\n{bcolors.OKGREEN}Report Generated!{bcolors.ENDC}\")\n",
    "        # use requests to download the file \n",
    "        file_url = quiz.create_report(\"student_analysis\").file[\"url\"]\n",
    "        response = requests.get(file_url, headers=header)\n",
    "        file = StringIO(response.content.decode())\n",
    "        # use pandas to parse the response csv\n",
    "        df = pd.read_csv(file, delimiter=\",\")\n",
    "        col = list(df.columns)\n",
    "        # rename column\n",
    "        if self.verbosity != 0:\n",
    "            print(f\"The Question asked is {bcolors.OKBLUE}{col[col_index]}{bcolors.ENDC}. \\n\"\n",
    "                  f\"Make sure this is the correct question where you asked student for their GitHub id.\\n\"\n",
    "                  f\"If you need to change the index of columns, change the col_index argument of this call.\"\n",
    "                 )\n",
    "        col[col_index] = \"GitHub ID\"\n",
    "        df.columns = col\n",
    "        small = df[[\"id\", \"GitHub ID\"]].copy()\n",
    "        small[\"email\"] = small[\"id\"].apply(lambda x: self.canvas_id_to_email[x])\n",
    "        small = small[[\"email\", \"GitHub ID\"]].set_index(\"email\")\n",
    "        small.to_csv(csv_name)\n",
    "        return small.to_dict()[\"GitHub ID\"]\n",
    "    \n",
    "    def check_github_username(self,\n",
    "                              github_username: str # the student input we want to test\n",
    "                             ):\n",
    "        ...\n",
    "\n",
    "    def _progress(self,\n",
    "                  percentage\n",
    "                 ):\n",
    "        sys.stdout.write('\\r')\n",
    "        # the exact output you're looking for:\n",
    "        sys.stdout.write(\"[%-20s] %d%%\" % ('='*int(percentage//5), percentage))\n",
    "        sys.stdout.flush()\n",
    "    \n",
    "    def assign_canvas_group(self,\n",
    "                            group_name: str, # group name, display on canvas\n",
    "                            group_members:[str], # list of group member's SIS Login\n",
    "                            in_group_category: str, # specify which group category the group belongs to\n",
    "                           ) -> (canvasapi.group.Group, [str]): # list of unsuccessful join\n",
    "        \"Create new groups and assign group member into the class in the `self.group_category`\"\n",
    "        self.set_group_category(in_group_category)\n",
    "        group = self.create_group({\"name\": group_name})\n",
    "        unsuccessful_join = self.join_canvas_group(group, group_members)\n",
    "        return group, unsuccessful_join\n"
   ]
  },
  {
   "cell_type": "markdown",
   "metadata": {},
   "source": [
    "# Canvas Authentication"
   ]
  },
  {
   "cell_type": "markdown",
   "metadata": {},
   "source": [
    "All the credentials should be stored at a json file in the following format."
   ]
  },
  {
   "cell_type": "code",
   "execution_count": null,
   "metadata": {},
   "outputs": [],
   "source": [
    "credentials_fp = \"../credentials.json\"\n",
    "credentials_fp = \"../../../credentials.json\" #| hide_line"
   ]
  },
  {
   "cell_type": "markdown",
   "metadata": {},
   "source": [
    "If `API_KEY` and/or `course_id` was passed into the initializer, it will call the following methods to load the relevant information about your canvas and your canvas course."
   ]
  },
  {
   "cell_type": "code",
   "execution_count": null,
   "metadata": {},
   "outputs": [
    {
     "name": "stdout",
     "output_type": "stream",
     "text": [
      "\u001b[92mAuthorization Successful!\u001b[0m\n",
      "Course Set: \u001b[92m COGS 118A - Supvr/Mach Learning Algorithms - Fleischer [SP23] \u001b[0m\n",
      "Getting List of Users... This might take a while...\n",
      "Users Fetch Complete! The course has \u001b[94m174\u001b[0m users.\n"
     ]
    }
   ],
   "source": [
    "# instansiate a new Canvas Group Object \n",
    "# if your class size is large, it will take around 2 minutes to grab all student info.\n",
    "API_URL = \"https://canvas.ucsd.edu/\"\n",
    "\n",
    "# your canvas course id, found on the top of canvas url\n",
    "course_id = ...\n",
    "course_id = 45059 #| hide_line\n",
    "cg = CanvasGroup(credentials_fp, API_URL, course_id=course_id, verbosity=1)"
   ]
  },
  {
   "cell_type": "markdown",
   "metadata": {},
   "source": [
    "# Create / Assign Group in One Call"
   ]
  },
  {
   "cell_type": "code",
   "execution_count": null,
   "metadata": {},
   "outputs": [
    {
     "data": {
      "text/markdown": [
       "---\n",
       "\n",
       "[source](https://github.com/FleischerResearchLab/CanvasGroupy/blob/main/CanvasGroupy/canvas.py#L201){target=\"_blank\" style=\"float:right; font-size:smaller\"}\n",
       "\n",
       "### CanvasGroup.assign_canvas_group\n",
       "\n",
       ">      CanvasGroup.assign_canvas_group (group_name:str,\n",
       ">                                       group_members:[<class'str'>],\n",
       ">                                       in_group_category:str)\n",
       "\n",
       "Create new groups and assign group member into the class in the `self.group_category`\n",
       "\n",
       "|    | **Type** | **Details** |\n",
       "| -- | -------- | ----------- |\n",
       "| group_name | str | group name, display on canvas |\n",
       "| group_members | [<class 'str'>] | list of group member's SIS Login |\n",
       "| in_group_category | str | specify which group category the group belongs to |\n",
       "| **Returns** | **(<class 'canvasapi.group.Group'>, [<class 'str'>])** | **list of unsuccessful join** |"
      ],
      "text/plain": [
       "---\n",
       "\n",
       "[source](https://github.com/FleischerResearchLab/CanvasGroupy/blob/main/CanvasGroupy/canvas.py#L201){target=\"_blank\" style=\"float:right; font-size:smaller\"}\n",
       "\n",
       "### CanvasGroup.assign_canvas_group\n",
       "\n",
       ">      CanvasGroup.assign_canvas_group (group_name:str,\n",
       ">                                       group_members:[<class'str'>],\n",
       ">                                       in_group_category:str)\n",
       "\n",
       "Create new groups and assign group member into the class in the `self.group_category`\n",
       "\n",
       "|    | **Type** | **Details** |\n",
       "| -- | -------- | ----------- |\n",
       "| group_name | str | group name, display on canvas |\n",
       "| group_members | [<class 'str'>] | list of group member's SIS Login |\n",
       "| in_group_category | str | specify which group category the group belongs to |\n",
       "| **Returns** | **(<class 'canvasapi.group.Group'>, [<class 'str'>])** | **list of unsuccessful join** |"
      ]
     },
     "execution_count": null,
     "metadata": {},
     "output_type": "execute_result"
    }
   ],
   "source": [
    "show_doc(CanvasGroup.assign_canvas_group)"
   ]
  },
  {
   "cell_type": "markdown",
   "metadata": {},
   "source": [
    "In this way, we could directly create canvas group by specifying the group name, members info, and the group category directly."
   ]
  },
  {
   "cell_type": "code",
   "execution_count": null,
   "metadata": {},
   "outputs": [
    {
     "name": "stdout",
     "output_type": "stream",
     "text": [
      "In Group Set: \u001b[94mTest\u001b[0m,\n",
      "Group \u001b[92mTestGroup000\u001b[0m Created!\n"
     ]
    }
   ],
   "source": [
    "member1 = \"email\"\n",
    "member1 = \"grader-cogs118a-01\" #| hide_line\n",
    "group, unsuccessful = cg.assign_canvas_group(\n",
    "    group_name=\"TestGroup000\", \n",
    "    group_members=[member1], \n",
    "    in_group_category=\"Test\"\n",
    ")\n",
    "\n",
    "assert len(unsuccessful)==0"
   ]
  },
  {
   "cell_type": "code",
   "execution_count": null,
   "metadata": {},
   "outputs": [
    {
     "data": {
      "text/plain": [
       "Group(_requester=<canvasapi.requester.Requester object>, is_public=False, id=122853, name=TestGroup000, created_at=2023-04-27T23:28:55Z, created_at_date=2023-04-27 23:28:55+00:00, max_membership=None, join_level=invitation_only, group_category_id=16281, description=None, members_count=1, storage_quota_mb=1024, storage_quota_mb_date=1024-01-01 00:00:00+00:00, context_type=Course, course_id=45059, avatar_url=None, role=None, leader=None, has_submission=False, concluded=False)"
      ]
     },
     "execution_count": null,
     "metadata": {},
     "output_type": "execute_result"
    }
   ],
   "source": [
    "#| hide\n",
    "group.delete()"
   ]
  },
  {
   "cell_type": "markdown",
   "metadata": {},
   "source": [
    "Note that it will throw a Key Error if the target `in_group_category` did not exist in the course."
   ]
  },
  {
   "cell_type": "code",
   "execution_count": null,
   "metadata": {},
   "outputs": [
    {
     "ename": "KeyError",
     "evalue": "'Group Project 2 did not found in the group categories. Try to create one with CanvasGroup.create_group_category'",
     "output_type": "error",
     "traceback": [
      "\u001b[0;31m---------------------------------------------------------------------------\u001b[0m",
      "\u001b[0;31mKeyError\u001b[0m                                  Traceback (most recent call last)",
      "Cell \u001b[0;32mIn[51], line 73\u001b[0m, in \u001b[0;36mCanvasGroup.set_group_category\u001b[0;34m(self, category_name)\u001b[0m\n\u001b[1;32m     72\u001b[0m \u001b[38;5;28;01mtry\u001b[39;00m:\n\u001b[0;32m---> 73\u001b[0m     \u001b[38;5;28mself\u001b[39m\u001b[38;5;241m.\u001b[39mgroup_category \u001b[38;5;241m=\u001b[39m \u001b[38;5;28;43mself\u001b[39;49m\u001b[38;5;241;43m.\u001b[39;49m\u001b[43mgroup_categories\u001b[49m\u001b[43m[\u001b[49m\u001b[43mcategory_name\u001b[49m\u001b[43m]\u001b[49m\n\u001b[1;32m     74\u001b[0m \u001b[38;5;28;01mexcept\u001b[39;00m \u001b[38;5;167;01mKeyError\u001b[39;00m:\n",
      "\u001b[0;31mKeyError\u001b[0m: 'Group Project 2'",
      "\nDuring handling of the above exception, another exception occurred:\n",
      "\u001b[0;31mKeyError\u001b[0m                                  Traceback (most recent call last)",
      "Cell \u001b[0;32mIn[58], line 1\u001b[0m\n\u001b[0;32m----> 1\u001b[0m \u001b[43mcg\u001b[49m\u001b[38;5;241;43m.\u001b[39;49m\u001b[43massign_canvas_group\u001b[49m\u001b[43m(\u001b[49m\n\u001b[1;32m      2\u001b[0m \u001b[43m    \u001b[49m\u001b[43mgroup_name\u001b[49m\u001b[38;5;241;43m=\u001b[39;49m\u001b[38;5;124;43m\"\u001b[39;49m\u001b[38;5;124;43mFailed\u001b[39;49m\u001b[38;5;124;43m\"\u001b[39;49m\u001b[43m,\u001b[49m\n\u001b[1;32m      3\u001b[0m \u001b[43m    \u001b[49m\u001b[43mgroup_members\u001b[49m\u001b[38;5;241;43m=\u001b[39;49m\u001b[43m[\u001b[49m\u001b[43mmember1\u001b[49m\u001b[43m]\u001b[49m\u001b[43m,\u001b[49m\n\u001b[1;32m      4\u001b[0m \u001b[43m    \u001b[49m\u001b[43min_group_category\u001b[49m\u001b[38;5;241;43m=\u001b[39;49m\u001b[38;5;124;43m\"\u001b[39;49m\u001b[38;5;124;43mGroup Project 2\u001b[39;49m\u001b[38;5;124;43m\"\u001b[39;49m\n\u001b[1;32m      5\u001b[0m \u001b[43m)\u001b[49m\n",
      "Cell \u001b[0;32mIn[51], line 187\u001b[0m, in \u001b[0;36mCanvasGroup.assign_canvas_group\u001b[0;34m(self, group_name, group_members, in_group_category)\u001b[0m\n\u001b[1;32m    181\u001b[0m \u001b[38;5;28;01mdef\u001b[39;00m \u001b[38;5;21massign_canvas_group\u001b[39m(\u001b[38;5;28mself\u001b[39m,\n\u001b[1;32m    182\u001b[0m                         group_name: \u001b[38;5;28mstr\u001b[39m, \u001b[38;5;66;03m# group name, display on canvas\u001b[39;00m\n\u001b[1;32m    183\u001b[0m                         group_members:[\u001b[38;5;28mstr\u001b[39m], \u001b[38;5;66;03m# list of group member's SIS Login\u001b[39;00m\n\u001b[1;32m    184\u001b[0m                         in_group_category: \u001b[38;5;28mstr\u001b[39m, \u001b[38;5;66;03m# specify which group category the group belongs to\u001b[39;00m\n\u001b[1;32m    185\u001b[0m                        ) \u001b[38;5;241m-\u001b[39m\u001b[38;5;241m>\u001b[39m (canvasapi\u001b[38;5;241m.\u001b[39mgroup\u001b[38;5;241m.\u001b[39mGroup, [\u001b[38;5;28mstr\u001b[39m]): \u001b[38;5;66;03m# list of unsuccessful join\u001b[39;00m\n\u001b[1;32m    186\u001b[0m     \u001b[38;5;124m\"\u001b[39m\u001b[38;5;124mCreate new groups and assign group member into the class in the `self.group_category`\u001b[39m\u001b[38;5;124m\"\u001b[39m\n\u001b[0;32m--> 187\u001b[0m     \u001b[38;5;28;43mself\u001b[39;49m\u001b[38;5;241;43m.\u001b[39;49m\u001b[43mset_group_category\u001b[49m\u001b[43m(\u001b[49m\u001b[43min_group_category\u001b[49m\u001b[43m)\u001b[49m\n\u001b[1;32m    188\u001b[0m     group \u001b[38;5;241m=\u001b[39m \u001b[38;5;28mself\u001b[39m\u001b[38;5;241m.\u001b[39mcreate_group({\u001b[38;5;124m\"\u001b[39m\u001b[38;5;124mname\u001b[39m\u001b[38;5;124m\"\u001b[39m: group_name})\n\u001b[1;32m    189\u001b[0m     unsuccessful_join \u001b[38;5;241m=\u001b[39m \u001b[38;5;28mself\u001b[39m\u001b[38;5;241m.\u001b[39mjoin_canvas_group(group, group_members)\n",
      "Cell \u001b[0;32mIn[51], line 75\u001b[0m, in \u001b[0;36mCanvasGroup.set_group_category\u001b[0;34m(self, category_name)\u001b[0m\n\u001b[1;32m     73\u001b[0m     \u001b[38;5;28mself\u001b[39m\u001b[38;5;241m.\u001b[39mgroup_category \u001b[38;5;241m=\u001b[39m \u001b[38;5;28mself\u001b[39m\u001b[38;5;241m.\u001b[39mgroup_categories[category_name]\n\u001b[1;32m     74\u001b[0m \u001b[38;5;28;01mexcept\u001b[39;00m \u001b[38;5;167;01mKeyError\u001b[39;00m:\n\u001b[0;32m---> 75\u001b[0m     \u001b[38;5;28;01mraise\u001b[39;00m \u001b[38;5;167;01mKeyError\u001b[39;00m(\u001b[38;5;124mf\u001b[39m\u001b[38;5;124m\"\u001b[39m\u001b[38;5;132;01m{\u001b[39;00mcategory_name\u001b[38;5;132;01m}\u001b[39;00m\u001b[38;5;124m did not found in the group categories. \u001b[39m\u001b[38;5;124m\"\u001b[39m\n\u001b[1;32m     76\u001b[0m                    \u001b[38;5;124mf\u001b[39m\u001b[38;5;124m\"\u001b[39m\u001b[38;5;124mTry to create one with CanvasGroup.create_group_category\u001b[39m\u001b[38;5;124m\"\u001b[39m)\n\u001b[1;32m     77\u001b[0m \u001b[38;5;28;01mreturn\u001b[39;00m \u001b[38;5;28mself\u001b[39m\u001b[38;5;241m.\u001b[39mgroup_category\n",
      "\u001b[0;31mKeyError\u001b[0m: 'Group Project 2 did not found in the group categories. Try to create one with CanvasGroup.create_group_category'"
     ]
    }
   ],
   "source": [
    "cg.assign_canvas_group(\n",
    "    group_name=\"Failed\",\n",
    "    group_members=[member1],\n",
    "    in_group_category=\"Group Project 2\"\n",
    ")"
   ]
  },
  {
   "cell_type": "markdown",
   "metadata": {},
   "source": [
    "# Lower Level Methods"
   ]
  },
  {
   "cell_type": "markdown",
   "metadata": {},
   "source": [
    "Alternatively, you can manually set them after you created the `CanvasGroup` object"
   ]
  },
  {
   "cell_type": "code",
   "execution_count": null,
   "metadata": {},
   "outputs": [
    {
     "data": {
      "text/markdown": [
       "---\n",
       "\n",
       "[source](https://github.com/FleischerResearchLab/CanvasGroupy/blob/main/CanvasGroupy/canvas.py#L56){target=\"_blank\" style=\"float:right; font-size:smaller\"}\n",
       "\n",
       "### CanvasGroup.auth_canvas\n",
       "\n",
       ">      CanvasGroup.auth_canvas (credentials_fp:str)\n",
       "\n",
       "Authorize the canvas module with API_KEY\n",
       "\n",
       "|    | **Type** | **Details** |\n",
       "| -- | -------- | ----------- |\n",
       "| credentials_fp | str | the Authenticator key generated from canvas |"
      ],
      "text/plain": [
       "---\n",
       "\n",
       "[source](https://github.com/FleischerResearchLab/CanvasGroupy/blob/main/CanvasGroupy/canvas.py#L56){target=\"_blank\" style=\"float:right; font-size:smaller\"}\n",
       "\n",
       "### CanvasGroup.auth_canvas\n",
       "\n",
       ">      CanvasGroup.auth_canvas (credentials_fp:str)\n",
       "\n",
       "Authorize the canvas module with API_KEY\n",
       "\n",
       "|    | **Type** | **Details** |\n",
       "| -- | -------- | ----------- |\n",
       "| credentials_fp | str | the Authenticator key generated from canvas |"
      ]
     },
     "execution_count": null,
     "metadata": {},
     "output_type": "execute_result"
    }
   ],
   "source": [
    "show_doc(CanvasGroup.auth_canvas)"
   ]
  },
  {
   "cell_type": "code",
   "execution_count": null,
   "metadata": {},
   "outputs": [
    {
     "data": {
      "text/markdown": [
       "---\n",
       "\n",
       "[source](https://github.com/FleischerResearchLab/CanvasGroupy/blob/main/CanvasGroupy/canvas.py#L70){target=\"_blank\" style=\"float:right; font-size:smaller\"}\n",
       "\n",
       "### CanvasGroup.set_course\n",
       "\n",
       ">      CanvasGroup.set_course (course_id:int)\n",
       "\n",
       "Set the target course by the course ID\n",
       "\n",
       "|    | **Type** | **Details** |\n",
       "| -- | -------- | ----------- |\n",
       "| course_id | int | the course id of the target course |"
      ],
      "text/plain": [
       "---\n",
       "\n",
       "[source](https://github.com/FleischerResearchLab/CanvasGroupy/blob/main/CanvasGroupy/canvas.py#L70){target=\"_blank\" style=\"float:right; font-size:smaller\"}\n",
       "\n",
       "### CanvasGroup.set_course\n",
       "\n",
       ">      CanvasGroup.set_course (course_id:int)\n",
       "\n",
       "Set the target course by the course ID\n",
       "\n",
       "|    | **Type** | **Details** |\n",
       "| -- | -------- | ----------- |\n",
       "| course_id | int | the course id of the target course |"
      ]
     },
     "execution_count": null,
     "metadata": {},
     "output_type": "execute_result"
    }
   ],
   "source": [
    "show_doc(CanvasGroup.set_course)"
   ]
  },
  {
   "cell_type": "code",
   "execution_count": null,
   "metadata": {},
   "outputs": [],
   "source": [
    "#| hide\n",
    "test_eq(course_id, cg.course.id)\n",
    "assert isinstance(cg.canvas, canvasapi.canvas.Canvas)"
   ]
  },
  {
   "cell_type": "markdown",
   "metadata": {},
   "source": [
    "The following tutorial and examples demonstrates how to create and set a Group Category within a course context."
   ]
  },
  {
   "cell_type": "markdown",
   "metadata": {},
   "source": [
    "## Create / Set Target Group Category (Set)"
   ]
  },
  {
   "cell_type": "code",
   "execution_count": null,
   "metadata": {},
   "outputs": [
    {
     "data": {
      "text/markdown": [
       "---\n",
       "\n",
       "[source](https://github.com/FleischerResearchLab/CanvasGroupy/blob/main/CanvasGroupy/canvas.py#L107){target=\"_blank\" style=\"float:right; font-size:smaller\"}\n",
       "\n",
       "### CanvasGroup.get_group_categories\n",
       "\n",
       ">      CanvasGroup.get_group_categories ()\n",
       "\n",
       "Grab all existing group category (group set) in this course"
      ],
      "text/plain": [
       "---\n",
       "\n",
       "[source](https://github.com/FleischerResearchLab/CanvasGroupy/blob/main/CanvasGroupy/canvas.py#L107){target=\"_blank\" style=\"float:right; font-size:smaller\"}\n",
       "\n",
       "### CanvasGroup.get_group_categories\n",
       "\n",
       ">      CanvasGroup.get_group_categories ()\n",
       "\n",
       "Grab all existing group category (group set) in this course"
      ]
     },
     "execution_count": null,
     "metadata": {},
     "output_type": "execute_result"
    }
   ],
   "source": [
    "show_doc(CanvasGroup.get_group_categories)"
   ]
  },
  {
   "cell_type": "code",
   "execution_count": null,
   "metadata": {},
   "outputs": [
    {
     "data": {
      "text/plain": [
       "['Final Project', 'Student Groups', 'Test']"
      ]
     },
     "execution_count": null,
     "metadata": {},
     "output_type": "execute_result"
    }
   ],
   "source": [
    "# list all current group category\n",
    "list(cg.get_group_categories().keys())"
   ]
  },
  {
   "cell_type": "code",
   "execution_count": null,
   "metadata": {},
   "outputs": [
    {
     "data": {
      "text/markdown": [
       "---\n",
       "\n",
       "[source](https://github.com/FleischerResearchLab/CanvasGroupy/blob/main/CanvasGroupy/canvas.py#L113){target=\"_blank\" style=\"float:right; font-size:smaller\"}\n",
       "\n",
       "### CanvasGroup.create_group_category\n",
       "\n",
       ">      CanvasGroup.create_group_category (params:dict)\n",
       "\n",
       "Create group category (group set) in this course\n",
       "\n",
       "|    | **Type** | **Details** |\n",
       "| -- | -------- | ----------- |\n",
       "| params | dict | the parameter of canvas group category API @ [this link](https://canvas.instructure.com/doc/api/group_categories.html#method.group_categories.create) |\n",
       "| **Returns** | **GroupCategory** | **the generated group category object** |"
      ],
      "text/plain": [
       "---\n",
       "\n",
       "[source](https://github.com/FleischerResearchLab/CanvasGroupy/blob/main/CanvasGroupy/canvas.py#L113){target=\"_blank\" style=\"float:right; font-size:smaller\"}\n",
       "\n",
       "### CanvasGroup.create_group_category\n",
       "\n",
       ">      CanvasGroup.create_group_category (params:dict)\n",
       "\n",
       "Create group category (group set) in this course\n",
       "\n",
       "|    | **Type** | **Details** |\n",
       "| -- | -------- | ----------- |\n",
       "| params | dict | the parameter of canvas group category API @ [this link](https://canvas.instructure.com/doc/api/group_categories.html#method.group_categories.create) |\n",
       "| **Returns** | **GroupCategory** | **the generated group category object** |"
      ]
     },
     "execution_count": null,
     "metadata": {},
     "output_type": "execute_result"
    }
   ],
   "source": [
    "show_doc(CanvasGroup.create_group_category)"
   ]
  },
  {
   "cell_type": "code",
   "execution_count": null,
   "metadata": {},
   "outputs": [],
   "source": [
    "params = {\n",
    "    \"name\": \"TEST-GroupProject\",\n",
    "    \"group_limit\": 5\n",
    "}"
   ]
  },
  {
   "cell_type": "code",
   "execution_count": null,
   "metadata": {},
   "outputs": [],
   "source": [
    "# create a new category\n",
    "group_category = cg.create_group_category(params)"
   ]
  },
  {
   "cell_type": "code",
   "execution_count": null,
   "metadata": {},
   "outputs": [
    {
     "data": {
      "text/plain": [
       "['Final Project', 'Student Groups', 'Test', 'TEST-GroupProject']"
      ]
     },
     "execution_count": null,
     "metadata": {},
     "output_type": "execute_result"
    }
   ],
   "source": [
    "# Check whether we successfully create a new group\n",
    "list(cg.get_group_categories().keys())"
   ]
  },
  {
   "cell_type": "markdown",
   "metadata": {},
   "source": [
    "When a group category is already created, we cannot create another group with the same name. To switch the group category destination of group creation, use the `set_group_category` methods."
   ]
  },
  {
   "cell_type": "code",
   "execution_count": null,
   "metadata": {},
   "outputs": [
    {
     "data": {
      "text/markdown": [
       "---\n",
       "\n",
       "[source](https://github.com/FleischerResearchLab/CanvasGroupy/blob/main/CanvasGroupy/canvas.py#L93){target=\"_blank\" style=\"float:right; font-size:smaller\"}\n",
       "\n",
       "### CanvasGroup.set_group_category\n",
       "\n",
       ">      CanvasGroup.set_group_category (category_name:str)\n",
       "\n",
       "|    | **Type** | **Details** |\n",
       "| -- | -------- | ----------- |\n",
       "| category_name | str | the target group category |\n",
       "| **Returns** | **GroupCategory** | **target group category object** |"
      ],
      "text/plain": [
       "---\n",
       "\n",
       "[source](https://github.com/FleischerResearchLab/CanvasGroupy/blob/main/CanvasGroupy/canvas.py#L93){target=\"_blank\" style=\"float:right; font-size:smaller\"}\n",
       "\n",
       "### CanvasGroup.set_group_category\n",
       "\n",
       ">      CanvasGroup.set_group_category (category_name:str)\n",
       "\n",
       "|    | **Type** | **Details** |\n",
       "| -- | -------- | ----------- |\n",
       "| category_name | str | the target group category |\n",
       "| **Returns** | **GroupCategory** | **target group category object** |"
      ]
     },
     "execution_count": null,
     "metadata": {},
     "output_type": "execute_result"
    }
   ],
   "source": [
    "show_doc(CanvasGroup.set_group_category)"
   ]
  },
  {
   "cell_type": "code",
   "execution_count": null,
   "metadata": {},
   "outputs": [],
   "source": [
    "group_category = cg.set_group_category(\"TEST-GroupProject\")"
   ]
  },
  {
   "cell_type": "markdown",
   "metadata": {},
   "source": [
    "## Create a Group Inside the Target Group Category"
   ]
  },
  {
   "cell_type": "code",
   "execution_count": null,
   "metadata": {},
   "outputs": [
    {
     "data": {
      "text/markdown": [
       "---\n",
       "\n",
       "[source](https://github.com/FleischerResearchLab/CanvasGroupy/blob/main/CanvasGroupy/canvas.py#L120){target=\"_blank\" style=\"float:right; font-size:smaller\"}\n",
       "\n",
       "### CanvasGroup.create_group\n",
       "\n",
       ">      CanvasGroup.create_group (params:dict)\n",
       "\n",
       "Create canvas group under the target group category\n",
       "\n",
       "|    | **Type** | **Details** |\n",
       "| -- | -------- | ----------- |\n",
       "| params | dict | the parameter of canvas group create API at [this link](https://canvas.instructure.com/doc/api/groups.html#method.groups.create) |\n",
       "| **Returns** | **Group** | **the generated target group object** |"
      ],
      "text/plain": [
       "---\n",
       "\n",
       "[source](https://github.com/FleischerResearchLab/CanvasGroupy/blob/main/CanvasGroupy/canvas.py#L120){target=\"_blank\" style=\"float:right; font-size:smaller\"}\n",
       "\n",
       "### CanvasGroup.create_group\n",
       "\n",
       ">      CanvasGroup.create_group (params:dict)\n",
       "\n",
       "Create canvas group under the target group category\n",
       "\n",
       "|    | **Type** | **Details** |\n",
       "| -- | -------- | ----------- |\n",
       "| params | dict | the parameter of canvas group create API at [this link](https://canvas.instructure.com/doc/api/groups.html#method.groups.create) |\n",
       "| **Returns** | **Group** | **the generated target group object** |"
      ]
     },
     "execution_count": null,
     "metadata": {},
     "output_type": "execute_result"
    }
   ],
   "source": [
    "show_doc(CanvasGroup.create_group)"
   ]
  },
  {
   "cell_type": "code",
   "execution_count": null,
   "metadata": {},
   "outputs": [
    {
     "name": "stdout",
     "output_type": "stream",
     "text": [
      "In Group Set: \u001b[94mTEST-GroupProject\u001b[0m,\n",
      "Group \u001b[92mTEST-GROUP1\u001b[0m Created!\n",
      "TEST-GROUP1 (122854)\n"
     ]
    }
   ],
   "source": [
    "params = {\n",
    "    \"name\": \"TEST-GROUP1\",\n",
    "    \"join_level\": \"invitation_only\"\n",
    "}\n",
    "group1 = cg.create_group(params)\n",
    "print(group1)"
   ]
  },
  {
   "cell_type": "markdown",
   "metadata": {},
   "source": [
    "## Assign Student to the Group"
   ]
  },
  {
   "cell_type": "code",
   "execution_count": null,
   "metadata": {},
   "outputs": [
    {
     "data": {
      "text/markdown": [
       "---\n",
       "\n",
       "[source](https://github.com/FleischerResearchLab/CanvasGroupy/blob/main/CanvasGroupy/canvas.py#L132){target=\"_blank\" style=\"float:right; font-size:smaller\"}\n",
       "\n",
       "### CanvasGroup.join_canvas_group\n",
       "\n",
       ">      CanvasGroup.join_canvas_group (group:canvasapi.group.Group,\n",
       ">                                     group_members:[<class'str'>])\n",
       "\n",
       "Add membership access of each group member into the group\n",
       "\n",
       "|    | **Type** | **Details** |\n",
       "| -- | -------- | ----------- |\n",
       "| group | Group | the group that students will join |\n",
       "| group_members | [<class 'str'>] | list of group member's SIS Login (email prefix, before the @.) |\n",
       "| **Returns** | **[<class 'str'>]** | **list of unsuccessful join** |"
      ],
      "text/plain": [
       "---\n",
       "\n",
       "[source](https://github.com/FleischerResearchLab/CanvasGroupy/blob/main/CanvasGroupy/canvas.py#L132){target=\"_blank\" style=\"float:right; font-size:smaller\"}\n",
       "\n",
       "### CanvasGroup.join_canvas_group\n",
       "\n",
       ">      CanvasGroup.join_canvas_group (group:canvasapi.group.Group,\n",
       ">                                     group_members:[<class'str'>])\n",
       "\n",
       "Add membership access of each group member into the group\n",
       "\n",
       "|    | **Type** | **Details** |\n",
       "| -- | -------- | ----------- |\n",
       "| group | Group | the group that students will join |\n",
       "| group_members | [<class 'str'>] | list of group member's SIS Login (email prefix, before the @.) |\n",
       "| **Returns** | **[<class 'str'>]** | **list of unsuccessful join** |"
      ]
     },
     "execution_count": null,
     "metadata": {},
     "output_type": "execute_result"
    }
   ],
   "source": [
    "show_doc(CanvasGroup.join_canvas_group)"
   ]
  },
  {
   "cell_type": "code",
   "execution_count": null,
   "metadata": {},
   "outputs": [
    {
     "data": {
      "text/plain": [
       "[]"
      ]
     },
     "execution_count": null,
     "metadata": {},
     "output_type": "execute_result"
    }
   ],
   "source": [
    "member1 = \"email\"\n",
    "member1 = \"grader-cogs118a-01\" #| hide_line\n",
    "\n",
    "cg.join_canvas_group(group1, [member1])"
   ]
  },
  {
   "cell_type": "markdown",
   "metadata": {},
   "source": [
    "### Fetch Students' GitHub username"
   ]
  },
  {
   "cell_type": "code",
   "execution_count": null,
   "metadata": {},
   "outputs": [
    {
     "data": {
      "text/markdown": [
       "---\n",
       "\n",
       "[source](https://github.com/FleischerResearchLab/CanvasGroupy/blob/main/CanvasGroupy/canvas.py#L148){target=\"_blank\" style=\"float:right; font-size:smaller\"}\n",
       "\n",
       "### CanvasGroup.fetch_username_from_quiz\n",
       "\n",
       ">      CanvasGroup.fetch_username_from_quiz (quiz_id:int,\n",
       ">                                            csv_name='github_id.csv',\n",
       ">                                            col_index=7)\n",
       "\n",
       "Fetch the GitHub user name from the canvas quiz\n",
       "\n",
       "|    | **Type** | **Default** | **Details** |\n",
       "| -- | -------- | ----------- | ----------- |\n",
       "| quiz_id | int |  | quiz id of the username quiz |\n",
       "| csv_name | str | github_id.csv | csv output name. |\n",
       "| col_index | int | 7 | canvas quiz generated csv's question field column index |\n",
       "| **Returns** | **dict** |  | **{SIS Login ID: github} dictionary** |"
      ],
      "text/plain": [
       "---\n",
       "\n",
       "[source](https://github.com/FleischerResearchLab/CanvasGroupy/blob/main/CanvasGroupy/canvas.py#L148){target=\"_blank\" style=\"float:right; font-size:smaller\"}\n",
       "\n",
       "### CanvasGroup.fetch_username_from_quiz\n",
       "\n",
       ">      CanvasGroup.fetch_username_from_quiz (quiz_id:int,\n",
       ">                                            csv_name='github_id.csv',\n",
       ">                                            col_index=7)\n",
       "\n",
       "Fetch the GitHub user name from the canvas quiz\n",
       "\n",
       "|    | **Type** | **Default** | **Details** |\n",
       "| -- | -------- | ----------- | ----------- |\n",
       "| quiz_id | int |  | quiz id of the username quiz |\n",
       "| csv_name | str | github_id.csv | csv output name. |\n",
       "| col_index | int | 7 | canvas quiz generated csv's question field column index |\n",
       "| **Returns** | **dict** |  | **{SIS Login ID: github} dictionary** |"
      ]
     },
     "execution_count": null,
     "metadata": {},
     "output_type": "execute_result"
    }
   ],
   "source": [
    "show_doc(CanvasGroup.fetch_username_from_quiz)"
   ]
  },
  {
   "cell_type": "markdown",
   "metadata": {},
   "source": [
    "An example of the quiz question looks like the followings\n",
    "\n",
    "![quiz_screenshot](imgs/quiz_example.png) \n",
    "\n",
    "On canvas, this is a _fill in the blank_ question with the following raw format: \n",
    "\n",
    "![quiz_raw](imgs/raw_question.png)"
   ]
  },
  {
   "cell_type": "code",
   "execution_count": null,
   "metadata": {},
   "outputs": [
    {
     "name": "stdout",
     "output_type": "stream",
     "text": [
      "Quiz: \u001b[92mGitHub ID\u001b[0m fetch! \n",
      "Generating Student Analaysis...\n",
      "[====================] 100%\n",
      "\u001b[92mReport Generated!\u001b[0m\n",
      "The Question asked is \u001b[94m1389031: What is your GitHub ID? Absolutely No Typo Please.\u001b[0m. \n",
      "Make sure this is the correct question where you asked student for their GitHub id.\n",
      "If you need to change the index of columns, change the col_index argument of this call.\n"
     ]
    }
   ],
   "source": [
    "quiz_id = 139061\n",
    "github_ids = cg.fetch_username_from_quiz(\n",
    "    quiz_id=quiz_id\n",
    ")"
   ]
  },
  {
   "cell_type": "code",
   "execution_count": null,
   "metadata": {},
   "outputs": [
    {
     "data": {
      "text/plain": [
       "{'name': 'TEST-GroupProject',\n",
       " 'self_signup': None,\n",
       " 'auto_leader': None,\n",
       " 'id': 16283,\n",
       " 'role': None,\n",
       " 'group_limit': 5,\n",
       " 'created_at': '2023-04-27T23:29:36Z',\n",
       " 'context_type': 'Course',\n",
       " 'course_id': 45059,\n",
       " 'protected': False,\n",
       " 'allows_multiple_memberships': False,\n",
       " 'is_member': False}"
      ]
     },
     "execution_count": null,
     "metadata": {},
     "output_type": "execute_result"
    }
   ],
   "source": [
    "#| hide\n",
    "# tear down the example project\n",
    "cg.get_group_categories()[\"TEST-GroupProject\"].delete()"
   ]
  },
  {
   "cell_type": "code",
   "execution_count": null,
   "metadata": {},
   "outputs": [],
   "source": [
    "#| hide\n",
    "import nbdev; nbdev.nbdev_export()"
   ]
  }
 ],
 "metadata": {
  "kernelspec": {
   "display_name": "python3",
   "language": "python",
   "name": "python3"
  }
 },
 "nbformat": 4,
 "nbformat_minor": 4
}
