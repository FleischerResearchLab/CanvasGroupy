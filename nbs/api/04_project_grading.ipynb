{
 "cells": [
  {
   "cell_type": "markdown",
   "id": "38120b0d",
   "metadata": {},
   "source": [
    "# Project Grading\n",
    "\n",
    "> Manage grading rubrics and grade posting on the groups grade."
   ]
  },
  {
   "cell_type": "code",
   "execution_count": null,
   "metadata": {},
   "outputs": [],
   "source": [
    "import pandas as pd"
   ]
  },
  {
   "cell_type": "code",
   "execution_count": null,
   "metadata": {},
   "outputs": [
    {
     "data": {
      "text/html": "<div>\n<style scoped>\n    .dataframe tbody tr th:only-of-type {\n        vertical-align: middle;\n    }\n\n    .dataframe tbody tr th {\n        vertical-align: top;\n    }\n\n    .dataframe thead th {\n        text-align: right;\n    }\n</style>\n<table border=\"1\" class=\"dataframe\">\n  <thead>\n    <tr style=\"text-align: right;\">\n      <th></th>\n      <th>ID</th>\n      <th>GPA</th>\n      <th>Gender</th>\n      <th>Ethnicity</th>\n      <th>Major</th>\n      <th>Math Skills</th>\n      <th>Programming Skills</th>\n      <th>Statistic Skills</th>\n    </tr>\n  </thead>\n  <tbody>\n    <tr>\n      <th>0</th>\n      <td>dol005</td>\n      <td>3.9</td>\n      <td>M</td>\n      <td>-</td>\n      <td>COGS</td>\n      <td>5</td>\n      <td>5</td>\n      <td>3</td>\n    </tr>\n    <tr>\n      <th>1</th>\n      <td>nmackler</td>\n      <td>3.4</td>\n      <td>F</td>\n      <td>B</td>\n      <td>COGS</td>\n      <td>2</td>\n      <td>3</td>\n      <td>2</td>\n    </tr>\n    <tr>\n      <th>2</th>\n      <td>xiw013</td>\n      <td>3.1</td>\n      <td>M</td>\n      <td>-</td>\n      <td>DSC</td>\n      <td>3</td>\n      <td>1</td>\n      <td>5</td>\n    </tr>\n    <tr>\n      <th>3</th>\n      <td>jiz100</td>\n      <td>2.5</td>\n      <td>M</td>\n      <td>H</td>\n      <td>MATH</td>\n      <td>2</td>\n      <td>2</td>\n      <td>1</td>\n    </tr>\n    <tr>\n      <th>4</th>\n      <td>jiz088</td>\n      <td>2.1</td>\n      <td>F</td>\n      <td>-</td>\n      <td>DSC</td>\n      <td>4</td>\n      <td>4</td>\n      <td>4</td>\n    </tr>\n  </tbody>\n</table>\n</div>",
      "text/plain": "         ID  GPA Gender Ethnicity Major  Math Skills  Programming Skills  \\\n0    dol005  3.9      M         -  COGS            5                   5   \n1  nmackler  3.4      F         B  COGS            2                   3   \n2    xiw013  3.1      M         -   DSC            3                   1   \n3    jiz100  2.5      M         H  MATH            2                   2   \n4    jiz088  2.1      F         -   DSC            4                   4   \n\n   Statistic Skills  \n0                 3  \n1                 2  \n2                 5  \n3                 1  \n4                 4  "
     },
     "execution_count": null,
     "metadata": {},
     "output_type": "execute_result"
    }
   ],
   "source": [
    "pd.read_csv(\"../data/195_class.csv\")"
   ]
  },
  {
   "cell_type": "code",
   "execution_count": null,
   "metadata": {},
   "outputs": [],
   "source": [
    "#| default_exp grading"
   ]
  },
  {
   "cell_type": "code",
   "execution_count": null,
   "metadata": {},
   "outputs": [],
   "source": [
    "#| hide\n",
    "from nbdev.showdoc import *\n",
    "from fastcore.test import *"
   ]
  },
  {
   "cell_type": "code",
   "execution_count": null,
   "id": "3b542387",
   "metadata": {},
   "outputs": [],
   "source": [
    "#| export\n",
    "from CanvasGroupy.github import GitHubGroup\n",
    "from CanvasGroupy.canvas import CanvasGroup\n",
    "import github\n",
    "import canvasapi\n",
    "from ast import literal_eval"
   ]
  },
  {
   "cell_type": "code",
   "execution_count": null,
   "metadata": {},
   "outputs": [],
   "source": [
    "#| export\n",
    "class Grading:\n",
    "    def __init__(self,\n",
    "                 gh: github.Github, # authenticated GitHub object\n",
    "                 canvas: canvasapi.canvas, # authenticated canvas object\n",
    "                ):\n",
    "        self.github = gh\n",
    "        self.canvas = canvas\n"
   ]
  },
  {
   "cell_type": "markdown",
   "metadata": {},
   "source": [
    "# Fetch GitHub Issues and Parse the `Score`"
   ]
  },
  {
   "cell_type": "code",
   "execution_count": null,
   "id": "1f51aff6",
   "metadata": {},
   "outputs": [
    {
     "name": "stdout",
     "output_type": "stream",
     "text": [
      "Successfully Authenticated. GitHub account: \u001b[92m scott-yj-yang \u001b[0m\n",
      "Target Organization Set: \u001b[92m COGS118A \u001b[0m\n"
     ]
    }
   ],
   "source": [
    "gh = GitHubGroup(\n",
    "    credentials_fp=\"../../../credentials.json\",\n",
    "    org=\"COGS118A\",\n",
    "    verbosity=1\n",
    ")"
   ]
  },
  {
   "cell_type": "code",
   "execution_count": null,
   "metadata": {},
   "outputs": [
    {
     "ename": "GithubException",
     "evalue": "422 {\"message\": \"Repository creation failed.\", \"errors\": [{\"resource\": \"Repository\", \"code\": \"custom\", \"field\": \"name\", \"message\": \"name already exists on this account\"}], \"documentation_url\": \"https://docs.github.com/rest/reference/repos#create-an-organization-repository\"}",
     "output_type": "error",
     "traceback": [
      "\u001b[0;31m---------------------------------------------------------------------------\u001b[0m",
      "\u001b[0;31mGithubException\u001b[0m                           Traceback (most recent call last)",
      "Input \u001b[0;32mIn [9]\u001b[0m, in \u001b[0;36m<cell line: 1>\u001b[0;34m()\u001b[0m\n\u001b[0;32m----> 1\u001b[0m repo \u001b[38;5;241m=\u001b[39m \u001b[43mgh\u001b[49m\u001b[38;5;241;43m.\u001b[39;49m\u001b[43mcreate_repo\u001b[49m\u001b[43m(\u001b[49m\u001b[43mrepo_name\u001b[49m\u001b[38;5;241;43m=\u001b[39;49m\u001b[38;5;124;43m\"\u001b[39;49m\u001b[38;5;124;43mTestAPI\u001b[39;49m\u001b[38;5;124;43m\"\u001b[39;49m\u001b[43m,\u001b[49m\u001b[43m \u001b[49m\u001b[43mprivate\u001b[49m\u001b[38;5;241;43m=\u001b[39;49m\u001b[38;5;28;43;01mTrue\u001b[39;49;00m\u001b[43m)\u001b[49m\n",
      "File \u001b[0;32m~/Desktop/SP23_Working/Group_Eng/CanvasGroupy/CanvasGroupy/github.py:79\u001b[0m, in \u001b[0;36mGitHubGroup.create_repo\u001b[0;34m(self, repo_name, repo_template, private, description, personal_account)\u001b[0m\n\u001b[1;32m     77\u001b[0m     parent \u001b[38;5;241m=\u001b[39m \u001b[38;5;28mself\u001b[39m\u001b[38;5;241m.\u001b[39morg\n\u001b[1;32m     78\u001b[0m \u001b[38;5;28;01mif\u001b[39;00m repo_template \u001b[38;5;241m==\u001b[39m \u001b[38;5;124m\"\u001b[39m\u001b[38;5;124m\"\u001b[39m:\n\u001b[0;32m---> 79\u001b[0m     \u001b[38;5;28;01mreturn\u001b[39;00m \u001b[43mparent\u001b[49m\u001b[38;5;241;43m.\u001b[39;49m\u001b[43mcreate_repo\u001b[49m\u001b[43m(\u001b[49m\n\u001b[1;32m     80\u001b[0m \u001b[43m        \u001b[49m\u001b[43mname\u001b[49m\u001b[38;5;241;43m=\u001b[39;49m\u001b[43mrepo_name\u001b[49m\u001b[43m,\u001b[49m\n\u001b[1;32m     81\u001b[0m \u001b[43m        \u001b[49m\u001b[43mprivate\u001b[49m\u001b[38;5;241;43m=\u001b[39;49m\u001b[43mprivate\u001b[49m\u001b[43m,\u001b[49m\n\u001b[1;32m     82\u001b[0m \u001b[43m        \u001b[49m\u001b[43mdescription\u001b[49m\u001b[38;5;241;43m=\u001b[39;49m\u001b[43mdescription\u001b[49m\n\u001b[1;32m     83\u001b[0m \u001b[43m    \u001b[49m\u001b[43m)\u001b[49m\n\u001b[1;32m     84\u001b[0m \u001b[38;5;66;03m# create from templatez\u001b[39;00m\n\u001b[1;32m     85\u001b[0m \u001b[38;5;28;01mreturn\u001b[39;00m parent\u001b[38;5;241m.\u001b[39mcreate_repo_from_template(\n\u001b[1;32m     86\u001b[0m     name\u001b[38;5;241m=\u001b[39mrepo_name,\n\u001b[1;32m     87\u001b[0m     repo\u001b[38;5;241m=\u001b[39m\u001b[38;5;28mself\u001b[39m\u001b[38;5;241m.\u001b[39mget_repo(repo_template),\n\u001b[1;32m     88\u001b[0m     private\u001b[38;5;241m=\u001b[39mprivate,\n\u001b[1;32m     89\u001b[0m     description\u001b[38;5;241m=\u001b[39mdescription,\n\u001b[1;32m     90\u001b[0m )\n",
      "File \u001b[0;32m~/anaconda3/envs/CanvasGroupy/lib/python3.10/site-packages/github/Organization.py:625\u001b[0m, in \u001b[0;36mOrganization.create_repo\u001b[0;34m(self, name, description, homepage, private, visibility, has_issues, has_wiki, has_downloads, has_projects, team_id, auto_init, license_template, gitignore_template, allow_squash_merge, allow_merge_commit, allow_rebase_merge, delete_branch_on_merge)\u001b[0m\n\u001b[1;32m    623\u001b[0m \u001b[38;5;28;01mif\u001b[39;00m delete_branch_on_merge \u001b[38;5;129;01mis\u001b[39;00m \u001b[38;5;129;01mnot\u001b[39;00m github\u001b[38;5;241m.\u001b[39mGithubObject\u001b[38;5;241m.\u001b[39mNotSet:\n\u001b[1;32m    624\u001b[0m     post_parameters[\u001b[38;5;124m\"\u001b[39m\u001b[38;5;124mdelete_branch_on_merge\u001b[39m\u001b[38;5;124m\"\u001b[39m] \u001b[38;5;241m=\u001b[39m delete_branch_on_merge\n\u001b[0;32m--> 625\u001b[0m headers, data \u001b[38;5;241m=\u001b[39m \u001b[38;5;28;43mself\u001b[39;49m\u001b[38;5;241;43m.\u001b[39;49m\u001b[43m_requester\u001b[49m\u001b[38;5;241;43m.\u001b[39;49m\u001b[43mrequestJsonAndCheck\u001b[49m\u001b[43m(\u001b[49m\n\u001b[1;32m    626\u001b[0m \u001b[43m    \u001b[49m\u001b[38;5;124;43m\"\u001b[39;49m\u001b[38;5;124;43mPOST\u001b[39;49m\u001b[38;5;124;43m\"\u001b[39;49m\u001b[43m,\u001b[49m\n\u001b[1;32m    627\u001b[0m \u001b[43m    \u001b[49m\u001b[38;5;124;43mf\u001b[39;49m\u001b[38;5;124;43m\"\u001b[39;49m\u001b[38;5;132;43;01m{\u001b[39;49;00m\u001b[38;5;28;43mself\u001b[39;49m\u001b[38;5;241;43m.\u001b[39;49m\u001b[43murl\u001b[49m\u001b[38;5;132;43;01m}\u001b[39;49;00m\u001b[38;5;124;43m/repos\u001b[39;49m\u001b[38;5;124;43m\"\u001b[39;49m\u001b[43m,\u001b[49m\n\u001b[1;32m    628\u001b[0m \u001b[43m    \u001b[49m\u001b[38;5;28;43minput\u001b[39;49m\u001b[38;5;241;43m=\u001b[39;49m\u001b[43mpost_parameters\u001b[49m\u001b[43m,\u001b[49m\n\u001b[1;32m    629\u001b[0m \u001b[43m    \u001b[49m\u001b[43mheaders\u001b[49m\u001b[38;5;241;43m=\u001b[39;49m\u001b[43m{\u001b[49m\u001b[38;5;124;43m\"\u001b[39;49m\u001b[38;5;124;43mAccept\u001b[39;49m\u001b[38;5;124;43m\"\u001b[39;49m\u001b[43m:\u001b[49m\u001b[43m \u001b[49m\u001b[43mConsts\u001b[49m\u001b[38;5;241;43m.\u001b[39;49m\u001b[43mrepoVisibilityPreview\u001b[49m\u001b[43m}\u001b[49m\u001b[43m,\u001b[49m\n\u001b[1;32m    630\u001b[0m \u001b[43m\u001b[49m\u001b[43m)\u001b[49m\n\u001b[1;32m    631\u001b[0m \u001b[38;5;28;01mreturn\u001b[39;00m github\u001b[38;5;241m.\u001b[39mRepository\u001b[38;5;241m.\u001b[39mRepository(\n\u001b[1;32m    632\u001b[0m     \u001b[38;5;28mself\u001b[39m\u001b[38;5;241m.\u001b[39m_requester, headers, data, completed\u001b[38;5;241m=\u001b[39m\u001b[38;5;28;01mTrue\u001b[39;00m\n\u001b[1;32m    633\u001b[0m )\n",
      "File \u001b[0;32m~/anaconda3/envs/CanvasGroupy/lib/python3.10/site-packages/github/Requester.py:398\u001b[0m, in \u001b[0;36mRequester.requestJsonAndCheck\u001b[0;34m(self, verb, url, parameters, headers, input)\u001b[0m\n\u001b[1;32m    397\u001b[0m \u001b[38;5;28;01mdef\u001b[39;00m \u001b[38;5;21mrequestJsonAndCheck\u001b[39m(\u001b[38;5;28mself\u001b[39m, verb, url, parameters\u001b[38;5;241m=\u001b[39m\u001b[38;5;28;01mNone\u001b[39;00m, headers\u001b[38;5;241m=\u001b[39m\u001b[38;5;28;01mNone\u001b[39;00m, \u001b[38;5;28minput\u001b[39m\u001b[38;5;241m=\u001b[39m\u001b[38;5;28;01mNone\u001b[39;00m):\n\u001b[0;32m--> 398\u001b[0m     \u001b[38;5;28;01mreturn\u001b[39;00m \u001b[38;5;28;43mself\u001b[39;49m\u001b[38;5;241;43m.\u001b[39;49m\u001b[43m__check\u001b[49m\u001b[43m(\u001b[49m\n\u001b[1;32m    399\u001b[0m \u001b[43m        \u001b[49m\u001b[38;5;241;43m*\u001b[39;49m\u001b[38;5;28;43mself\u001b[39;49m\u001b[38;5;241;43m.\u001b[39;49m\u001b[43mrequestJson\u001b[49m\u001b[43m(\u001b[49m\n\u001b[1;32m    400\u001b[0m \u001b[43m            \u001b[49m\u001b[43mverb\u001b[49m\u001b[43m,\u001b[49m\u001b[43m \u001b[49m\u001b[43murl\u001b[49m\u001b[43m,\u001b[49m\u001b[43m \u001b[49m\u001b[43mparameters\u001b[49m\u001b[43m,\u001b[49m\u001b[43m \u001b[49m\u001b[43mheaders\u001b[49m\u001b[43m,\u001b[49m\u001b[43m \u001b[49m\u001b[38;5;28;43minput\u001b[39;49m\u001b[43m,\u001b[49m\u001b[43m \u001b[49m\u001b[38;5;28;43mself\u001b[39;49m\u001b[38;5;241;43m.\u001b[39;49m\u001b[43m__customConnection\u001b[49m\u001b[43m(\u001b[49m\u001b[43murl\u001b[49m\u001b[43m)\u001b[49m\n\u001b[1;32m    401\u001b[0m \u001b[43m        \u001b[49m\u001b[43m)\u001b[49m\n\u001b[1;32m    402\u001b[0m \u001b[43m    \u001b[49m\u001b[43m)\u001b[49m\n",
      "File \u001b[0;32m~/anaconda3/envs/CanvasGroupy/lib/python3.10/site-packages/github/Requester.py:423\u001b[0m, in \u001b[0;36mRequester.__check\u001b[0;34m(self, status, responseHeaders, output)\u001b[0m\n\u001b[1;32m    421\u001b[0m output \u001b[38;5;241m=\u001b[39m \u001b[38;5;28mself\u001b[39m\u001b[38;5;241m.\u001b[39m__structuredFromJson(output)\n\u001b[1;32m    422\u001b[0m \u001b[38;5;28;01mif\u001b[39;00m status \u001b[38;5;241m>\u001b[39m\u001b[38;5;241m=\u001b[39m \u001b[38;5;241m400\u001b[39m:\n\u001b[0;32m--> 423\u001b[0m     \u001b[38;5;28;01mraise\u001b[39;00m \u001b[38;5;28mself\u001b[39m\u001b[38;5;241m.\u001b[39m__createException(status, responseHeaders, output)\n\u001b[1;32m    424\u001b[0m \u001b[38;5;28;01mreturn\u001b[39;00m responseHeaders, output\n",
      "\u001b[0;31mGithubException\u001b[0m: 422 {\"message\": \"Repository creation failed.\", \"errors\": [{\"resource\": \"Repository\", \"code\": \"custom\", \"field\": \"name\", \"message\": \"name already exists on this account\"}], \"documentation_url\": \"https://docs.github.com/rest/reference/repos#create-an-organization-repository\"}"
     ]
    }
   ],
   "source": [
    "repo = gh.create_repo(repo_name=\"TestAPI\", private=True)"
   ]
  },
  {
   "cell_type": "code",
   "execution_count": null,
   "metadata": {},
   "outputs": [],
   "source": [
    "repo = gh.get_repo(\"TestAPI\")"
   ]
  },
  {
   "cell_type": "code",
   "execution_count": null,
   "metadata": {},
   "outputs": [
    {
     "name": "stdout",
     "output_type": "stream",
     "text": [
      "In the repo: \u001b[92mTestAPI\u001b[0m,\n",
      "Issue \u001b[92mProject Proposal Feedback\u001b[0m Created!\n"
     ]
    },
    {
     "data": {
      "text/plain": "Issue(title=\"Project Proposal Feedback\", number=1)"
     },
     "execution_count": null,
     "metadata": {},
     "output_type": "execute_result"
    }
   ],
   "source": [
    "with open(\"../feedback_template/proposal_feedback.md\", \"r\") as f:\n",
    "    content = f.read()\n",
    "gh.create_issue(repo, \"Project Proposal Feedback\", content)"
   ]
  },
  {
   "cell_type": "code",
   "execution_count": null,
   "id": "579dbb43",
   "metadata": {},
   "outputs": [],
   "source": [
    "issues = list(repo.get_issues())"
   ]
  },
  {
   "cell_type": "code",
   "execution_count": null,
   "metadata": {},
   "outputs": [
    {
     "data": {
      "text/plain": "Issue(title=\"Project Proposal Feedback\", number=1)"
     },
     "execution_count": null,
     "metadata": {},
     "output_type": "execute_result"
    }
   ],
   "source": [
    "issues[0]"
   ]
  },
  {
   "cell_type": "code",
   "execution_count": null,
   "metadata": {},
   "outputs": [],
   "source": [
    "body = issues[0].body"
   ]
  },
  {
   "cell_type": "code",
   "execution_count": null,
   "metadata": {},
   "outputs": [],
   "source": [
    "for line in body.split(\"\\n\"):\n",
    "    if \"Score =\" in line and \"[comment]\" not in line:\n",
    "        score = literal_eval(line.split(\"=\")[1])\n"
   ]
  },
  {
   "cell_type": "code",
   "execution_count": null,
   "metadata": {},
   "outputs": [
    {
     "data": {
      "text/plain": "9"
     },
     "execution_count": null,
     "metadata": {},
     "output_type": "execute_result"
    }
   ],
   "source": [
    "score"
   ]
  },
  {
   "cell_type": "code",
   "execution_count": null,
   "metadata": {},
   "outputs": [
    {
     "data": {
      "text/plain": "'COGS118A/Group001-SP23'"
     },
     "execution_count": null,
     "metadata": {},
     "output_type": "execute_result"
    }
   ],
   "source": [
    "re = gh.get_repo(\"Group001-SP23\")\n",
    "re.full_name"
   ]
  },
  {
   "cell_type": "markdown",
   "metadata": {},
   "source": [
    "# Link Canvas Assignment to Post Score\n",
    "\n",
    "The group repository names are consistent with their canvas group name."
   ]
  },
  {
   "cell_type": "code",
   "execution_count": null,
   "metadata": {},
   "outputs": [
    {
     "name": "stdout",
     "output_type": "stream",
     "text": [
      "\u001b[92mAuthorization Successful!\u001b[0m\n",
      "Course Set: \u001b[92m COGS 195 - Instructional Apprenticeship - Fleischer [SP23] \u001b[0m\n",
      "Getting List of Users... This might take a while...\n",
      "Users Fetch Complete! The course has \u001b[94m5\u001b[0m students.\n"
     ]
    }
   ],
   "source": [
    "canvas = CanvasGroup(\"../../../credentials.json\",\n",
    "                     course_id=45532\n",
    "                    )"
   ]
  },
  {
   "cell_type": "code",
   "execution_count": null,
   "metadata": {},
   "outputs": [
    {
     "data": {
      "text/plain": "GroupCategory(_requester=<canvasapi.requester.Requester object>, id=16441, name=Project 1, role=None, self_signup=None, group_limit=None, auto_leader=None, created_at=2023-05-17T16:46:37Z, created_at_date=2023-05-17 16:46:37+00:00, context_type=Course, course_id=45532, groups_count=0, unassigned_users_count=5, protected=False, allows_multiple_memberships=False, is_member=False)"
     },
     "execution_count": null,
     "metadata": {},
     "output_type": "execute_result"
    }
   ],
   "source": [
    "canvas.create_group_category({\"name\": \"Project 1\"})"
   ]
  },
  {
   "cell_type": "code",
   "execution_count": null,
   "metadata": {},
   "outputs": [],
   "source": []
  },
  {
   "cell_type": "code",
   "execution_count": null,
   "metadata": {},
   "outputs": [
    {
     "data": {
      "text/plain": "{'Group001-SP23': ['h5he', 'zmao', 'xiw013', 'j6wen', 'j5zhu'],\n 'Group002-SP23': ['cmcmanig', 'jup006', 'ssuthar', 'd3yu'],\n 'Group003-SP23': ['yic055', 'yuz191', 'xiz068'],\n 'Group004-SP23': ['dac020', 'nilu', 'tyap', 'g6zhu'],\n 'Group005-SP23': ['kechen', 'a8chu', 'cdelira', 'wolee', 'arshukla'],\n 'Group006-SP23': ['ax008707', 'ax008724', 'ax008777'],\n 'Group007-SP23': ['yuchi', 'j3dong', 'y3ge', 'x6he', 'xiz031'],\n 'Group008-SP23': ['zifeng', 'ax008740', 'jul121', 'yuy047'],\n 'Group009-SP23': ['ax008573', 'ckavanagh', 'v1lu', 'vvishnus'],\n 'Group010-SP23': ['jwc002', 'tjamal', 'jsliang', 'tdn003'],\n 'Group011-SP23': ['khchuang', 'emdavis', 'jejiang', 'nrejai'],\n 'Group012-SP23': ['afleschn', 'rlharsono', 'jjsanchez', 'asengupt'],\n 'Group013-SP23': ['kehu', 'jnhuang', 'shperry', 'alvalenc'],\n 'Group014-SP23': ['gsroberts', 'cvillafa', 'shw089', 'yiz095'],\n 'Group015-SP23': ['aanna', 'sdsilva', 'asivayog', 'nyanekch'],\n 'Group016-SP23': ['yuche', 'y3guo', 'e1hu', 'zhl023', 'qil012'],\n 'Group017-SP23': ['s3chowdhury', 'llennema', 'psodhi', 'svirk'],\n 'Group018-SP23': ['ajcagle', 'ahewig', 's2malik', 'mnodini', 'musman'],\n 'Group019-SP23': ['sasingh', 'nsit', 'dsun'],\n 'Group020-SP23': ['akaji', 'm1manzan', 'j3mendez', 'mpareek', 'atrapena'],\n 'Group021-SP23': ['jkrentse', 'jmlai', 'zel012', 'sserafin'],\n 'Group022-SP23': ['ax008708', 'anc024', 'gng', 'reyang'],\n 'Group023-SP23': ['raguinakang', 'phelcl', 'vjayanan', 'crochez', 'kpstern'],\n 'Group024-SP23': ['nabansal', 'ccaban', 'mvfang', 'asim'],\n 'Group025-SP23': ['nschaefe', 'hshaikh', 'jww001', 'bjyan'],\n 'Group026-SP23': ['e1dong', 'aaolivas', 'h5park', 'yuz821'],\n 'Group027-SP23': ['jddeleon', 'ndnguyen', 'ttp007', 'jzs002'],\n 'Group028-SP23': ['shc007', 'yuh045', 'ktnakai', 'jonza'],\n 'Group029-SP23': ['lmitbo', 'jsalce', 'lskerrett', 'jubamadu'],\n 'Group030-SP23': ['ruc003', 'shh035', 'btn003', 'knino'],\n 'Group031-SP23': ['n6garcia', 'ken010', 'mmpak'],\n 'Group032-SP23': ['zachao', 'smurase', 'j1xu', 'z5zhang'],\n 'Group033-SP23': ['sbodhisartha', 'ndeepak', 'arlu', 'trucker', 'jaxu'],\n 'Group034-SP23': ['kabalaji', 'rchaklas', 'vspillai', 'jmvillal'],\n 'Group035-SP23': ['cantoniohernandez', 'rpuranam', 'rsedano', 'zshao'],\n 'Group036-SP23': ['malkhalifah', 'djjani', 'rkohli', 'smtrived'],\n 'Group037-SP23': ['nazpeitia', 'g2hong', 'gkweon'],\n 'Group038-SP23': ['qil016', 'msherrick', 'yiw085', 'r4zhou'],\n 'Group039-SP23': ['cgutierrezgodoy', 'z8jiang', 'dar005', 'jtaolan']}"
     },
     "execution_count": null,
     "metadata": {},
     "output_type": "execute_result"
    }
   ],
   "source": [
    "canvas.get_groups()"
   ]
  },
  {
   "cell_type": "code",
   "execution_count": null,
   "metadata": {},
   "outputs": [],
   "source": []
  }
 ],
 "metadata": {
  "kernelspec": {
   "display_name": "python3",
   "language": "python",
   "name": "python3"
  }
 },
 "nbformat": 4,
 "nbformat_minor": 5
}
