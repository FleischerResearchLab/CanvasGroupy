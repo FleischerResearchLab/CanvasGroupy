{
 "cells": [
  {
   "cell_type": "markdown",
   "id": "ef7578d4",
   "metadata": {},
   "source": [
    "# GitHub Group Example\n",
    "\n",
    "> A step by step example of using the GitHub Group Module"
   ]
  },
  {
   "cell_type": "code",
   "execution_count": null,
   "id": "d54b9d44",
   "metadata": {},
   "outputs": [],
   "source": []
  }
 ],
 "metadata": {
  "kernelspec": {
   "display_name": "python3",
   "language": "python",
   "name": "python3"
  }
 },
 "nbformat": 4,
 "nbformat_minor": 5
}
