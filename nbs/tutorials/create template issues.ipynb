{
 "cells": [
  {
   "cell_type": "markdown",
   "metadata": {},
   "source": [
    "# Populate Grading Rubric Template on GitHub Repositories\n",
    "\n",
    "> Create modifiable and gradable GitHub issues for project grading"
   ]
  },
  {
   "cell_type": "code",
   "execution_count": null,
   "metadata": {},
   "outputs": [
    {
     "name": "stdout",
     "output_type": "stream",
     "text": [
      "Successfully Authenticated. GitHub account: \u001B[92m scott-yj-yang \u001B[0m\n",
      "Target Organization Set: \u001B[92m COGS118A \u001B[0m\n"
     ]
    }
   ],
   "source": [
    "import time\n",
    "from CanvasGroupy import *\n",
    "credentials_fp = \"../credentials.json\"\n",
    "ghg = GitHubGroup(credentials_fp, org=\"COGS118A\")"
   ]
  },
  {
   "cell_type": "code",
   "execution_count": null,
   "metadata": {},
   "outputs": [
    {
     "name": "stdout",
     "output_type": "stream",
     "text": [
      "In the repo: \u001B[92mGroup021-SP23\u001B[0m,\n",
      "Issue \u001B[92mProject Proposal Feedback\u001B[0m Created!\n",
      "In the repo: \u001B[92mGroup022-SP23\u001B[0m,\n",
      "Issue \u001B[92mProject Proposal Feedback\u001B[0m Created!\n",
      "In the repo: \u001B[92mGroup023-SP23\u001B[0m,\n",
      "Issue \u001B[92mProject Proposal Feedback\u001B[0m Created!\n",
      "In the repo: \u001B[92mGroup024-SP23\u001B[0m,\n",
      "Issue \u001B[92mProject Proposal Feedback\u001B[0m Created!\n",
      "In the repo: \u001B[92mGroup025-SP23\u001B[0m,\n",
      "Issue \u001B[92mProject Proposal Feedback\u001B[0m Created!\n",
      "In the repo: \u001B[92mGroup026-SP23\u001B[0m,\n",
      "Issue \u001B[92mProject Proposal Feedback\u001B[0m Created!\n",
      "In the repo: \u001B[92mGroup027-SP23\u001B[0m,\n",
      "Issue \u001B[92mProject Proposal Feedback\u001B[0m Created!\n",
      "In the repo: \u001B[92mGroup028-SP23\u001B[0m,\n",
      "Issue \u001B[92mProject Proposal Feedback\u001B[0m Created!\n",
      "In the repo: \u001B[92mGroup029-SP23\u001B[0m,\n",
      "Issue \u001B[92mProject Proposal Feedback\u001B[0m Created!\n",
      "In the repo: \u001B[92mGroup030-SP23\u001B[0m,\n",
      "Issue \u001B[92mProject Proposal Feedback\u001B[0m Created!\n",
      "In the repo: \u001B[92mGroup031-SP23\u001B[0m,\n",
      "Issue \u001B[92mProject Proposal Feedback\u001B[0m Created!\n",
      "In the repo: \u001B[92mGroup032-SP23\u001B[0m,\n",
      "Issue \u001B[92mProject Proposal Feedback\u001B[0m Created!\n",
      "In the repo: \u001B[92mGroup033-SP23\u001B[0m,\n",
      "Issue \u001B[92mProject Proposal Feedback\u001B[0m Created!\n",
      "In the repo: \u001B[92mGroup034-SP23\u001B[0m,\n",
      "Issue \u001B[92mProject Proposal Feedback\u001B[0m Created!\n",
      "In the repo: \u001B[92mGroup035-SP23\u001B[0m,\n",
      "Issue \u001B[92mProject Proposal Feedback\u001B[0m Created!\n",
      "In the repo: \u001B[92mGroup036-SP23\u001B[0m,\n",
      "Issue \u001B[92mProject Proposal Feedback\u001B[0m Created!\n",
      "In the repo: \u001B[92mGroup037-SP23\u001B[0m,\n",
      "Issue \u001B[92mProject Proposal Feedback\u001B[0m Created!\n",
      "In the repo: \u001B[92mGroup038-SP23\u001B[0m,\n",
      "Issue \u001B[92mProject Proposal Feedback\u001B[0m Created!\n",
      "In the repo: \u001B[92mGroup039-SP23\u001B[0m,\n",
      "Issue \u001B[92mProject Proposal Feedback\u001B[0m Created!\n"
     ]
    }
   ],
   "source": [
    "for i in range(1, 40):\n",
    "    repo_name = f\"Group{i:03}-SP23\"\n",
    "    repo = ghg.get_repo(repo_name)\n",
    "    ghg.create_issue_from_md(repo, \"../CanvasGroupy/nbs/feedback_template/proposal_feedback.md\")\n",
    "    time.sleep(1)"
   ]
  },
  {
   "cell_type": "code",
   "execution_count": null,
   "metadata": {},
   "outputs": [],
   "source": []
  }
 ],
 "metadata": {
  "kernelspec": {
   "display_name": "python3",
   "language": "python",
   "name": "python3"
  }
 },
 "nbformat": 4,
 "nbformat_minor": 0
}
