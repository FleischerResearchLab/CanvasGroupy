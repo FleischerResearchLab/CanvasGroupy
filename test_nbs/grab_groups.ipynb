{
 "cells": [
  {
   "cell_type": "code",
   "execution_count": 1,
   "metadata": {
    "collapsed": true,
    "ExecuteTime": {
     "start_time": "2023-05-19T11:58:47.765728Z",
     "end_time": "2023-05-19T11:58:48.845230Z"
    }
   },
   "outputs": [],
   "source": [
    "from CanvasGroupy import *"
   ]
  },
  {
   "cell_type": "code",
   "execution_count": 4,
   "outputs": [
    {
     "name": "stdout",
     "output_type": "stream",
     "text": [
      "\u001B[92mAuthorization Successful!\u001B[0m\n",
      "Course Set: \u001B[92m COGS 108 - Data Science in Practice - Fleischer [SP23] \u001B[0m\n",
      "Getting List of Users... This might take a while...\n",
      "Users Fetch Complete! The course has \u001B[94m433\u001B[0m students.\n",
      "Setting Group Category... \n",
      "Group Category: \u001B[92mProject Groups\u001B[0m Set!\n"
     ]
    }
   ],
   "source": [
    "cg = CanvasGroup(\"../../credentials.json\", course_id=45023, group_category=\"Project Groups\")"
   ],
   "metadata": {
    "collapsed": false,
    "ExecuteTime": {
     "start_time": "2023-05-19T11:59:32.468910Z",
     "end_time": "2023-05-19T12:00:19.270447Z"
    }
   }
  },
  {
   "cell_type": "code",
   "execution_count": 5,
   "outputs": [
    {
     "data": {
      "text/plain": "{'108108108': ['tchaudry', 'nateng', 'cvivo', 'rzou'],\n 'AAA - H': ['tbach', 'chn019', 'pap002', 'ahvuong'],\n 'Academic Weapons of Destruction': ['pfalak',\n  'miivanov',\n  'yojang',\n  'bele',\n  'ckl006'],\n \"Adri's Group\": ['fichen', 'jdayrit', 'atolenti', 'rwohnhaa'],\n 'AISHA': ['hadinh', 'sblevin', 'apeng', 'dyao', 's3zhong'],\n 'AKJA': ['aavanzado', 'kmurata', 'adschermerhorn', 'j4villan', 'jaxu'],\n 'alyson, marlyn, kenneth, jorge, kent': ['marquerupa',\n  'kdu',\n  'kkn011',\n  'aotanez',\n  'jlramos'],\n \"Benson's Group\": ['zil037', 'kusong', 'shw088', 'x8zhao'],\n 'BLESSQL': ['eflemus', 'lat005', 'svempati', 'brwalton', 'sozhu'],\n 'Bots': ['tadiep', 'm1gill', 'rug005', 'dpachchigar', 'grweber'],\n 'Burgerflippers': ['znkhan', 'ans019', 'csinghas', 'ksunkara'],\n 'Calvin & Hobbes Fan Club': ['adk003', 'a3phan', 'd1solis', 'zyuen'],\n 'Camp Snoopy Gang': ['vem', 'oleong', 'zwei', 'dyermek', 'm2zheng'],\n 'Campuswire Warriors': ['tkurpane', 'homu', 'vsinghal', 'b9yu'],\n \"Casey's Group\": ['afituri', 'child', 'jpquinto', 'lwanderley'],\n 'CATGPT': ['lujin', 'hal065', 'xil093', 'tewang', 'yuy047'],\n 'Chat GPT & co.': ['m9chen', 'zdunmire', 'lmathers', 'knero'],\n 'Cindy Linzy Saleha Giovanni': ['sahmedi', 'nbeserle', 'ljmueller', 'ctn003'],\n 'Code Crusaders': ['yal067', 'zhl118', 'p3sun', 'zhw049'],\n 'Coding Experts': ['dboateng', 'skarumud', 'jyl006', 'ypatki', 'psodhi'],\n 'Cogito Ergo Sum': ['lanand', 'kearora', 'asc002', 'cachiu', 'eiroman'],\n 'cogs 108 proj': ['mak009', 'hel011', 'attan', 'ataneja'],\n 'COGS-108-Data-ers': ['aschen', 'redejer', 's1joshi', 'juk018', 'syassein'],\n 'COGS108 Group': ['nichiu', 'rideng', 'srnaik', 'rpaner', 'sksarmie'],\n 'COGS108 Project Group': ['sgmerek',\n  'emikulec',\n  'kpage',\n  'cjvelasq',\n  'tlwoo'],\n 'Cogs108 Team': ['ken003', 'ttn077', 'nprimero', 'a5vo', 'tiz009'],\n 'cogs108gang': ['esk003', 'm2malik', 'vsasaoka', 'atabares'],\n 'cogs108project': ['xic054', 'yug006', 'zliu', 'q1peng', 'zhw040'],\n 'Data Demons': ['k3alvare', 'aliem', 'ttanaka', 'fltang', 'jez006'],\n 'Data Detectives': ['tgunawan', 'mmerten', 'mypan', 'nppatil', 'bsekhon'],\n 'Data Ninjas': ['dol008', 'yul156', 'huw005', 'zew003', 'ziz056'],\n 'Data Science Majors, We Are Not': ['ijjones',\n  'wakim',\n  'jkononov',\n  'basimon',\n  'csulaiman'],\n 'Data with Destiny': ['oaaung', 'vbatres', 'nsaboonchi', 'qutran', 'dbwade'],\n 'DigitSapiens': ['ybo', 'kec020', 'fagao', 'h4he', 'xkan'],\n 'Doujiang Youtiao': ['dufu', 'jih028', 'z6pan', 'dez002'],\n 'DREWS Project': ['rrdu', 'wijin', 'dkong', 'ekudriavtsev', 'samao'],\n 'emma, beverly, sam, shad, jinuk': ['econteh',\n  'jul076',\n  's9reyes',\n  'ssayson',\n  'bto'],\n 'Gamer Gang (GG)': ['gdheilly', 'amn001', 'd3thai', 'r1truong', 'kwesterm'],\n 'GEARS108': ['hdaustin', 'c1dong', 'abnishaa', 'ndtorres', 'bvinhnee'],\n 'GETZS': ['sburbach', 'trdu', 'zhori', 'g6lin', 'e3yu'],\n 'Group dino nuggets': ['amdenny', 'hojin', 'atorok', 'nueda'],\n 'GroupSpectators': ['wiliao', 'yiw092', 'wwu', 'gozhou'],\n 'grup': [],\n 'i dont even know': ['k1freema', 'dmanoiu', 's8subram'],\n 'I Like Big Data and I Cannot Lie': ['nbuhr',\n  'apcalpe',\n  'acanonig',\n  'jkovar'],\n 'InsertGroupName': ['vibai', 'mvf001', 'mloeraar', 'anm020', 'zesun'],\n 'Jack, Matt, Iisha, Alex, Michael': ['wgascarosas',\n  'mahuynh',\n  'ikshatriya',\n  'mmmansour',\n  'q4tran'],\n 'Jake, Sophie, Jordan, Ian, Emma': ['ebackman',\n  'jgliniak',\n  'ijanson',\n  'jplee',\n  'smazor'],\n 'Kendata': ['azchoi', 'a2ko', 'r6ma'],\n 'Khoa, Rafe, Ethan, Andy, Josephine': ['rgerson',\n  'anmai',\n  'j1nguyen',\n  'ktnguyen',\n  'tkt004'],\n 'MaYun Ta Die': ['xic039', 'y6du', 'y2geng', 'haw062', 'yay010'],\n \"McDonald's\": ['chh029', 'yupang', 'z3qi', 'sswu'],\n 'MilkTea': ['jeg024', 'gkao', 'kkogami', 'kqwu', 'kayamamo'],\n 'Neural Network Ninjas': ['gikwon',\n  'jkmolina',\n  'wmonroe',\n  'visalcedo',\n  'rsohan'],\n 'Number One Best Group': ['sibhagat', 'all010', 'bpollack'],\n 'Panda Express': ['zeh003', 'xil173', 'c7qian', 'yis004', 'ruw018'],\n 'POGS108': ['tambat', 'jhn006', 'stpark', 'zsyed'],\n 'Project Group 0': ['acortes', 'jam003', 'tnn009', 'vhnguyen', 'saw003'],\n 'Project Group 1': ['jvbui', 'tqdo', 'njahan', 'sprestrelski', 'jew005'],\n 'Project Group 2': ['omakbari', 'mlucernas', 'jaouyang'],\n 'Project Group 3': ['mbachar', 'arh003', 'bhkwon', 'auhm', 'etwang'],\n 'Project Group 5': ['z9sun', 'shw007', 'h7xie', 'yux029'],\n 'Project Group 9': ['yug027', 'ziguan', 'yum013', 'hozhao'],\n 'Project Group 10': ['kkn003', 'dtp004', 'kvphan', 't8vo'],\n 'Project Group 11': [],\n 'Project Group 12': ['boho', 'jis033', 'yuw095', 'xuy001'],\n 'Project Group 14': ['mastaund', 'cmmcdonald', 't7ngo', 'gzatarai'],\n 'Project Group 16': ['ifulgenc', 'rygoh', 'ahiyer', 'pdn002'],\n 'Project Group 18': ['ckentish', 'rkodali', 'bmlincol'],\n 'Project Group 19': ['lloo', 'ax008752', 'h5ly'],\n 'Project Group 20': ['edmadera', 'smarwah', 'jwmccull', 'rlothanh'],\n 'Project Group 21': ['eparise', 'spierce', 'nporemba', 'jeqi'],\n 'Project Group 22': ['lgtan', 'mtedjo', 'jtornero', 'atrapena'],\n 'Project Group 23': ['zhw058', 'y2wei', 'h5yoon'],\n 'Project Group 24': ['chsanche', 'dysander', 'arsobhan', 'sfsuresh'],\n 'Queen Mac & loyal subjects': ['gbengard', 'jel031', 'epei', 'mreta', 'mnyu'],\n 'Raffery': ['zcarolino', 'ruc003', 'bcurrier', 'rifische'],\n 'Rando': ['tgatewood', 'k1htet', 'jil029', 'semcdonnell'],\n 'RandomName': ['w3dong', 'jil185', 'mil011', 'yus029'],\n 'Rise and Grind': ['ncardozo', 'stfuhrma', 'tal005', 'sminowada'],\n 'shilpa, chris, daniel, and aman.': ['schowbey',\n  'akar',\n  'drmathew',\n  'cvillafa'],\n 'Slayerz': ['ybaher', 'nhelsherif', 'skjandu', 'mbsharma'],\n 'Steven, Sandy, Ruiqi, Yiming, Joyce': ['yijia',\n  'zil039',\n  'ruw004',\n  'j4xie',\n  'q1yan'],\n 'Subway Before 108': ['jpc005', 'd6le', 'anl049', 'jal086', 'maw022'],\n 'TBD': ['vavila', 'srh002', 'j8ly', 'nhn005'],\n 'Team 108': ['d2cook', 'ndamle', 'dfinn', 'alotti', 'psaluja'],\n 'Team NERV': ['m1cohen', 'ahamid', 'thsiao', 'hmendoza', 'jpalicki'],\n 'Team Number 1': ['hoguan', 'kdl002', 'jiy040', 'wiyu'],\n 'Team Real': ['hajin', 'wpalmaor'],\n 'The A Team': ['a3barbosa', 'adchung', 'a1ho', 'amanlangit', 'anivarthi'],\n 'The data avengers': ['erchen', 'zhl023', 'zsui', 'zixiong'],\n 'The Group': ['csk025', 'lkebir', 'brlu', 'snsheth', 'awixson'],\n 'The group chat': ['nadelrosario',\n  'lshwang',\n  'mjignacio',\n  'spiltch',\n  'gdwhite'],\n 'The Quack GACK Group 🦆': ['kal049', 'ajpan', 'gryang', 'caz002'],\n 'WeebLosers': ['kjl001', 'alow', 'mapeng', 'wsperry', 'm3sun'],\n 'Welcome new teammates': ['y1chu', 'dblee', 'gleong', 'cll007', 'rtpham'],\n 'Weston, Nicole, Adi, Sophia, Katie': ['wchester',\n  'sconti',\n  'kdgao',\n  'n5liu',\n  'adsriram'],\n 'Yes': ['mjee', 'rrohinku', 'gmzhou'],\n 'yippee!': ['jjl025', 'apandey', 'rricafor', 'avallian', 'mavillen'],\n 'Zachary, Jisoo, Ryan, Goldar': ['zachao', 'jik006', 'goluu', 'rvanny']}"
     },
     "execution_count": 5,
     "metadata": {},
     "output_type": "execute_result"
    }
   ],
   "source": [
    "cg.group_to_emails"
   ],
   "metadata": {
    "collapsed": false,
    "ExecuteTime": {
     "start_time": "2023-05-19T12:00:19.279053Z",
     "end_time": "2023-05-19T12:00:19.286235Z"
    }
   }
  },
  {
   "cell_type": "code",
   "execution_count": 8,
   "outputs": [
    {
     "name": "stdout",
     "output_type": "stream",
     "text": [
      "grup\n",
      "i dont even know\n",
      "Kendata\n",
      "Number One Best Group\n",
      "Project Group 2\n",
      "Project Group 11\n",
      "Project Group 18\n",
      "Project Group 19\n",
      "Project Group 23\n",
      "Team Real\n",
      "Yes\n"
     ]
    }
   ],
   "source": [
    "for name, member in cg.group_to_emails.items():\n",
    "    if len(member) <= 3:\n",
    "        print(name)"
   ],
   "metadata": {
    "collapsed": false,
    "ExecuteTime": {
     "start_time": "2023-05-19T12:00:32.002580Z",
     "end_time": "2023-05-19T12:00:32.004911Z"
    }
   }
  },
  {
   "cell_type": "code",
   "execution_count": null,
   "outputs": [],
   "source": [],
   "metadata": {
    "collapsed": false
   }
  }
 ],
 "metadata": {
  "kernelspec": {
   "display_name": "Python 3",
   "language": "python",
   "name": "python3"
  },
  "language_info": {
   "codemirror_mode": {
    "name": "ipython",
    "version": 2
   },
   "file_extension": ".py",
   "mimetype": "text/x-python",
   "name": "python",
   "nbconvert_exporter": "python",
   "pygments_lexer": "ipython2",
   "version": "2.7.6"
  }
 },
 "nbformat": 4,
 "nbformat_minor": 0
}
