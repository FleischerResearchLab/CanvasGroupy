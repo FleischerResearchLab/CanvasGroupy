{
 "cells": [
  {
   "cell_type": "code",
   "execution_count": 1,
   "metadata": {
    "collapsed": true,
    "ExecuteTime": {
     "start_time": "2023-05-18T23:53:37.798366Z",
     "end_time": "2023-05-18T23:53:38.120290Z"
    }
   },
   "outputs": [],
   "source": [
    "from CanvasGroupy import *"
   ]
  },
  {
   "cell_type": "code",
   "execution_count": 2,
   "outputs": [
    {
     "name": "stdout",
     "output_type": "stream",
     "text": [
      "Successfully Authenticated. GitHub account: \u001B[92m scott-yj-yang \u001B[0m\n",
      "Target Organization Set: \u001B[92m COGS118A \u001B[0m\n",
      "\u001B[92mAuthorization Successful!\u001B[0m\n",
      "Course Set: \u001B[92m COGS 118A - Supvr/Mach Learning Algorithms - Fleischer [SP23] \u001B[0m\n",
      "Getting List of Users... This might take a while...\n",
      "Users Fetch Complete! The course has \u001B[94m160\u001B[0m students.\n",
      "Setting Group Category... \n",
      "Group Category: \u001B[92mFinal Project\u001B[0m Set!\n"
     ]
    }
   ],
   "source": [
    "ghg = GitHubGroup(\"../../credentials.json\", org=\"COGS118A\")\n",
    "cg = CanvasGroup(\"../../credentials.json\", course_id=45059, group_category=\"Final Project\")"
   ],
   "metadata": {
    "collapsed": false,
    "ExecuteTime": {
     "start_time": "2023-05-18T23:53:38.348861Z",
     "end_time": "2023-05-18T23:53:52.284585Z"
    }
   }
  },
  {
   "cell_type": "code",
   "execution_count": 3,
   "outputs": [],
   "source": [
    "grading = Grading(ghg, cg)\n"
   ],
   "metadata": {
    "collapsed": false,
    "ExecuteTime": {
     "start_time": "2023-05-18T23:53:52.286193Z",
     "end_time": "2023-05-18T23:53:52.288402Z"
    }
   }
  },
  {
   "cell_type": "code",
   "execution_count": 4,
   "outputs": [],
   "source": [
    "repo = ghg.get_repo(\"Group1-SP23-Testing\")"
   ],
   "metadata": {
    "collapsed": false,
    "ExecuteTime": {
     "start_time": "2023-05-18T23:53:52.289000Z",
     "end_time": "2023-05-18T23:53:52.705802Z"
    }
   }
  },
  {
   "cell_type": "code",
   "execution_count": 6,
   "outputs": [
    {
     "name": "stdout",
     "output_type": "stream",
     "text": [
      "Assignment \u001B[92mFinal Project Proposal\u001B[0m Link!\n",
      "Grade for \u001B[92mgrader-cogs118a-01\u001B[0m Posted!\n"
     ]
    }
   ],
   "source": [
    "grading.grade_project(repo, \"Proposal\", assignment_id=651728, post=True)"
   ],
   "metadata": {
    "collapsed": false,
    "ExecuteTime": {
     "start_time": "2023-05-18T23:54:03.741163Z",
     "end_time": "2023-05-18T23:54:05.137950Z"
    }
   }
  },
  {
   "cell_type": "code",
   "execution_count": null,
   "outputs": [],
   "source": [],
   "metadata": {
    "collapsed": false
   }
  }
 ],
 "metadata": {
  "kernelspec": {
   "display_name": "Python 3",
   "language": "python",
   "name": "python3"
  },
  "language_info": {
   "codemirror_mode": {
    "name": "ipython",
    "version": 2
   },
   "file_extension": ".py",
   "mimetype": "text/x-python",
   "name": "python",
   "nbconvert_exporter": "python",
   "pygments_lexer": "ipython2",
   "version": "2.7.6"
  }
 },
 "nbformat": 4,
 "nbformat_minor": 0
}
