{
 "cells": [
  {
   "cell_type": "code",
   "execution_count": 1,
   "metadata": {
    "collapsed": true,
    "ExecuteTime": {
     "start_time": "2023-05-25T10:35:49.579807Z",
     "end_time": "2023-05-25T10:35:49.947093Z"
    }
   },
   "outputs": [],
   "source": [
    "from CanvasGroupy import *"
   ]
  },
  {
   "cell_type": "code",
   "execution_count": 2,
   "outputs": [
    {
     "name": "stdout",
     "output_type": "stream",
     "text": [
      "Successfully Authenticated. GitHub account: \u001B[92m scott-yj-yang \u001B[0m\n",
      "Target Organization Set: \u001B[92m COGS118A \u001B[0m\n",
      "\u001B[92mAuthorization Successful!\u001B[0m\n",
      "Course Set: \u001B[92m COGS 118A - Supvr/Mach Learning Algorithms - Fleischer [SP23] \u001B[0m\n",
      "Getting List of Users... This might take a while...\n",
      "Users Fetch Complete! The course has \u001B[94m160\u001B[0m students.\n",
      "Setting Group Category... \n",
      "Group Category: \u001B[92mFinal Project\u001B[0m Set!\n"
     ]
    }
   ],
   "source": [
    "ghg = GitHubGroup(\"../../credentials.json\", org=\"COGS118A\")\n",
    "cg = CanvasGroup(\"../../credentials.json\", course_id=45059, group_category=\"Final Project\")"
   ],
   "metadata": {
    "collapsed": false,
    "ExecuteTime": {
     "start_time": "2023-05-25T10:35:50.387886Z",
     "end_time": "2023-05-25T10:36:05.508490Z"
    }
   }
  },
  {
   "cell_type": "code",
   "execution_count": 3,
   "outputs": [],
   "source": [
    "grading = Grading(ghg, cg)"
   ],
   "metadata": {
    "collapsed": false,
    "ExecuteTime": {
     "start_time": "2023-05-25T10:36:05.509929Z",
     "end_time": "2023-05-25T10:36:05.511553Z"
    }
   }
  },
  {
   "cell_type": "code",
   "execution_count": 4,
   "outputs": [],
   "source": [
    "repo = ghg.get_repo(\"Group1-SP23-Testing\")"
   ],
   "metadata": {
    "collapsed": false,
    "ExecuteTime": {
     "start_time": "2023-05-25T10:10:37.976641Z",
     "end_time": "2023-05-25T10:10:38.424073Z"
    }
   }
  },
  {
   "cell_type": "code",
   "execution_count": 6,
   "outputs": [
    {
     "name": "stdout",
     "output_type": "stream",
     "text": [
      "Assignment \u001B[92mFinal Project Proposal\u001B[0m Link!\n",
      "Grade for \u001B[92mgrader-cogs118a-01\u001B[0m Posted!\n"
     ]
    }
   ],
   "source": [
    "grading.grade_project(repo, \"Proposal\", assignment_id=651728, post=True)"
   ],
   "metadata": {
    "collapsed": false,
    "ExecuteTime": {
     "start_time": "2023-05-18T23:54:03.741163Z",
     "end_time": "2023-05-18T23:54:05.137950Z"
    }
   }
  },
  {
   "cell_type": "code",
   "execution_count": 4,
   "outputs": [
    {
     "name": "stdout",
     "output_type": "stream",
     "text": [
      "\u001B[92mGroup001-SP23's proposal Graded. \u001B[0m\n",
      "\u001B[92mGroup002-SP23's proposal Graded. \u001B[0m\n",
      "\u001B[92mGroup003-SP23's proposal Graded. \u001B[0m\n",
      "\u001B[92mGroup004-SP23's proposal Graded. \u001B[0m\n",
      "\u001B[92mGroup005-SP23's proposal Graded. \u001B[0m\n",
      "\u001B[92mGroup006-SP23's proposal Graded. \u001B[0m\n",
      "\u001B[92mGroup007-SP23's proposal Graded. \u001B[0m\n",
      "\u001B[92mGroup008-SP23's proposal Graded. \u001B[0m\n",
      "\u001B[92mGroup009-SP23's proposal Graded. \u001B[0m\n",
      "\u001B[92mGroup010-SP23's proposal Graded. \u001B[0m\n",
      "\u001B[92mGroup011-SP23's proposal Graded. \u001B[0m\n",
      "\u001B[92mGroup012-SP23's proposal Graded. \u001B[0m\n",
      "\u001B[92mGroup013-SP23's proposal Graded. \u001B[0m\n",
      "\u001B[92mGroup014-SP23's proposal Graded. \u001B[0m\n",
      "\u001B[92mGroup015-SP23's proposal Graded. \u001B[0m\n",
      "\u001B[92mGroup016-SP23's proposal Graded. \u001B[0m\n",
      "\u001B[92mGroup017-SP23's proposal Graded. \u001B[0m\n",
      "\u001B[92mGroup018-SP23's proposal Graded. \u001B[0m\n",
      "\u001B[92mGroup019-SP23's proposal Graded. \u001B[0m\n",
      "\u001B[92mGroup020-SP23's proposal Graded. \u001B[0m\n",
      "\u001B[92mGroup021-SP23's proposal Graded. \u001B[0m\n",
      "\u001B[92mGroup022-SP23's proposal Graded. \u001B[0m\n",
      "\u001B[93mGroup023-SP23's proposal Not Graded. \u001B[0m\n",
      "\u001B[92mGroup024-SP23's proposal Graded. \u001B[0m\n",
      "\u001B[92mGroup025-SP23's proposal Graded. \u001B[0m\n",
      "\u001B[92mGroup026-SP23's proposal Graded. \u001B[0m\n",
      "\u001B[92mGroup027-SP23's proposal Graded. \u001B[0m\n",
      "\u001B[92mGroup028-SP23's proposal Graded. \u001B[0m\n",
      "\u001B[92mGroup029-SP23's proposal Graded. \u001B[0m\n",
      "\u001B[92mGroup030-SP23's proposal Graded. \u001B[0m\n",
      "\u001B[92mGroup031-SP23's proposal Graded. \u001B[0m\n",
      "\u001B[92mGroup032-SP23's proposal Graded. \u001B[0m\n",
      "\u001B[92mGroup033-SP23's proposal Graded. \u001B[0m\n",
      "\u001B[92mGroup034-SP23's proposal Graded. \u001B[0m\n",
      "\u001B[92mGroup035-SP23's proposal Graded. \u001B[0m\n",
      "\u001B[92mGroup036-SP23's proposal Graded. \u001B[0m\n",
      "\u001B[92mGroup037-SP23's proposal Graded. \u001B[0m\n",
      "\u001B[92mGroup038-SP23's proposal Graded. \u001B[0m\n",
      "\u001B[92mGroup039-SP23's proposal Graded. \u001B[0m\n"
     ]
    }
   ],
   "source": [
    "for i in range(1, 40):\n",
    "    repo_name = f\"Group{i:03}-SP23\"\n",
    "    repo = ghg.get_repo(repo_name)\n",
    "    grading.check_graded(repo, \"proposal\")\n",
    "    # grading.grade_project(repo, \"Proposal\", assignment_id=651728, post=True)"
   ],
   "metadata": {
    "collapsed": false,
    "ExecuteTime": {
     "start_time": "2023-05-25T10:36:05.513985Z",
     "end_time": "2023-05-25T10:36:30.429208Z"
    }
   }
  },
  {
   "cell_type": "code",
   "execution_count": null,
   "outputs": [],
   "source": [],
   "metadata": {
    "collapsed": false
   }
  }
 ],
 "metadata": {
  "kernelspec": {
   "display_name": "Python 3",
   "language": "python",
   "name": "python3"
  },
  "language_info": {
   "codemirror_mode": {
    "name": "ipython",
    "version": 2
   },
   "file_extension": ".py",
   "mimetype": "text/x-python",
   "name": "python",
   "nbconvert_exporter": "python",
   "pygments_lexer": "ipython2",
   "version": "2.7.6"
  }
 },
 "nbformat": 4,
 "nbformat_minor": 0
}
